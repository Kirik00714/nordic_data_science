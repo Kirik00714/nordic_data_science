{
 "cells": [
  {
   "cell_type": "code",
   "execution_count": 202,
   "metadata": {},
   "outputs": [],
   "source": [
    "text = \"\"\"Жили-были дедушка да бабушка. Была у них внучка Машенька.\n",
    "Собрались раз подружки в лес по грибы да по ягоды. Пришли звать с собой и Машеньку.\n",
    "— Дедушка, бабушка, — говорит Машенька, — отпустите меня в лес с подружками!\n",
    "Дедушка с бабушкой отвечают:\n",
    "— Иди, только смотри от подружек не отставай, не то заблудишься.\n",
    "Пришли девушки в лес, стали собирать грибы да ягоды. Вот Машенька — деревце за деревце, кустик за кустик — и ушла далеко-далеко от подружек.\n",
    "Стала она аукаться, стала их звать, а подружки не слышат, не отзываются.\n",
    "Ходила, ходила Машенька по лесу — совсем заблудилась.\n",
    "Пришла она в саму глушь, в саму чащу. Видит — стоит избушка. Постучала Машенька в дверь — не отвечают. Толкнула она дверь — дверь и открылась.\n",
    "Вошла Машенька в избушку, села у окна на лавочку.\n",
    "Села и думает:\n",
    "«Кто же здесь живет? Почему никого не видно?..»\n",
    "А в той избушке жил большущий медведь. Только его тогда дома не было: он по лесу ходил.\n",
    "Вернулся вечером медведь, увидел Машеньку, обрадовался.\n",
    "— Ага, — говорит, — теперь не отпущу тебя! Будешь у меня жить. Будешь печку топить, будешь кашу варить, меня кашей кормить.\n",
    "Потужила Маша, погоревала, да ничего не поделаешь. Стала она жить у медведя в избушке.\n",
    "Медведь на целый день уйдет в лес, а Машеньке наказывает никуда без него из избушки не выходить.\n",
    "— А если уйдешь, — говорит, — все равно поймаю и тогда уж съем!\n",
    "Стала Машенька думать, как ей от медведя убежать. Кругом лес, в какую сторону идти — не знает, спросить не у кого...\n",
    "Думала она, думала и придумала.\n",
    "Приходит раз медведь из лесу, а Машенька и говорит ему:\n",
    "— Медведь, медведь, отпусти меня на денек в деревню: я бабушке да дедушке гостинцев снесу.\n",
    "— Нет, — говорит медведь, — ты в лесу заблудишься. Давай гостинцы, я их сам отнесу.\n",
    "А Машеньке того и надо!\n",
    "Напекла она пирожков, достала большой-пребольшой короб и говорит медведю:\n",
    "— Вот, смотри: я в этот короб положу пирожки, а ты отнеси их дедушке да бабушке. Да помни: короб по дороге не открывай, пирожки не вынимай. Я на дубок влезу, за тобой следить буду!\n",
    "— Ладно, — отвечает медведь, — давай короб!\n",
    "Машенька говорит:\n",
    "— Выйди на крылечко, посмотри, не идет ли дождик!\n",
    "Только медведь вышел на крылечко, Машенька сейчас же залезла в короб, а на голову себе блюдо с пирожками поставила.\n",
    "Вернулся медведь, видит — короб готов. Взвалил его на спину и пошел в деревню.\n",
    "Идет медведь между елками, бредет медведь между березками, в овражки спускается, на пригорки поднимается. Шел-шел, устал и говорит:\n",
    "\n",
    "— Сяду на пенек,\n",
    "Съем пирожок!\n",
    "\n",
    "А Машенька из короба:\n",
    "\n",
    "— Вижу, вижу!\n",
    "Не садись на пенек,\n",
    "Не ешь пирожок!\n",
    "Неси бабушке,\n",
    "Неси дедушке!\n",
    "\n",
    "— Ишь какая глазастая, — говорит медведь, — все видит!\n",
    "Поднял он короб и пошел дальше. Шел-шел, шел-шел, остановился, сел и говорит:\n",
    "\n",
    "— Сяду на пенек,\n",
    "Съем пирожок!\n",
    "\n",
    "А Машенька из короба опять:\n",
    "\n",
    "— Вижу, вижу!\n",
    "Не садись на пенек,\n",
    "Не ешь пирожок!\n",
    "Неси бабушке,\n",
    "Неси дедушке!\n",
    "\n",
    "Удивился медведь:\n",
    "— Вот какая хитрая! Высоко сидит, далеко глядит!\n",
    "Встал и пошел скорее.\n",
    "Пришел в деревню, нашел дом, где дедушка с бабушкой жили, и давай изо всех сил стучать в ворота:\n",
    "— Тук-тук-тук! Отпирайте, открывайте! Я вам от Машеньки гостинцев принес.\n",
    "А собаки почуяли медведя и бросились на него. Со всех дворов бегут, лают.\n",
    "Испугался медведь, поставил короб у ворот и пустился в лес без оглядки.\n",
    "Вышли тут дедушка да бабушка к воротам. Видят — короб стоит.\n",
    "— Что это в коробе? — говорит бабушка.\n",
    "А дедушка поднял крышку, смотрит — и глазам своим не верит: в коробе Машенька сидит, живехонька и здоровехонька.\n",
    "Обрадовались дедушка да бабушка. Стали Машеньку обнимать, целовать, умницей называть. Вот и сказке Маша и медведь конец, а кто слушал - молодец!\"\"\""
   ]
  },
  {
   "cell_type": "code",
   "execution_count": 203,
   "metadata": {},
   "outputs": [],
   "source": [
    "text = text.replace('!',\".\").replace('?','.').replace('\\n','.').replace(' — ','.').replace(',','')"
   ]
  },
  {
   "cell_type": "code",
   "execution_count": 204,
   "metadata": {},
   "outputs": [],
   "source": [
    "text_1 = text.split(\".\")"
   ]
  },
  {
   "cell_type": "code",
   "execution_count": 205,
   "metadata": {},
   "outputs": [],
   "source": [
    "import pandas as pd\n",
    "import numpy as np"
   ]
  },
  {
   "cell_type": "code",
   "execution_count": 206,
   "metadata": {},
   "outputs": [],
   "source": [
    "df = pd.DataFrame(text_1,columns=[\"Sentences\"])"
   ]
  },
  {
   "cell_type": "code",
   "execution_count": 207,
   "metadata": {},
   "outputs": [
    {
     "data": {
      "text/html": [
       "<div>\n",
       "<style scoped>\n",
       "    .dataframe tbody tr th:only-of-type {\n",
       "        vertical-align: middle;\n",
       "    }\n",
       "\n",
       "    .dataframe tbody tr th {\n",
       "        vertical-align: top;\n",
       "    }\n",
       "\n",
       "    .dataframe thead th {\n",
       "        text-align: right;\n",
       "    }\n",
       "</style>\n",
       "<table border=\"1\" class=\"dataframe\">\n",
       "  <thead>\n",
       "    <tr style=\"text-align: right;\">\n",
       "      <th></th>\n",
       "      <th>Sentences</th>\n",
       "    </tr>\n",
       "  </thead>\n",
       "  <tbody>\n",
       "    <tr>\n",
       "      <th>0</th>\n",
       "      <td>Жили-были дедушка да бабушка</td>\n",
       "    </tr>\n",
       "    <tr>\n",
       "      <th>1</th>\n",
       "      <td>Была у них внучка Машенька</td>\n",
       "    </tr>\n",
       "    <tr>\n",
       "      <th>2</th>\n",
       "      <td></td>\n",
       "    </tr>\n",
       "    <tr>\n",
       "      <th>3</th>\n",
       "      <td>Собрались раз подружки в лес по грибы да по ягоды</td>\n",
       "    </tr>\n",
       "    <tr>\n",
       "      <th>4</th>\n",
       "      <td>Пришли звать с собой и Машеньку</td>\n",
       "    </tr>\n",
       "    <tr>\n",
       "      <th>...</th>\n",
       "      <td>...</td>\n",
       "    </tr>\n",
       "    <tr>\n",
       "      <th>161</th>\n",
       "      <td></td>\n",
       "    </tr>\n",
       "    <tr>\n",
       "      <th>162</th>\n",
       "      <td>Обрадовались дедушка да бабушка</td>\n",
       "    </tr>\n",
       "    <tr>\n",
       "      <th>163</th>\n",
       "      <td>Стали Машеньку обнимать целовать умницей назы...</td>\n",
       "    </tr>\n",
       "    <tr>\n",
       "      <th>164</th>\n",
       "      <td>Вот и сказке Маша и медведь конец а кто слуша...</td>\n",
       "    </tr>\n",
       "    <tr>\n",
       "      <th>165</th>\n",
       "      <td></td>\n",
       "    </tr>\n",
       "  </tbody>\n",
       "</table>\n",
       "<p>166 rows × 1 columns</p>\n",
       "</div>"
      ],
      "text/plain": [
       "                                             Sentences\n",
       "0                         Жили-были дедушка да бабушка\n",
       "1                           Была у них внучка Машенька\n",
       "2                                                     \n",
       "3    Собрались раз подружки в лес по грибы да по ягоды\n",
       "4                      Пришли звать с собой и Машеньку\n",
       "..                                                 ...\n",
       "161                                                   \n",
       "162                    Обрадовались дедушка да бабушка\n",
       "163   Стали Машеньку обнимать целовать умницей назы...\n",
       "164   Вот и сказке Маша и медведь конец а кто слуша...\n",
       "165                                                   \n",
       "\n",
       "[166 rows x 1 columns]"
      ]
     },
     "execution_count": 207,
     "metadata": {},
     "output_type": "execute_result"
    }
   ],
   "source": [
    "df"
   ]
  },
  {
   "cell_type": "code",
   "execution_count": 208,
   "metadata": {},
   "outputs": [],
   "source": [
    " df_ = df[\"Sentences\"].apply(lambda sentence :sentence.lower())"
   ]
  },
  {
   "cell_type": "code",
   "execution_count": 209,
   "metadata": {},
   "outputs": [
    {
     "data": {
      "text/plain": [
       "0                           жили-были дедушка да бабушка\n",
       "1                             была у них внучка машенька\n",
       "2                                                       \n",
       "3      собрались раз подружки в лес по грибы да по ягоды\n",
       "4                        пришли звать с собой и машеньку\n",
       "                             ...                        \n",
       "161                                                     \n",
       "162                      обрадовались дедушка да бабушка\n",
       "163     стали машеньку обнимать целовать умницей назы...\n",
       "164     вот и сказке маша и медведь конец а кто слуша...\n",
       "165                                                     \n",
       "Name: Sentences, Length: 166, dtype: object"
      ]
     },
     "execution_count": 209,
     "metadata": {},
     "output_type": "execute_result"
    }
   ],
   "source": [
    "df_"
   ]
  },
  {
   "cell_type": "code",
   "execution_count": 210,
   "metadata": {},
   "outputs": [],
   "source": [
    "mask = ((pd.Series(df[\"Sentences\"]).str.contains(\"маша\")) | (pd.Series(df[\"Sentences\"]).str.contains(\"медведь\")))"
   ]
  },
  {
   "cell_type": "code",
   "execution_count": 211,
   "metadata": {},
   "outputs": [
    {
     "data": {
      "text/html": [
       "<div>\n",
       "<style scoped>\n",
       "    .dataframe tbody tr th:only-of-type {\n",
       "        vertical-align: middle;\n",
       "    }\n",
       "\n",
       "    .dataframe tbody tr th {\n",
       "        vertical-align: top;\n",
       "    }\n",
       "\n",
       "    .dataframe thead th {\n",
       "        text-align: right;\n",
       "    }\n",
       "</style>\n",
       "<table border=\"1\" class=\"dataframe\">\n",
       "  <thead>\n",
       "    <tr style=\"text-align: right;\">\n",
       "      <th></th>\n",
       "      <th>Sentences</th>\n",
       "    </tr>\n",
       "  </thead>\n",
       "  <tbody>\n",
       "    <tr>\n",
       "      <th>0</th>\n",
       "      <td>Жили-были дедушка да бабушка</td>\n",
       "    </tr>\n",
       "    <tr>\n",
       "      <th>1</th>\n",
       "      <td>Была у них внучка Машенька</td>\n",
       "    </tr>\n",
       "    <tr>\n",
       "      <th>2</th>\n",
       "      <td></td>\n",
       "    </tr>\n",
       "    <tr>\n",
       "      <th>3</th>\n",
       "      <td>Собрались раз подружки в лес по грибы да по ягоды</td>\n",
       "    </tr>\n",
       "    <tr>\n",
       "      <th>4</th>\n",
       "      <td>Пришли звать с собой и Машеньку</td>\n",
       "    </tr>\n",
       "    <tr>\n",
       "      <th>...</th>\n",
       "      <td>...</td>\n",
       "    </tr>\n",
       "    <tr>\n",
       "      <th>160</th>\n",
       "      <td>и глазам своим не верит: в коробе Машенька сид...</td>\n",
       "    </tr>\n",
       "    <tr>\n",
       "      <th>161</th>\n",
       "      <td></td>\n",
       "    </tr>\n",
       "    <tr>\n",
       "      <th>162</th>\n",
       "      <td>Обрадовались дедушка да бабушка</td>\n",
       "    </tr>\n",
       "    <tr>\n",
       "      <th>163</th>\n",
       "      <td>Стали Машеньку обнимать целовать умницей назы...</td>\n",
       "    </tr>\n",
       "    <tr>\n",
       "      <th>165</th>\n",
       "      <td></td>\n",
       "    </tr>\n",
       "  </tbody>\n",
       "</table>\n",
       "<p>153 rows × 1 columns</p>\n",
       "</div>"
      ],
      "text/plain": [
       "                                             Sentences\n",
       "0                         Жили-были дедушка да бабушка\n",
       "1                           Была у них внучка Машенька\n",
       "2                                                     \n",
       "3    Собрались раз подружки в лес по грибы да по ягоды\n",
       "4                      Пришли звать с собой и Машеньку\n",
       "..                                                 ...\n",
       "160  и глазам своим не верит: в коробе Машенька сид...\n",
       "161                                                   \n",
       "162                    Обрадовались дедушка да бабушка\n",
       "163   Стали Машеньку обнимать целовать умницей назы...\n",
       "165                                                   \n",
       "\n",
       "[153 rows x 1 columns]"
      ]
     },
     "execution_count": 211,
     "metadata": {},
     "output_type": "execute_result"
    }
   ],
   "source": [
    "df[~mask]"
   ]
  },
  {
   "cell_type": "code",
   "execution_count": 212,
   "metadata": {},
   "outputs": [],
   "source": [
    "text_2 = text.lower().split(\".\")\n",
    "df_2 = pd.DataFrame(text_2,columns=[\"Sentences\"])"
   ]
  },
  {
   "cell_type": "code",
   "execution_count": 213,
   "metadata": {},
   "outputs": [],
   "source": [
    "mask_1 = ((pd.Series(df_2[\"Sentences\"]).str.contains(\"маша\")))"
   ]
  },
  {
   "cell_type": "code",
   "execution_count": 214,
   "metadata": {},
   "outputs": [],
   "source": [
    "ds__ = df_2[mask_1]"
   ]
  },
  {
   "cell_type": "code",
   "execution_count": 215,
   "metadata": {},
   "outputs": [
    {
     "data": {
      "text/html": [
       "<div>\n",
       "<style scoped>\n",
       "    .dataframe tbody tr th:only-of-type {\n",
       "        vertical-align: middle;\n",
       "    }\n",
       "\n",
       "    .dataframe tbody tr th {\n",
       "        vertical-align: top;\n",
       "    }\n",
       "\n",
       "    .dataframe thead th {\n",
       "        text-align: right;\n",
       "    }\n",
       "</style>\n",
       "<table border=\"1\" class=\"dataframe\">\n",
       "  <thead>\n",
       "    <tr style=\"text-align: right;\">\n",
       "      <th></th>\n",
       "      <th>Sentences</th>\n",
       "    </tr>\n",
       "  </thead>\n",
       "  <tbody>\n",
       "    <tr>\n",
       "      <th>50</th>\n",
       "      <td>потужила маша погоревала да ничего не поделаешь</td>\n",
       "    </tr>\n",
       "    <tr>\n",
       "      <th>164</th>\n",
       "      <td>вот и сказке маша и медведь конец а кто слуша...</td>\n",
       "    </tr>\n",
       "  </tbody>\n",
       "</table>\n",
       "</div>"
      ],
      "text/plain": [
       "                                             Sentences\n",
       "50     потужила маша погоревала да ничего не поделаешь\n",
       "164   вот и сказке маша и медведь конец а кто слуша..."
      ]
     },
     "execution_count": 215,
     "metadata": {},
     "output_type": "execute_result"
    }
   ],
   "source": [
    "ds__"
   ]
  },
  {
   "cell_type": "code",
   "execution_count": 217,
   "metadata": {},
   "outputs": [
    {
     "name": "stdout",
     "output_type": "stream",
     "text": [
      "2\n"
     ]
    }
   ],
   "source": [
    "count = 0\n",
    "for j, i in ds__.iterrows():\n",
    "    a =list(i['Sentences'].strip().split())\n",
    "    for z in a:\n",
    "        if z == 'маша':\n",
    "            count += 1\n",
    "print(count)"
   ]
  },
  {
   "cell_type": "code",
   "execution_count": 257,
   "metadata": {},
   "outputs": [],
   "source": [
    " df_2[\"Count\"] = df_2[\"Sentences\"].apply(lambda sentence : 'медведь' in sentence )"
   ]
  },
  {
   "cell_type": "code",
   "execution_count": 258,
   "metadata": {},
   "outputs": [
    {
     "data": {
      "text/html": [
       "<div>\n",
       "<style scoped>\n",
       "    .dataframe tbody tr th:only-of-type {\n",
       "        vertical-align: middle;\n",
       "    }\n",
       "\n",
       "    .dataframe tbody tr th {\n",
       "        vertical-align: top;\n",
       "    }\n",
       "\n",
       "    .dataframe thead th {\n",
       "        text-align: right;\n",
       "    }\n",
       "</style>\n",
       "<table border=\"1\" class=\"dataframe\">\n",
       "  <thead>\n",
       "    <tr style=\"text-align: right;\">\n",
       "      <th></th>\n",
       "      <th>Sentences</th>\n",
       "      <th>Count</th>\n",
       "    </tr>\n",
       "  </thead>\n",
       "  <tbody>\n",
       "    <tr>\n",
       "      <th>0</th>\n",
       "      <td>жили-были дедушка да бабушка</td>\n",
       "      <td>False</td>\n",
       "    </tr>\n",
       "    <tr>\n",
       "      <th>1</th>\n",
       "      <td>была у них внучка машенька</td>\n",
       "      <td>False</td>\n",
       "    </tr>\n",
       "    <tr>\n",
       "      <th>2</th>\n",
       "      <td></td>\n",
       "      <td>False</td>\n",
       "    </tr>\n",
       "    <tr>\n",
       "      <th>3</th>\n",
       "      <td>собрались раз подружки в лес по грибы да по ягоды</td>\n",
       "      <td>False</td>\n",
       "    </tr>\n",
       "    <tr>\n",
       "      <th>4</th>\n",
       "      <td>пришли звать с собой и машеньку</td>\n",
       "      <td>False</td>\n",
       "    </tr>\n",
       "    <tr>\n",
       "      <th>...</th>\n",
       "      <td>...</td>\n",
       "      <td>...</td>\n",
       "    </tr>\n",
       "    <tr>\n",
       "      <th>161</th>\n",
       "      <td></td>\n",
       "      <td>False</td>\n",
       "    </tr>\n",
       "    <tr>\n",
       "      <th>162</th>\n",
       "      <td>обрадовались дедушка да бабушка</td>\n",
       "      <td>False</td>\n",
       "    </tr>\n",
       "    <tr>\n",
       "      <th>163</th>\n",
       "      <td>стали машеньку обнимать целовать умницей назы...</td>\n",
       "      <td>False</td>\n",
       "    </tr>\n",
       "    <tr>\n",
       "      <th>164</th>\n",
       "      <td>вот и сказке маша и медведь конец а кто слуша...</td>\n",
       "      <td>True</td>\n",
       "    </tr>\n",
       "    <tr>\n",
       "      <th>165</th>\n",
       "      <td></td>\n",
       "      <td>False</td>\n",
       "    </tr>\n",
       "  </tbody>\n",
       "</table>\n",
       "<p>166 rows × 2 columns</p>\n",
       "</div>"
      ],
      "text/plain": [
       "                                             Sentences  Count\n",
       "0                         жили-были дедушка да бабушка  False\n",
       "1                           была у них внучка машенька  False\n",
       "2                                                       False\n",
       "3    собрались раз подружки в лес по грибы да по ягоды  False\n",
       "4                      пришли звать с собой и машеньку  False\n",
       "..                                                 ...    ...\n",
       "161                                                     False\n",
       "162                    обрадовались дедушка да бабушка  False\n",
       "163   стали машеньку обнимать целовать умницей назы...  False\n",
       "164   вот и сказке маша и медведь конец а кто слуша...   True\n",
       "165                                                     False\n",
       "\n",
       "[166 rows x 2 columns]"
      ]
     },
     "execution_count": 258,
     "metadata": {},
     "output_type": "execute_result"
    }
   ],
   "source": [
    "df_2"
   ]
  },
  {
   "cell_type": "code",
   "execution_count": 264,
   "metadata": {},
   "outputs": [
    {
     "data": {
      "text/plain": [
       "2"
      ]
     },
     "execution_count": 264,
     "metadata": {},
     "output_type": "execute_result"
    }
   ],
   "source": [
    "df_2[\"Sentences\"].apply(lambda sentence : sentence.count('маша')).sum()"
   ]
  },
  {
   "cell_type": "code",
   "execution_count": null,
   "metadata": {},
   "outputs": [],
   "source": []
  }
 ],
 "metadata": {
  "kernelspec": {
   "display_name": "Python 3",
   "language": "python",
   "name": "python3"
  },
  "language_info": {
   "codemirror_mode": {
    "name": "ipython",
    "version": 3
   },
   "file_extension": ".py",
   "mimetype": "text/x-python",
   "name": "python",
   "nbconvert_exporter": "python",
   "pygments_lexer": "ipython3",
   "version": "3.8.5"
  }
 },
 "nbformat": 4,
 "nbformat_minor": 4
}
