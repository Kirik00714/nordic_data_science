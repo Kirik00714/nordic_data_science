{
 "cells": [
  {
   "cell_type": "code",
   "execution_count": null,
   "metadata": {},
   "outputs": [],
   "source": [
    "import pandas as pd\n",
    "%matplotlib inline\n",
    "import seaborn as sns\n",
    "import matplotlib.pyplot as plt "
   ]
  },
  {
   "cell_type": "markdown",
   "metadata": {},
   "source": [
    "## Загрузка и знакомство с данными"
   ]
  },
  {
   "cell_type": "markdown",
   "metadata": {},
   "source": [
    "Для работы вам понадобятся предобработанные данные датасета для «Прогноза популярности статьи на Хабре»."
   ]
  },
  {
   "cell_type": "code",
   "execution_count": null,
   "metadata": {},
   "outputs": [],
   "source": [
    "df = pd.read_csv('howpop_train.csv')"
   ]
  },
  {
   "cell_type": "code",
   "execution_count": null,
   "metadata": {},
   "outputs": [],
   "source": [
    "df.shape"
   ]
  },
  {
   "cell_type": "code",
   "execution_count": null,
   "metadata": {},
   "outputs": [],
   "source": [
    "df.head(3).T"
   ]
  },
  {
   "cell_type": "markdown",
   "metadata": {},
   "source": [
    "Избавимся сразу от переменных, названия которых заканчиваются на `_lognorm`. Выберем их с помощью `filter()` и удалим drop-ом:"
   ]
  },
  {
   "cell_type": "code",
   "execution_count": null,
   "metadata": {},
   "outputs": [],
   "source": [
    "df.drop(filter(lambda c: c.endswith('_lognorm'), df.columns), \n",
    "        axis = 1,       # axis = 1: столбцы \n",
    "        inplace = True) # избавляет от необходимости сохранять датасет"
   ]
  },
  {
   "cell_type": "code",
   "execution_count": null,
   "metadata": {},
   "outputs": [],
   "source": [
    "df.describe().T"
   ]
  },
  {
   "cell_type": "code",
   "execution_count": null,
   "metadata": {},
   "outputs": [],
   "source": [
    "df.describe(include = ['object', 'bool']).T # бинарные и категориальные переменные"
   ]
  },
  {
   "cell_type": "code",
   "execution_count": null,
   "metadata": {},
   "outputs": [],
   "source": [
    "# настройка внешнего вида графиков в seaborn\n",
    "sns.set_style(\"dark\")\n",
    "sns.set_palette(\"RdBu\")\n",
    "sns.set_context(\"notebook\", font_scale = 1.5, \n",
    "                rc = { \"figure.figsize\" : (15, 5), \"axes.titlesize\" : 18 })"
   ]
  },
  {
   "cell_type": "markdown",
   "metadata": {},
   "source": [
    "Столбец published (время публикации) содержит строки. Чтобы мы могли работать с этими данными как с датой/временем публикации, приведём их к типу datetime:"
   ]
  },
  {
   "cell_type": "code",
   "execution_count": null,
   "metadata": {},
   "outputs": [],
   "source": [
    "print(df.published.dtype)\n",
    "df['published'] = pd.to_datetime(df.published, yearfirst = True)\n",
    "print(df.published.dtype)"
   ]
  },
  {
   "cell_type": "code",
   "execution_count": null,
   "metadata": {},
   "outputs": [],
   "source": [
    "df.head(50).T"
   ]
  },
  {
   "cell_type": "markdown",
   "metadata": {},
   "source": [
    "Создадим несколько столбцов на основе данных о времени публикации:"
   ]
  },
  {
   "cell_type": "code",
   "execution_count": null,
   "metadata": {},
   "outputs": [],
   "source": [
    "df['year'] = [d.year for d in df.published]\n",
    "df['month'] = [d.month for d in df.published]\n",
    "\n",
    "df['dayofweek'] = [d.isoweekday() for d in df.published]\n",
    "df['hour'] = [d.hour for d in df.published]"
   ]
  },
  {
   "cell_type": "markdown",
   "metadata": {},
   "source": [
    "Теперь Ваша очередь. В каждом пункте предлагается построить картинку и с ее помощью ответить на вопрос. Конечно, можно попытаться ответить на все вопросы только с Pandas, без картинок, но я советую Вам потренироваться строить (красивые) визуализации."
   ]
  },
  {
   "cell_type": "markdown",
   "metadata": {},
   "source": [
    "## 1. В каком месяце (и какого года) было больше всего публикаций?"
   ]
  },
  {
   "cell_type": "markdown",
   "metadata": {},
   "source": [
    "* март 2016\n",
    "* март 2015\n",
    "* апрель 2015\n",
    "* апрель 2016"
   ]
  },
  {
   "cell_type": "code",
   "execution_count": null,
   "metadata": {},
   "outputs": [],
   "source": [
    "filter_1 = df['year']==2016\n",
    "filter_2 = df['year']==2015\n",
    "filter_3 = df['month']==4\n",
    "filter_4 = df['month']==3\n",
    "df__ = pd.DataFrame({'год' : ['2016.03','2016.04','2015.03','2015.04'],\n",
    "                   'количество публикаций' : [int(df.where(filter_1 & filter_4).dropna().shape[0]),\n",
    "                                    int(df.where(filter_1 & filter_3).dropna().shape[0]),\n",
    "                                    int(df.where(filter_2 & filter_4).dropna().shape[0]),\n",
    "                                    int(df.where(filter_2 & filter_3).dropna().shape[0])]})\n",
    "df__.groupby('год').sum().plot(kind='bar', rot=45);"
   ]
  },
  {
   "cell_type": "markdown",
   "metadata": {},
   "source": [
    "## 2. Проанализируйте публикации в месяце из предыдущего вопроса"
   ]
  },
  {
   "cell_type": "markdown",
   "metadata": {},
   "source": [
    "Выберите один или несколько вариантов:\n",
    "\n",
    "* Один или несколько дней сильно выделяются из общей картины\n",
    "* На хабре всегда больше статей, чем на гиктаймсе\n",
    "* По субботам на гиктаймс и на хабрахабр публикуют примерно одинаковое число статей\n",
    "\n",
    "Подсказки: постройте график зависимости числа публикаций от дня; используйте параметр hue; не заморачивайтесь сильно с ответами и не ищите скрытого смысла :)"
   ]
  },
  {
   "cell_type": "code",
   "execution_count": null,
   "metadata": {},
   "outputs": [],
   "source": [
    "filter_mas = ((filter_1 & filter_3)|(filter_1 & filter_4)|(filter_2 & filter_3)|(filter_2 & filter_4))\n",
    "df_1 = df.where(filter_mas).dropna()\n",
    "for i in [((filter_1 & filter_3),'2016.04'),((filter_1 & filter_4),'2016.03'),\n",
    "          ((filter_2 & filter_3),'2015.04'),((filter_2 & filter_4),'2015.03')]:\n",
    "    df_2 = df_1.where((i[0])).dropna()\n",
    "    df_3 =pd.DataFrame({'Количество публикаций' : [ df_2.where(df['dayofweek'] == i).dropna().shape[0]  for i in range(1,8)],\n",
    "                        'Дни недели' : [i for i in range(1,8)]})\n",
    "    df_3.groupby('Дни недели').sum().plot(kind='bar', rot=0, title = i[1] );"
   ]
  },
  {
   "cell_type": "code",
   "execution_count": null,
   "metadata": {},
   "outputs": [],
   "source": [
    "filter_mas = ((filter_1 & filter_3)|(filter_1 & filter_4)|(filter_2 & filter_3)|(filter_2 & filter_4))\n",
    "df_1 = df.where(filter_mas).dropna()\n",
    "lst = []\n",
    "lst_2 = []\n",
    "df['domain'].where(df['domain'] == 'geektimes.ru').dropna().shape[0]\n",
    "for i in [((filter_1 & filter_3),'2016.04'),((filter_1 & filter_4),'2016.03'),\n",
    "          ((filter_2 & filter_3),'2015.04'),((filter_2 & filter_4),'2015.03')]:\n",
    "    df_2 = df_1.where((i[0]))\n",
    "    lst.append(df_2['domain'].where(df_2['domain'] == 'habrahabr.ru').dropna().shape[0])\n",
    "    df_2 = df_2.fillna(0)\n",
    "    lst_2.append(df_2['domain'].where(df_2['domain'] == 'geektimes.ru').dropna().shape[0])\n",
    "df_3 =pd.DataFrame({'Количество публикаций на Habr' : lst,\n",
    "                        'Количество публикаций на Geektimes' : lst_2,\n",
    "                        'Месяцы' : ['2016.04','2016.03','2015.04','2015.03']})\n",
    "\n",
    "df_3.groupby('Месяцы').sum().plot(kind='bar', rot=0, );"
   ]
  },
  {
   "cell_type": "code",
   "execution_count": null,
   "metadata": {},
   "outputs": [],
   "source": [
    "df_5 = df.fillna(0)\n",
    "df_4 =pd.DataFrame({'Количество публикаций на Habr' : [df.where(df['domain'] == 'habrahabr.ru').dropna().shape[0]],\n",
    "                    'Количество публикаций на Geektimes' : [df_5.where(df_5['domain'] == 'geektimes.ru').dropna().shape[0]]})\n",
    "\n",
    "df_4.groupby('Количество публикаций на Geektimes').plot(kind='bar');"
   ]
  },
  {
   "cell_type": "code",
   "execution_count": null,
   "metadata": {},
   "outputs": [],
   "source": [
    "filter_mas = ((filter_1 & filter_3)|(filter_1 & filter_4)|(filter_2 & filter_3)|(filter_2 & filter_4))\n",
    "df = df.fillna(0)\n",
    "df_1 = df.where(filter_mas).dropna()\n",
    "lst = []\n",
    "lst_2 = []\n",
    "filter_5 = df_1['dayofweek'] == 6\n",
    "df['domain'].where(df['domain'] == 'geektimes.ru').dropna().shape[0]\n",
    "for i in [((filter_1 & filter_3 & filter_5),'2016.04'),((filter_1 & filter_4 & filter_5),'2016.03'),\n",
    "          ((filter_2 & filter_3 & filter_5),'2015.04'),((filter_2 & filter_4 & filter_5),'2015.03')]:\n",
    "    df_2 = df_1.where((i[0]))\n",
    "    lst.append(df_2['domain'].where(df_2['domain'] == 'habrahabr.ru').dropna().shape[0])\n",
    "    df_2 = df_2.fillna(0)\n",
    "    lst_2.append(df_2['domain'].where(df_2['domain'] == 'geektimes.ru').dropna().shape[0])\n",
    "df_3 =pd.DataFrame({'Количество публикаций на Habr' : lst,\n",
    "                        'Количество публикаций на Geektimes' : lst_2,\n",
    "                        'Месяцы' : ['2016.04','2016.03','2015.04','2015.03']})\n",
    "\n",
    "df_3.groupby('Месяцы').sum().plot(kind='bar', rot=0,title=\"По субботам\" );"
   ]
  },
  {
   "cell_type": "code",
   "execution_count": null,
   "metadata": {},
   "outputs": [],
   "source": [
    "df_5 = df.fillna(0)\n",
    "filter_6 = df['domain'] == 'habrahabr.ru'\n",
    "filter_8 = df_5['domain'] == 'geektimes.ru'\n",
    "filter_7 =  df['dayofweek'] == 6.0\n",
    "df_4 =pd.DataFrame({'Количество публикаций на Habr' : [df.where(filter_6 & filter_7).dropna().shape[0]],\n",
    "                    'Количество публикаций на Geektimes' : [df_5.where(filter_8 & filter_7).dropna().shape[0]]})\n",
    "\n",
    "df_4.groupby('Количество публикаций на Geektimes').plot(kind='bar',title=\"По субботам за все время\");"
   ]
  },
  {
   "cell_type": "markdown",
   "metadata": {},
   "source": [
    "## 3. Когда лучше всего публиковать статью?"
   ]
  },
  {
   "cell_type": "markdown",
   "metadata": {},
   "source": [
    "* Больше всего просмотров набирают статьи, опубликованные в 12 часов дня\n",
    "* У опубликованных в 10 утра постов больше всего комментариев\n",
    "* Больше всего просмотров набирают статьи, опубликованные в 6 часов утра\n",
    "* Максимальное число комментариев на гиктаймсе набрала статья, опубликованная в 9 часов вечера\n",
    "* На хабре дневные статьи комментируют чаще, чем вечерние"
   ]
  },
  {
   "cell_type": "code",
   "execution_count": null,
   "metadata": {},
   "outputs": [],
   "source": [
    "filter_mas = ((filter_1 & filter_3)|(filter_1 & filter_4)|(filter_2 & filter_3)|(filter_2 & filter_4))\n",
    "df_1 = df.where(filter_mas).dropna()\n",
    "df_1[['views','hour']].groupby('hour').sum().plot(kind='bar',rot=90);"
   ]
  },
  {
   "cell_type": "code",
   "execution_count": null,
   "metadata": {},
   "outputs": [],
   "source": [
    "filter_mas = ((filter_1 & filter_3)|(filter_1 & filter_4)|(filter_2 & filter_3)|(filter_2 & filter_4))\n",
    "df_1 = df.where(filter_mas).dropna()\n",
    "df_1[['comments','hour']].groupby('hour').sum().plot(kind='bar',rot=90);"
   ]
  },
  {
   "cell_type": "code",
   "execution_count": null,
   "metadata": {},
   "outputs": [],
   "source": [
    "filter_mas = ((filter_1 & filter_3)|(filter_1 & filter_4)|(filter_2 & filter_3)|(filter_2 & filter_4))\n",
    "df_1 = df.where(filter_mas).dropna()\n",
    "df_1[['views','hour']].groupby('hour').sum().plot(kind='bar',rot=90);"
   ]
  },
  {
   "cell_type": "code",
   "execution_count": null,
   "metadata": {},
   "outputs": [],
   "source": [
    "df_5 = df.fillna(0)\n",
    "filter_8 = df_5['domain'] == 'geektimes.ru'\n",
    "filter_7 =  df['dayofweek'] == 6.0\n",
    "filter_9 = df['hour'] == 21.0\n",
    "df_7 = df_5.where(filter_8 & filter_7 & filter_9).dropna()\n",
    "df_7 = df_7[['post_id','comments']].sort_values(by='comments',ascending=False)\n",
    "df_7.set_index('post_id',inplace=True)\n",
    "df_7.head(5).plot(kind='bar',rot=90);"
   ]
  },
  {
   "cell_type": "code",
   "execution_count": null,
   "metadata": {},
   "outputs": [],
   "source": [
    "filter_10 = df['domain'] == 'habrahabr.ru'\n",
    "df_9 = df.where(filter_10).dropna()\n",
    "df_9[['comments','hour']].groupby('hour').sum().plot(kind='bar',rot=90);"
   ]
  },
  {
   "cell_type": "markdown",
   "metadata": {},
   "source": [
    "## 4. Кого из топ-20 авторов чаще всего минусуют?¶"
   ]
  },
  {
   "cell_type": "markdown",
   "metadata": {},
   "source": [
    "* @Mordatyj\n",
    "* @Mithgol\n",
    "* @alizar\n",
    "* @ilya42"
   ]
  },
  {
   "cell_type": "code",
   "execution_count": null,
   "metadata": {},
   "outputs": [],
   "source": [
    "df[['author','votes_minus']].groupby('author').sum().sort_values(by='votes_minus',ascending=False).head(20).plot(kind='barh',rot=0, fontsize = 12);"
   ]
  },
  {
   "cell_type": "markdown",
   "metadata": {},
   "source": [
    "## 5. Сравните субботы и понедельники"
   ]
  },
  {
   "cell_type": "markdown",
   "metadata": {},
   "source": [
    "Правда ли, что по субботам авторы пишут в основном днём, а по понедельникам — в основном вечером?"
   ]
  },
  {
   "cell_type": "code",
   "execution_count": null,
   "metadata": {},
   "outputs": [],
   "source": [
    "lst_sat = []\n",
    "lst_mon = []\n",
    "for k in [i for i in range(0,24)]:\n",
    "    df = df.fillna(0)\n",
    "    filter_ = df['hour'] == k\n",
    "    filter_1 = df['dayofweek'] == 6.0\n",
    "    filter_2 = df['dayofweek'] == 1.0\n",
    "    lst_sat.append(df.where((filter_ & filter_1)).dropna().shape[0])\n",
    "    lst_mon.append(df.where((filter_ & filter_2)).dropna().shape[0])\n",
    "data_ = {\"Кол-во публикаций в субботу\" : lst_sat,\n",
    "         \"Кол-во публикаций в понедельник\" : lst_mon,\n",
    "        'Время дня' : [i for i in range(0,24)]}\n",
    "df_11 = pd.DataFrame(data_)\n",
    "df_11.groupby('Время дня').sum().plot(kind='bar',rot=90);"
   ]
  }
 ],
 "metadata": {
  "kernelspec": {
   "display_name": "Python 3",
   "language": "python",
   "name": "python3"
  },
  "language_info": {
   "codemirror_mode": {
    "name": "ipython",
    "version": 3
   },
   "file_extension": ".py",
   "mimetype": "text/x-python",
   "name": "python",
   "nbconvert_exporter": "python",
   "pygments_lexer": "ipython3",
   "version": "3.8.5"
  }
 },
 "nbformat": 4,
 "nbformat_minor": 2
}
