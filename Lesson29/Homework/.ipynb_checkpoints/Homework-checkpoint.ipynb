{
 "cells": [
  {
   "cell_type": "code",
   "execution_count": 55,
   "metadata": {},
   "outputs": [],
   "source": [
    "import pandas as pd\n",
    "import matplotlib.pyplot as plt\n",
    "import seaborn as sns\n",
    "import numpy as np\n",
    "from sklearn import preprocessing\n",
    "from sklearn.preprocessing import LabelEncoder,OrdinalEncoder\n",
    "from sklearn.preprocessing import OneHotEncoder\n",
    "from scipy import stats\n",
    "from sklearn.model_selection import  train_test_split\n",
    "from sklearn.linear_model  import LogisticRegression\n",
    "from sklearn import model_selection\n",
    "from sklearn import feature_selection\n",
    "from sklearn.metrics import roc_auc_score, f1_score\n",
    "from sklearn.tree import DecisionTreeClassifier\n",
    "from sklearn import model_selection\n",
    "from sklearn import preprocessing\n",
    "%matplotlib inline"
   ]
  },
  {
   "cell_type": "code",
   "execution_count": 2,
   "metadata": {},
   "outputs": [
    {
     "name": "stdout",
     "output_type": "stream",
     "text": [
      "accuracy 0.691358024691358\n",
      "roc_auc 0.6776570178029591\n"
     ]
    },
    {
     "name": "stderr",
     "output_type": "stream",
     "text": [
      "C:\\anaconda3\\lib\\site-packages\\sklearn\\utils\\validation.py:72: DataConversionWarning: A column-vector y was passed when a 1d array was expected. Please change the shape of y to (n_samples, ), for example using ravel().\n",
      "  return f(**kwargs)\n"
     ]
    }
   ],
   "source": [
    "df = pd.read_csv('train.csv')\n",
    "\n",
    "df_for_train = df.fillna(0)[['Age', 'SibSp', 'Pclass', 'Fare', 'Survived']]\n",
    "x,y = df_for_train[['Age', 'SibSp', 'Pclass', 'Fare']], df_for_train[['Survived']]\n",
    "lr = LogisticRegression(random_state=17)\n",
    "lr.fit(x, y)\n",
    "print('accuracy', lr.score(x,y))\n",
    "print('roc_auc', roc_auc_score(lr.predict(x), y))"
   ]
  },
  {
   "cell_type": "code",
   "execution_count": 3,
   "metadata": {},
   "outputs": [
    {
     "data": {
      "text/html": [
       "<div>\n",
       "<style scoped>\n",
       "    .dataframe tbody tr th:only-of-type {\n",
       "        vertical-align: middle;\n",
       "    }\n",
       "\n",
       "    .dataframe tbody tr th {\n",
       "        vertical-align: top;\n",
       "    }\n",
       "\n",
       "    .dataframe thead th {\n",
       "        text-align: right;\n",
       "    }\n",
       "</style>\n",
       "<table border=\"1\" class=\"dataframe\">\n",
       "  <thead>\n",
       "    <tr style=\"text-align: right;\">\n",
       "      <th></th>\n",
       "      <th>PassengerId</th>\n",
       "      <th>Survived</th>\n",
       "      <th>Pclass</th>\n",
       "      <th>Name</th>\n",
       "      <th>Sex</th>\n",
       "      <th>Age</th>\n",
       "      <th>SibSp</th>\n",
       "      <th>Parch</th>\n",
       "      <th>Ticket</th>\n",
       "      <th>Fare</th>\n",
       "      <th>Cabin</th>\n",
       "      <th>Embarked</th>\n",
       "    </tr>\n",
       "  </thead>\n",
       "  <tbody>\n",
       "    <tr>\n",
       "      <th>0</th>\n",
       "      <td>1</td>\n",
       "      <td>0</td>\n",
       "      <td>3</td>\n",
       "      <td>Braund, Mr. Owen Harris</td>\n",
       "      <td>male</td>\n",
       "      <td>22.0</td>\n",
       "      <td>1</td>\n",
       "      <td>0</td>\n",
       "      <td>A/5 21171</td>\n",
       "      <td>7.2500</td>\n",
       "      <td>NaN</td>\n",
       "      <td>S</td>\n",
       "    </tr>\n",
       "    <tr>\n",
       "      <th>1</th>\n",
       "      <td>2</td>\n",
       "      <td>1</td>\n",
       "      <td>1</td>\n",
       "      <td>Cumings, Mrs. John Bradley (Florence Briggs Th...</td>\n",
       "      <td>female</td>\n",
       "      <td>38.0</td>\n",
       "      <td>1</td>\n",
       "      <td>0</td>\n",
       "      <td>PC 17599</td>\n",
       "      <td>71.2833</td>\n",
       "      <td>C85</td>\n",
       "      <td>C</td>\n",
       "    </tr>\n",
       "    <tr>\n",
       "      <th>2</th>\n",
       "      <td>3</td>\n",
       "      <td>1</td>\n",
       "      <td>3</td>\n",
       "      <td>Heikkinen, Miss. Laina</td>\n",
       "      <td>female</td>\n",
       "      <td>26.0</td>\n",
       "      <td>0</td>\n",
       "      <td>0</td>\n",
       "      <td>STON/O2. 3101282</td>\n",
       "      <td>7.9250</td>\n",
       "      <td>NaN</td>\n",
       "      <td>S</td>\n",
       "    </tr>\n",
       "    <tr>\n",
       "      <th>3</th>\n",
       "      <td>4</td>\n",
       "      <td>1</td>\n",
       "      <td>1</td>\n",
       "      <td>Futrelle, Mrs. Jacques Heath (Lily May Peel)</td>\n",
       "      <td>female</td>\n",
       "      <td>35.0</td>\n",
       "      <td>1</td>\n",
       "      <td>0</td>\n",
       "      <td>113803</td>\n",
       "      <td>53.1000</td>\n",
       "      <td>C123</td>\n",
       "      <td>S</td>\n",
       "    </tr>\n",
       "    <tr>\n",
       "      <th>4</th>\n",
       "      <td>5</td>\n",
       "      <td>0</td>\n",
       "      <td>3</td>\n",
       "      <td>Allen, Mr. William Henry</td>\n",
       "      <td>male</td>\n",
       "      <td>35.0</td>\n",
       "      <td>0</td>\n",
       "      <td>0</td>\n",
       "      <td>373450</td>\n",
       "      <td>8.0500</td>\n",
       "      <td>NaN</td>\n",
       "      <td>S</td>\n",
       "    </tr>\n",
       "    <tr>\n",
       "      <th>5</th>\n",
       "      <td>6</td>\n",
       "      <td>0</td>\n",
       "      <td>3</td>\n",
       "      <td>Moran, Mr. James</td>\n",
       "      <td>male</td>\n",
       "      <td>NaN</td>\n",
       "      <td>0</td>\n",
       "      <td>0</td>\n",
       "      <td>330877</td>\n",
       "      <td>8.4583</td>\n",
       "      <td>NaN</td>\n",
       "      <td>Q</td>\n",
       "    </tr>\n",
       "    <tr>\n",
       "      <th>6</th>\n",
       "      <td>7</td>\n",
       "      <td>0</td>\n",
       "      <td>1</td>\n",
       "      <td>McCarthy, Mr. Timothy J</td>\n",
       "      <td>male</td>\n",
       "      <td>54.0</td>\n",
       "      <td>0</td>\n",
       "      <td>0</td>\n",
       "      <td>17463</td>\n",
       "      <td>51.8625</td>\n",
       "      <td>E46</td>\n",
       "      <td>S</td>\n",
       "    </tr>\n",
       "    <tr>\n",
       "      <th>7</th>\n",
       "      <td>8</td>\n",
       "      <td>0</td>\n",
       "      <td>3</td>\n",
       "      <td>Palsson, Master. Gosta Leonard</td>\n",
       "      <td>male</td>\n",
       "      <td>2.0</td>\n",
       "      <td>3</td>\n",
       "      <td>1</td>\n",
       "      <td>349909</td>\n",
       "      <td>21.0750</td>\n",
       "      <td>NaN</td>\n",
       "      <td>S</td>\n",
       "    </tr>\n",
       "    <tr>\n",
       "      <th>8</th>\n",
       "      <td>9</td>\n",
       "      <td>1</td>\n",
       "      <td>3</td>\n",
       "      <td>Johnson, Mrs. Oscar W (Elisabeth Vilhelmina Berg)</td>\n",
       "      <td>female</td>\n",
       "      <td>27.0</td>\n",
       "      <td>0</td>\n",
       "      <td>2</td>\n",
       "      <td>347742</td>\n",
       "      <td>11.1333</td>\n",
       "      <td>NaN</td>\n",
       "      <td>S</td>\n",
       "    </tr>\n",
       "    <tr>\n",
       "      <th>9</th>\n",
       "      <td>10</td>\n",
       "      <td>1</td>\n",
       "      <td>2</td>\n",
       "      <td>Nasser, Mrs. Nicholas (Adele Achem)</td>\n",
       "      <td>female</td>\n",
       "      <td>14.0</td>\n",
       "      <td>1</td>\n",
       "      <td>0</td>\n",
       "      <td>237736</td>\n",
       "      <td>30.0708</td>\n",
       "      <td>NaN</td>\n",
       "      <td>C</td>\n",
       "    </tr>\n",
       "  </tbody>\n",
       "</table>\n",
       "</div>"
      ],
      "text/plain": [
       "   PassengerId  Survived  Pclass  \\\n",
       "0            1         0       3   \n",
       "1            2         1       1   \n",
       "2            3         1       3   \n",
       "3            4         1       1   \n",
       "4            5         0       3   \n",
       "5            6         0       3   \n",
       "6            7         0       1   \n",
       "7            8         0       3   \n",
       "8            9         1       3   \n",
       "9           10         1       2   \n",
       "\n",
       "                                                Name     Sex   Age  SibSp  \\\n",
       "0                            Braund, Mr. Owen Harris    male  22.0      1   \n",
       "1  Cumings, Mrs. John Bradley (Florence Briggs Th...  female  38.0      1   \n",
       "2                             Heikkinen, Miss. Laina  female  26.0      0   \n",
       "3       Futrelle, Mrs. Jacques Heath (Lily May Peel)  female  35.0      1   \n",
       "4                           Allen, Mr. William Henry    male  35.0      0   \n",
       "5                                   Moran, Mr. James    male   NaN      0   \n",
       "6                            McCarthy, Mr. Timothy J    male  54.0      0   \n",
       "7                     Palsson, Master. Gosta Leonard    male   2.0      3   \n",
       "8  Johnson, Mrs. Oscar W (Elisabeth Vilhelmina Berg)  female  27.0      0   \n",
       "9                Nasser, Mrs. Nicholas (Adele Achem)  female  14.0      1   \n",
       "\n",
       "   Parch            Ticket     Fare Cabin Embarked  \n",
       "0      0         A/5 21171   7.2500   NaN        S  \n",
       "1      0          PC 17599  71.2833   C85        C  \n",
       "2      0  STON/O2. 3101282   7.9250   NaN        S  \n",
       "3      0            113803  53.1000  C123        S  \n",
       "4      0            373450   8.0500   NaN        S  \n",
       "5      0            330877   8.4583   NaN        Q  \n",
       "6      0             17463  51.8625   E46        S  \n",
       "7      1            349909  21.0750   NaN        S  \n",
       "8      2            347742  11.1333   NaN        S  \n",
       "9      0            237736  30.0708   NaN        C  "
      ]
     },
     "execution_count": 3,
     "metadata": {},
     "output_type": "execute_result"
    }
   ],
   "source": [
    "df.head(10)"
   ]
  },
  {
   "cell_type": "code",
   "execution_count": 8,
   "metadata": {},
   "outputs": [
    {
     "data": {
      "text/html": [
       "<div>\n",
       "<style scoped>\n",
       "    .dataframe tbody tr th:only-of-type {\n",
       "        vertical-align: middle;\n",
       "    }\n",
       "\n",
       "    .dataframe tbody tr th {\n",
       "        vertical-align: top;\n",
       "    }\n",
       "\n",
       "    .dataframe thead th {\n",
       "        text-align: right;\n",
       "    }\n",
       "</style>\n",
       "<table border=\"1\" class=\"dataframe\">\n",
       "  <thead>\n",
       "    <tr style=\"text-align: right;\">\n",
       "      <th></th>\n",
       "      <th>x0_</th>\n",
       "      <th>x0_C</th>\n",
       "      <th>x0_Q</th>\n",
       "      <th>x0_S</th>\n",
       "      <th>x1_female</th>\n",
       "      <th>x1_male</th>\n",
       "    </tr>\n",
       "  </thead>\n",
       "  <tbody>\n",
       "    <tr>\n",
       "      <th>0</th>\n",
       "      <td>0.0</td>\n",
       "      <td>0.0</td>\n",
       "      <td>0.0</td>\n",
       "      <td>1.0</td>\n",
       "      <td>0.0</td>\n",
       "      <td>1.0</td>\n",
       "    </tr>\n",
       "    <tr>\n",
       "      <th>1</th>\n",
       "      <td>0.0</td>\n",
       "      <td>1.0</td>\n",
       "      <td>0.0</td>\n",
       "      <td>0.0</td>\n",
       "      <td>1.0</td>\n",
       "      <td>0.0</td>\n",
       "    </tr>\n",
       "    <tr>\n",
       "      <th>2</th>\n",
       "      <td>0.0</td>\n",
       "      <td>0.0</td>\n",
       "      <td>0.0</td>\n",
       "      <td>1.0</td>\n",
       "      <td>1.0</td>\n",
       "      <td>0.0</td>\n",
       "    </tr>\n",
       "    <tr>\n",
       "      <th>3</th>\n",
       "      <td>0.0</td>\n",
       "      <td>0.0</td>\n",
       "      <td>0.0</td>\n",
       "      <td>1.0</td>\n",
       "      <td>1.0</td>\n",
       "      <td>0.0</td>\n",
       "    </tr>\n",
       "    <tr>\n",
       "      <th>4</th>\n",
       "      <td>0.0</td>\n",
       "      <td>0.0</td>\n",
       "      <td>0.0</td>\n",
       "      <td>1.0</td>\n",
       "      <td>0.0</td>\n",
       "      <td>1.0</td>\n",
       "    </tr>\n",
       "  </tbody>\n",
       "</table>\n",
       "</div>"
      ],
      "text/plain": [
       "   x0_   x0_C  x0_Q  x0_S  x1_female  x1_male\n",
       "0   0.0   0.0   0.0   1.0        0.0      1.0\n",
       "1   0.0   1.0   0.0   0.0        1.0      0.0\n",
       "2   0.0   0.0   0.0   1.0        1.0      0.0\n",
       "3   0.0   0.0   0.0   1.0        1.0      0.0\n",
       "4   0.0   0.0   0.0   1.0        0.0      1.0"
      ]
     },
     "execution_count": 8,
     "metadata": {},
     "output_type": "execute_result"
    }
   ],
   "source": [
    "df = pd.read_csv('train.csv')\n",
    "enc_1 = OneHotEncoder()\n",
    "df_ = df[['Embarked','Sex']].fillna(' ')\n",
    "df_.astype('string')\n",
    "enc_1.fit(df_[['Embarked','Sex']])\n",
    "states = df_.values[:]\n",
    "encoded_ds = enc_1.transform(states).toarray()\n",
    "gn_df = pd.DataFrame(encoded_ds,\n",
    "             columns=enc_1.get_feature_names())\n",
    "gn_df.head()"
   ]
  },
  {
   "cell_type": "code",
   "execution_count": 6,
   "metadata": {},
   "outputs": [
    {
     "data": {
      "text/html": [
       "<div>\n",
       "<style scoped>\n",
       "    .dataframe tbody tr th:only-of-type {\n",
       "        vertical-align: middle;\n",
       "    }\n",
       "\n",
       "    .dataframe tbody tr th {\n",
       "        vertical-align: top;\n",
       "    }\n",
       "\n",
       "    .dataframe thead th {\n",
       "        text-align: right;\n",
       "    }\n",
       "</style>\n",
       "<table border=\"1\" class=\"dataframe\">\n",
       "  <thead>\n",
       "    <tr style=\"text-align: right;\">\n",
       "      <th></th>\n",
       "      <th>Embarked</th>\n",
       "      <th>Sex</th>\n",
       "    </tr>\n",
       "  </thead>\n",
       "  <tbody>\n",
       "    <tr>\n",
       "      <th>0</th>\n",
       "      <td>S</td>\n",
       "      <td>male</td>\n",
       "    </tr>\n",
       "    <tr>\n",
       "      <th>1</th>\n",
       "      <td>C</td>\n",
       "      <td>female</td>\n",
       "    </tr>\n",
       "    <tr>\n",
       "      <th>2</th>\n",
       "      <td>S</td>\n",
       "      <td>female</td>\n",
       "    </tr>\n",
       "    <tr>\n",
       "      <th>3</th>\n",
       "      <td>S</td>\n",
       "      <td>female</td>\n",
       "    </tr>\n",
       "    <tr>\n",
       "      <th>4</th>\n",
       "      <td>S</td>\n",
       "      <td>male</td>\n",
       "    </tr>\n",
       "  </tbody>\n",
       "</table>\n",
       "</div>"
      ],
      "text/plain": [
       "  Embarked     Sex\n",
       "0        S    male\n",
       "1        C  female\n",
       "2        S  female\n",
       "3        S  female\n",
       "4        S    male"
      ]
     },
     "execution_count": 6,
     "metadata": {},
     "output_type": "execute_result"
    }
   ],
   "source": [
    "df_.head()"
   ]
  },
  {
   "cell_type": "code",
   "execution_count": 7,
   "metadata": {},
   "outputs": [
    {
     "name": "stdout",
     "output_type": "stream",
     "text": [
      "accuracy 0.7964071856287425\n",
      "roc_auc 0.798470744680851\n"
     ]
    },
    {
     "name": "stderr",
     "output_type": "stream",
     "text": [
      "C:\\anaconda3\\lib\\site-packages\\sklearn\\utils\\validation.py:72: DataConversionWarning: A column-vector y was passed when a 1d array was expected. Please change the shape of y to (n_samples, ), for example using ravel().\n",
      "  return f(**kwargs)\n",
      "C:\\anaconda3\\lib\\site-packages\\sklearn\\linear_model\\_logistic.py:762: ConvergenceWarning: lbfgs failed to converge (status=1):\n",
      "STOP: TOTAL NO. of ITERATIONS REACHED LIMIT.\n",
      "\n",
      "Increase the number of iterations (max_iter) or scale the data as shown in:\n",
      "    https://scikit-learn.org/stable/modules/preprocessing.html\n",
      "Please also refer to the documentation for alternative solver options:\n",
      "    https://scikit-learn.org/stable/modules/linear_model.html#logistic-regression\n",
      "  n_iter_i = _check_optimize_result(\n"
     ]
    }
   ],
   "source": [
    "df = pd.read_csv('train.csv')\n",
    "\n",
    "enc_1 = OneHotEncoder()\n",
    "df_ = df[['Embarked','Sex']].fillna(' ')\n",
    "df_.astype('string')\n",
    "enc_1.fit(df_[['Embarked','Sex']])\n",
    "states = df_.values[:]\n",
    "encoded_ds = enc_1.transform(states).toarray()\n",
    "gn_df = pd.DataFrame(encoded_ds,\n",
    "             columns=enc_1.get_feature_names())\n",
    "\n",
    "\n",
    "df_for_train = df.fillna(0)[['Age', 'SibSp', 'Pclass', 'Fare', 'Survived']]\n",
    "\n",
    "df_for_train2 = pd.concat((df_for_train, gn_df), \n",
    "                         axis=1)\n",
    "df_for_train2['Age_Fare']= df_for_train2['Age']*df_for_train2['Fare']\n",
    "df_for_train2['SibSp_Pclass']= df_for_train2['SibSp']*df_for_train2['Pclass']\n",
    "df_for_train2['Pclass_Fare']= df_for_train2['Pclass']*df_for_train2['Fare']\n",
    "df_for_train2['SibSp_Age']= df_for_train2['SibSp']*df_for_train2['Age']\n",
    "df_train,df_test = train_test_split(df_for_train2.copy(),test_size=0.25,random_state=17)\n",
    "\n",
    "x,y = df_train[['Age', 'SibSp', 'Pclass', 'Fare','x0_C','x0_Q','x0_S','x1_female','x1_male','Age_Fare','SibSp_Pclass','Pclass_Fare']], df_train[['Survived']]\n",
    "lr = LogisticRegression(random_state=17)\n",
    "lr.fit(x, y)\n",
    "print('accuracy', lr.score(x,y))\n",
    "print('roc_auc', roc_auc_score(lr.predict(x), y))"
   ]
  },
  {
   "cell_type": "code",
   "execution_count": 9,
   "metadata": {},
   "outputs": [
    {
     "data": {
      "text/html": [
       "<div>\n",
       "<style scoped>\n",
       "    .dataframe tbody tr th:only-of-type {\n",
       "        vertical-align: middle;\n",
       "    }\n",
       "\n",
       "    .dataframe tbody tr th {\n",
       "        vertical-align: top;\n",
       "    }\n",
       "\n",
       "    .dataframe thead th {\n",
       "        text-align: right;\n",
       "    }\n",
       "</style>\n",
       "<table border=\"1\" class=\"dataframe\">\n",
       "  <thead>\n",
       "    <tr style=\"text-align: right;\">\n",
       "      <th></th>\n",
       "      <th>Age</th>\n",
       "      <th>SibSp</th>\n",
       "      <th>Pclass</th>\n",
       "      <th>Fare</th>\n",
       "      <th>Survived</th>\n",
       "      <th>x0_</th>\n",
       "      <th>x0_C</th>\n",
       "      <th>x0_Q</th>\n",
       "      <th>x0_S</th>\n",
       "      <th>x1_female</th>\n",
       "      <th>x1_male</th>\n",
       "      <th>Age_Fare</th>\n",
       "      <th>SibSp_Pclass</th>\n",
       "      <th>Pclass_Fare</th>\n",
       "      <th>SibSp_Age</th>\n",
       "    </tr>\n",
       "  </thead>\n",
       "  <tbody>\n",
       "    <tr>\n",
       "      <th>407</th>\n",
       "      <td>3.0</td>\n",
       "      <td>1</td>\n",
       "      <td>2</td>\n",
       "      <td>18.7500</td>\n",
       "      <td>1</td>\n",
       "      <td>0.0</td>\n",
       "      <td>0.0</td>\n",
       "      <td>0.0</td>\n",
       "      <td>1.0</td>\n",
       "      <td>0.0</td>\n",
       "      <td>1.0</td>\n",
       "      <td>56.250</td>\n",
       "      <td>2</td>\n",
       "      <td>37.5000</td>\n",
       "      <td>3.0</td>\n",
       "    </tr>\n",
       "    <tr>\n",
       "      <th>176</th>\n",
       "      <td>0.0</td>\n",
       "      <td>3</td>\n",
       "      <td>3</td>\n",
       "      <td>25.4667</td>\n",
       "      <td>0</td>\n",
       "      <td>0.0</td>\n",
       "      <td>0.0</td>\n",
       "      <td>0.0</td>\n",
       "      <td>1.0</td>\n",
       "      <td>0.0</td>\n",
       "      <td>1.0</td>\n",
       "      <td>0.000</td>\n",
       "      <td>9</td>\n",
       "      <td>76.4001</td>\n",
       "      <td>0.0</td>\n",
       "    </tr>\n",
       "    <tr>\n",
       "      <th>816</th>\n",
       "      <td>23.0</td>\n",
       "      <td>0</td>\n",
       "      <td>3</td>\n",
       "      <td>7.9250</td>\n",
       "      <td>0</td>\n",
       "      <td>0.0</td>\n",
       "      <td>0.0</td>\n",
       "      <td>0.0</td>\n",
       "      <td>1.0</td>\n",
       "      <td>1.0</td>\n",
       "      <td>0.0</td>\n",
       "      <td>182.275</td>\n",
       "      <td>0</td>\n",
       "      <td>23.7750</td>\n",
       "      <td>0.0</td>\n",
       "    </tr>\n",
       "    <tr>\n",
       "      <th>375</th>\n",
       "      <td>0.0</td>\n",
       "      <td>1</td>\n",
       "      <td>1</td>\n",
       "      <td>82.1708</td>\n",
       "      <td>1</td>\n",
       "      <td>0.0</td>\n",
       "      <td>1.0</td>\n",
       "      <td>0.0</td>\n",
       "      <td>0.0</td>\n",
       "      <td>1.0</td>\n",
       "      <td>0.0</td>\n",
       "      <td>0.000</td>\n",
       "      <td>1</td>\n",
       "      <td>82.1708</td>\n",
       "      <td>0.0</td>\n",
       "    </tr>\n",
       "    <tr>\n",
       "      <th>151</th>\n",
       "      <td>22.0</td>\n",
       "      <td>1</td>\n",
       "      <td>1</td>\n",
       "      <td>66.6000</td>\n",
       "      <td>1</td>\n",
       "      <td>0.0</td>\n",
       "      <td>0.0</td>\n",
       "      <td>0.0</td>\n",
       "      <td>1.0</td>\n",
       "      <td>1.0</td>\n",
       "      <td>0.0</td>\n",
       "      <td>1465.200</td>\n",
       "      <td>1</td>\n",
       "      <td>66.6000</td>\n",
       "      <td>22.0</td>\n",
       "    </tr>\n",
       "  </tbody>\n",
       "</table>\n",
       "</div>"
      ],
      "text/plain": [
       "      Age  SibSp  Pclass     Fare  Survived  x0_   x0_C  x0_Q  x0_S  \\\n",
       "407   3.0      1       2  18.7500         1   0.0   0.0   0.0   1.0   \n",
       "176   0.0      3       3  25.4667         0   0.0   0.0   0.0   1.0   \n",
       "816  23.0      0       3   7.9250         0   0.0   0.0   0.0   1.0   \n",
       "375   0.0      1       1  82.1708         1   0.0   1.0   0.0   0.0   \n",
       "151  22.0      1       1  66.6000         1   0.0   0.0   0.0   1.0   \n",
       "\n",
       "     x1_female  x1_male  Age_Fare  SibSp_Pclass  Pclass_Fare  SibSp_Age  \n",
       "407        0.0      1.0    56.250             2      37.5000        3.0  \n",
       "176        0.0      1.0     0.000             9      76.4001        0.0  \n",
       "816        1.0      0.0   182.275             0      23.7750        0.0  \n",
       "375        1.0      0.0     0.000             1      82.1708        0.0  \n",
       "151        1.0      0.0  1465.200             1      66.6000       22.0  "
      ]
     },
     "execution_count": 9,
     "metadata": {},
     "output_type": "execute_result"
    }
   ],
   "source": [
    "df_train.head()"
   ]
  },
  {
   "cell_type": "code",
   "execution_count": 100,
   "metadata": {},
   "outputs": [
    {
     "name": "stdout",
     "output_type": "stream",
     "text": [
      "accuracy 0.7159841479524438\n",
      "roc_auc 0.7071482379744974\n",
      "accuracy 0.7014925373134329\n",
      "roc_auc 0.7074142156862745\n",
      "accuracy_train 0.7159841479524438\n",
      "roc_auc_train 0.7472718253968255\n",
      "accuracy_test 0.7014925373134329\n",
      "roc_auc_test 0.6833333333333332\n"
     ]
    }
   ],
   "source": [
    "df = pd.read_csv('train.csv')\n",
    "\n",
    "enc_1 = OneHotEncoder()\n",
    "df_ = df[['Embarked','Sex']].fillna(' ')\n",
    "df_.astype('string')\n",
    "enc_1.fit(df_[['Embarked','Sex']])\n",
    "states = df_.values[:]\n",
    "encoded_ds = enc_1.transform(states).toarray()\n",
    "gn_df = pd.DataFrame(encoded_ds,\n",
    "             columns=enc_1.get_feature_names())\n",
    "\n",
    "\n",
    "df_for_train = df.fillna(0)[['Age', 'SibSp', 'Pclass', 'Fare', 'Survived']]\n",
    "\n",
    "df_for_train2 = pd.concat((df_for_train, gn_df), \n",
    "                         axis=1)\n",
    "\n",
    "\n",
    "df_for_train2['Age_Fare']= df_for_train2['Age']*df_for_train2['Fare']\n",
    "df_for_train2['SibSp_Pclass']= df_for_train2['SibSp']*df_for_train2['Pclass']\n",
    "df_for_train2['Pclass_Fare']= df_for_train2['Pclass']*df_for_train2['Fare']\n",
    "df_for_train2['SibSp_Age']= df_for_train2['SibSp']*df_for_train2['Age']\n",
    "\n",
    "df_train,df_test = train_test_split(df_for_train2.copy(),test_size=0.15,random_state=17)\n",
    "\n",
    "x_train,y_train = df_train[['Age', 'SibSp', 'Pclass', 'Fare','Age_Fare','SibSp_Pclass','Pclass_Fare']],df_train[['Survived']]\n",
    "\n",
    "x_test,y_test = df_test[['Age', 'SibSp', 'Pclass', 'Fare','Age_Fare','SibSp_Pclass','Pclass_Fare']],df_test[['Survived']]\n",
    "\n",
    "tree = DecisionTreeClassifier(max_depth = 3, \n",
    "                              random_state=17)\n",
    "\n",
    "tree.fit(x_train,y_train)\n",
    "\n",
    "\n",
    "\n",
    "print('accuracy', tree.score(x_train,y_train))\n",
    "print('roc_auc', roc_auc_score(tree.predict(x_train), y_train))\n",
    "print('accuracy', tree.score(x_test,y_test))\n",
    "print('roc_auc', roc_auc_score(tree.predict(x_test), y_test))\n",
    "\n",
    "print(\"accuracy_train\",tree.score(x_train,y_train))\n",
    "print('roc_auc_train',roc_auc_score(y_train, tree.predict_proba(x_train)[:,1]))\n",
    "print(\"accuracy_test\",tree.score(x_test,y_test))\n",
    "print('roc_auc_test',roc_auc_score(y_test,tree.predict_proba(x_test)[:,1]))"
   ]
  },
  {
   "cell_type": "code",
   "execution_count": 54,
   "metadata": {},
   "outputs": [
    {
     "data": {
      "text/html": [
       "<div>\n",
       "<style scoped>\n",
       "    .dataframe tbody tr th:only-of-type {\n",
       "        vertical-align: middle;\n",
       "    }\n",
       "\n",
       "    .dataframe tbody tr th {\n",
       "        vertical-align: top;\n",
       "    }\n",
       "\n",
       "    .dataframe thead th {\n",
       "        text-align: right;\n",
       "    }\n",
       "</style>\n",
       "<table border=\"1\" class=\"dataframe\">\n",
       "  <thead>\n",
       "    <tr style=\"text-align: right;\">\n",
       "      <th></th>\n",
       "      <th>Age</th>\n",
       "      <th>SibSp</th>\n",
       "      <th>Pclass</th>\n",
       "      <th>Fare</th>\n",
       "      <th>Survived</th>\n",
       "      <th>x0_</th>\n",
       "      <th>x0_C</th>\n",
       "      <th>x0_Q</th>\n",
       "      <th>x0_S</th>\n",
       "      <th>x1_female</th>\n",
       "      <th>x1_male</th>\n",
       "      <th>Age_Fare</th>\n",
       "      <th>SibSp_Pclass</th>\n",
       "      <th>Pclass_Fare</th>\n",
       "      <th>SibSp_Age</th>\n",
       "    </tr>\n",
       "  </thead>\n",
       "  <tbody>\n",
       "    <tr>\n",
       "      <th>0</th>\n",
       "      <td>22.0</td>\n",
       "      <td>1</td>\n",
       "      <td>3</td>\n",
       "      <td>7.2500</td>\n",
       "      <td>0</td>\n",
       "      <td>0.0</td>\n",
       "      <td>0.0</td>\n",
       "      <td>0.0</td>\n",
       "      <td>1.0</td>\n",
       "      <td>0.0</td>\n",
       "      <td>1.0</td>\n",
       "      <td>159.5000</td>\n",
       "      <td>3</td>\n",
       "      <td>21.7500</td>\n",
       "      <td>22.0</td>\n",
       "    </tr>\n",
       "    <tr>\n",
       "      <th>1</th>\n",
       "      <td>38.0</td>\n",
       "      <td>1</td>\n",
       "      <td>1</td>\n",
       "      <td>71.2833</td>\n",
       "      <td>1</td>\n",
       "      <td>0.0</td>\n",
       "      <td>1.0</td>\n",
       "      <td>0.0</td>\n",
       "      <td>0.0</td>\n",
       "      <td>1.0</td>\n",
       "      <td>0.0</td>\n",
       "      <td>2708.7654</td>\n",
       "      <td>1</td>\n",
       "      <td>71.2833</td>\n",
       "      <td>38.0</td>\n",
       "    </tr>\n",
       "    <tr>\n",
       "      <th>2</th>\n",
       "      <td>26.0</td>\n",
       "      <td>0</td>\n",
       "      <td>3</td>\n",
       "      <td>7.9250</td>\n",
       "      <td>1</td>\n",
       "      <td>0.0</td>\n",
       "      <td>0.0</td>\n",
       "      <td>0.0</td>\n",
       "      <td>1.0</td>\n",
       "      <td>1.0</td>\n",
       "      <td>0.0</td>\n",
       "      <td>206.0500</td>\n",
       "      <td>0</td>\n",
       "      <td>23.7750</td>\n",
       "      <td>0.0</td>\n",
       "    </tr>\n",
       "    <tr>\n",
       "      <th>3</th>\n",
       "      <td>35.0</td>\n",
       "      <td>1</td>\n",
       "      <td>1</td>\n",
       "      <td>53.1000</td>\n",
       "      <td>1</td>\n",
       "      <td>0.0</td>\n",
       "      <td>0.0</td>\n",
       "      <td>0.0</td>\n",
       "      <td>1.0</td>\n",
       "      <td>1.0</td>\n",
       "      <td>0.0</td>\n",
       "      <td>1858.5000</td>\n",
       "      <td>1</td>\n",
       "      <td>53.1000</td>\n",
       "      <td>35.0</td>\n",
       "    </tr>\n",
       "    <tr>\n",
       "      <th>4</th>\n",
       "      <td>35.0</td>\n",
       "      <td>0</td>\n",
       "      <td>3</td>\n",
       "      <td>8.0500</td>\n",
       "      <td>0</td>\n",
       "      <td>0.0</td>\n",
       "      <td>0.0</td>\n",
       "      <td>0.0</td>\n",
       "      <td>1.0</td>\n",
       "      <td>0.0</td>\n",
       "      <td>1.0</td>\n",
       "      <td>281.7500</td>\n",
       "      <td>0</td>\n",
       "      <td>24.1500</td>\n",
       "      <td>0.0</td>\n",
       "    </tr>\n",
       "  </tbody>\n",
       "</table>\n",
       "</div>"
      ],
      "text/plain": [
       "    Age  SibSp  Pclass     Fare  Survived  x0_   x0_C  x0_Q  x0_S  x1_female  \\\n",
       "0  22.0      1       3   7.2500         0   0.0   0.0   0.0   1.0        0.0   \n",
       "1  38.0      1       1  71.2833         1   0.0   1.0   0.0   0.0        1.0   \n",
       "2  26.0      0       3   7.9250         1   0.0   0.0   0.0   1.0        1.0   \n",
       "3  35.0      1       1  53.1000         1   0.0   0.0   0.0   1.0        1.0   \n",
       "4  35.0      0       3   8.0500         0   0.0   0.0   0.0   1.0        0.0   \n",
       "\n",
       "   x1_male   Age_Fare  SibSp_Pclass  Pclass_Fare  SibSp_Age  \n",
       "0      1.0   159.5000             3      21.7500       22.0  \n",
       "1      0.0  2708.7654             1      71.2833       38.0  \n",
       "2      0.0   206.0500             0      23.7750        0.0  \n",
       "3      0.0  1858.5000             1      53.1000       35.0  \n",
       "4      1.0   281.7500             0      24.1500        0.0  "
      ]
     },
     "execution_count": 54,
     "metadata": {},
     "output_type": "execute_result"
    }
   ],
   "source": [
    "df_for_train2.head()"
   ]
  },
  {
   "cell_type": "code",
   "execution_count": 35,
   "metadata": {},
   "outputs": [
    {
     "name": "stdout",
     "output_type": "stream",
     "text": [
      "accuracy_train 0.7065868263473054\n",
      "roc_auc_train 0.710066985645933\n",
      "accuracy_test 0.6905829596412556\n",
      "roc_auc_test 0.7222452704945236\n"
     ]
    },
    {
     "data": {
      "text/plain": [
       "<matplotlib.legend.Legend at 0x1d5f75c7460>"
      ]
     },
     "execution_count": 35,
     "metadata": {},
     "output_type": "execute_result"
    },
    {
     "data": {
      "image/png": "[encoded data removed]",
      "text/plain": [
       "<Figure size 432x288 with 1 Axes>"
      ]
     },
     "metadata": {
      "needs_background": "light"
     },
     "output_type": "display_data"
    }
   ],
   "source": [
    "import pandas as pd\n",
    "import numpy as np\n",
    "from sklearn.metrics import roc_auc_score, f1_score\n",
    "import matplotlib.pyplot as plt\n",
    "from sklearn. model_selection import train_test_split\n",
    "df = pd.read_csv('train.csv')\n",
    "\n",
    "df_for_train = df.fillna(0)[['Age','SibSp','Pclass','Fare','Survived']]\n",
    "\n",
    "x_train,x_test,y_train,y_test = train_test_split(df_for_train[['Age','SibSp','Pclass','Fare']],\n",
    "                                                 df_for_train['Survived'],\n",
    "                                                random_state=17)\n",
    "from sklearn.linear_model import LogisticRegression\n",
    "\n",
    "lr = LogisticRegression(random_state=17)\n",
    "\n",
    "lr.fit(x_train,y_train)\n",
    "\n",
    "print(\"accuracy_train\",lr.score(x_train,y_train))\n",
    "print('roc_auc_train',roc_auc_score(y_train, lr.predict_proba(x_train)[:,1]))\n",
    "print(\"accuracy_test\",lr.score(x_test,y_test))\n",
    "print('roc_auc_test',roc_auc_score(y_test,lr.predict_proba(x_test)[:,1]))\n",
    "predict_train = lr.predict_proba(x_train)\n",
    "predict_test = lr.predict_proba(x_test)\n",
    "\n",
    "pd.Series([f1_score(y_train, predict_train[:,1]>i) \n",
    "           for i in np.arange(0,1+0.1,0.1)]).plot()\n",
    "\n",
    "pd.Series([f1_score(y_test, predict_test[:,1]>i) \n",
    "           for i in np.arange(0,1+0.1,0.1)]).plot()\n",
    "plt.legend(['train','test'])"
   ]
  },
  {
   "cell_type": "code",
   "execution_count": 59,
   "metadata": {},
   "outputs": [
    {
     "name": "stdout",
     "output_type": "stream",
     "text": [
      "accuracy_train 0.6221928665785997\n",
      "roc_auc_train 0.6889880952380952\n"
     ]
    },
    {
     "name": "stderr",
     "output_type": "stream",
     "text": [
      "C:\\anaconda3\\lib\\site-packages\\sklearn\\utils\\validation.py:72: DataConversionWarning: A column-vector y was passed when a 1d array was expected. Please change the shape of y to (n_samples, ), for example using ravel().\n",
      "  return f(**kwargs)\n"
     ]
    }
   ],
   "source": [
    "scaler = preprocessing.Normalizer()\n",
    "trans_data = scaler.fit_transform(x_train)\n",
    "# print(trans_data)\n",
    "lr = LogisticRegression(random_state=17)\n",
    "\n",
    "lr.fit(trans_data,y_train)\n",
    "print(\"accuracy_train\",lr.score(trans_data,y_train))\n",
    "print('roc_auc_train',roc_auc_score(y_train, lr.predict_proba(trans_data)[:,1]))\n",
    "# print(\"accuracy_test\",lr.score(x_test,y_test))\n",
    "# print('roc_auc_test',roc_auc_score(y_test,lr.predict_proba(x_test)[:,1]))"
   ]
  },
  {
   "cell_type": "markdown",
   "metadata": {},
   "source": [
    "# Логистическая регрессия с использованием препроцессинга"
   ]
  },
  {
   "cell_type": "code",
   "execution_count": 73,
   "metadata": {},
   "outputs": [
    {
     "name": "stdout",
     "output_type": "stream",
     "text": [
      "accuracy_train 0.6901197604790419\n",
      "roc_auc_train 0.6999712918660286\n",
      "accuracy_test 0.6636771300448431\n",
      "roc_auc_test 0.732534019249917\n"
     ]
    },
    {
     "data": {
      "text/plain": [
       "<matplotlib.legend.Legend at 0x1d5f71e0b80>"
      ]
     },
     "execution_count": 73,
     "metadata": {},
     "output_type": "execute_result"
    },
    {
     "data": {
      "image/png": "[encoded data removed]",
      "text/plain": [
       "<Figure size 432x288 with 1 Axes>"
      ]
     },
     "metadata": {
      "needs_background": "light"
     },
     "output_type": "display_data"
    }
   ],
   "source": [
    "import pandas as pd\n",
    "import numpy as np\n",
    "from sklearn.metrics import roc_auc_score, f1_score\n",
    "import matplotlib.pyplot as plt\n",
    "from sklearn. model_selection import train_test_split\n",
    "df = pd.read_csv('train.csv')\n",
    "\n",
    "df_for_train = df.fillna(0)[['Age','SibSp','Pclass','Fare','Survived']]\n",
    "\n",
    "x_train,x_test,y_train,y_test = train_test_split(df_for_train[['Age','SibSp','Pclass','Fare']],\n",
    "                                                 df_for_train['Survived'],\n",
    "                                                random_state=17)\n",
    "from sklearn.linear_model import LogisticRegression\n",
    "\n",
    "scaler = preprocessing.Normalizer()\n",
    "train_data = scaler.fit_transform(x_train)\n",
    "test_data = scaler.fit_transform(x_test)\n",
    "\n",
    "lr = LogisticRegression(random_state=17)\n",
    "\n",
    "lr.fit(train_data,y_train)\n",
    "\n",
    "print(\"accuracy_train\",lr.score(train_data,y_train))\n",
    "print('roc_auc_train',roc_auc_score(y_train, lr.predict_proba(train_data)[:,1]))\n",
    "print(\"accuracy_test\",lr.score(test_data,y_test))\n",
    "print('roc_auc_test',roc_auc_score(y_test,lr.predict_proba(test_data)[:,1]))\n",
    "predict_train = lr.predict_proba(train_data)\n",
    "predict_test = lr.predict_proba(test_data)\n",
    "\n",
    "pd.Series([f1_score(y_train, predict_train[:,1]>i) \n",
    "           for i in np.arange(0,1+0.1,0.1)]).plot()\n",
    "\n",
    "pd.Series([f1_score(y_test, predict_test[:,1]>i) \n",
    "           for i in np.arange(0,1+0.1,0.1)]).plot()\n",
    "plt.legend(['train','test'])"
   ]
  },
  {
   "cell_type": "code",
   "execution_count": 62,
   "metadata": {},
   "outputs": [
    {
     "name": "stdout",
     "output_type": "stream",
     "text": [
      "accuracy_train 0.7065868263473054\n",
      "roc_auc_train 0.7098373205741626\n",
      "accuracy_test 0.6905829596412556\n",
      "roc_auc_test 0.7198390308662462\n"
     ]
    },
    {
     "data": {
      "text/plain": [
       "<matplotlib.legend.Legend at 0x1d5f885dc40>"
      ]
     },
     "execution_count": 62,
     "metadata": {},
     "output_type": "execute_result"
    },
    {
     "data": {
      "image/png": "[encoded data removed]",
      "text/plain": [
       "<Figure size 432x288 with 1 Axes>"
      ]
     },
     "metadata": {
      "needs_background": "light"
     },
     "output_type": "display_data"
    }
   ],
   "source": [
    "df = pd.read_csv('train.csv')\n",
    "\n",
    "df_for_train = df.fillna(0)[['Age','SibSp','Pclass','Fare','Survived']]\n",
    "\n",
    "x_train,x_test,y_train,y_test = train_test_split(df_for_train[['Age','SibSp','Pclass','Fare']],\n",
    "                                                 df_for_train['Survived'],\n",
    "                                                random_state=17)\n",
    "from sklearn.linear_model import LogisticRegression\n",
    "\n",
    "scaler = preprocessing.StandardScaler()\n",
    "train_data = scaler.fit_transform(x_train)\n",
    "test_data = scaler.fit_transform(x_test)\n",
    "\n",
    "lr = LogisticRegression(random_state=17)\n",
    "\n",
    "lr.fit(train_data,y_train)\n",
    "\n",
    "print(\"accuracy_train\",lr.score(train_data,y_train))\n",
    "print('roc_auc_train',roc_auc_score(y_train, lr.predict_proba(train_data)[:,1]))\n",
    "print(\"accuracy_test\",lr.score(test_data,y_test))\n",
    "print('roc_auc_test',roc_auc_score(y_test,lr.predict_proba(test_data)[:,1]))\n",
    "predict_train = lr.predict_proba(train_data)\n",
    "predict_test = lr.predict_proba(test_data)\n",
    "\n",
    "pd.Series([f1_score(y_train, predict_train[:,1]>i) \n",
    "           for i in np.arange(0,1+0.1,0.1)]).plot()\n",
    "\n",
    "pd.Series([f1_score(y_test, predict_test[:,1]>i) \n",
    "           for i in np.arange(0,1+0.1,0.1)]).plot()\n",
    "plt.legend(['train','test'])"
   ]
  },
  {
   "cell_type": "code",
   "execution_count": 63,
   "metadata": {},
   "outputs": [
    {
     "name": "stdout",
     "output_type": "stream",
     "text": [
      "accuracy_train 0.7035928143712575\n",
      "roc_auc_train 0.7082392344497608\n",
      "accuracy_test 0.672645739910314\n",
      "roc_auc_test 0.7142797875871224\n"
     ]
    },
    {
     "data": {
      "text/plain": [
       "<matplotlib.legend.Legend at 0x1d5f8a9a5e0>"
      ]
     },
     "execution_count": 63,
     "metadata": {},
     "output_type": "execute_result"
    },
    {
     "data": {
      "image/png": "[encoded data removed]",
      "text/plain": [
       "<Figure size 432x288 with 1 Axes>"
      ]
     },
     "metadata": {
      "needs_background": "light"
     },
     "output_type": "display_data"
    }
   ],
   "source": [
    "df = pd.read_csv('train.csv')\n",
    "\n",
    "df_for_train = df.fillna(0)[['Age','SibSp','Pclass','Fare','Survived']]\n",
    "\n",
    "x_train,x_test,y_train,y_test = train_test_split(df_for_train[['Age','SibSp','Pclass','Fare']],\n",
    "                                                 df_for_train['Survived'],\n",
    "                                                random_state=17)\n",
    "from sklearn.linear_model import LogisticRegression\n",
    "\n",
    "scaler = preprocessing.MinMaxScaler()\n",
    "train_data = scaler.fit_transform(x_train)\n",
    "test_data = scaler.fit_transform(x_test)\n",
    "\n",
    "lr = LogisticRegression(random_state=17)\n",
    "\n",
    "lr.fit(train_data,y_train)\n",
    "\n",
    "print(\"accuracy_train\",lr.score(train_data,y_train))\n",
    "print('roc_auc_train',roc_auc_score(y_train, lr.predict_proba(train_data)[:,1]))\n",
    "print(\"accuracy_test\",lr.score(test_data,y_test))\n",
    "print('roc_auc_test',roc_auc_score(y_test,lr.predict_proba(test_data)[:,1]))\n",
    "predict_train = lr.predict_proba(train_data)\n",
    "predict_test = lr.predict_proba(test_data)\n",
    "\n",
    "pd.Series([f1_score(y_train, predict_train[:,1]>i) \n",
    "           for i in np.arange(0,1+0.1,0.1)]).plot()\n",
    "\n",
    "pd.Series([f1_score(y_test, predict_test[:,1]>i) \n",
    "           for i in np.arange(0,1+0.1,0.1)]).plot()\n",
    "plt.legend(['train','test'])"
   ]
  },
  {
   "cell_type": "code",
   "execution_count": 64,
   "metadata": {},
   "outputs": [
    {
     "name": "stdout",
     "output_type": "stream",
     "text": [
      "accuracy_train 0.7065868263473054\n",
      "roc_auc_train 0.7090622009569378\n",
      "accuracy_test 0.6905829596412556\n",
      "roc_auc_test 0.7215814802522403\n"
     ]
    },
    {
     "name": "stderr",
     "output_type": "stream",
     "text": [
      "C:\\anaconda3\\lib\\site-packages\\sklearn\\preprocessing\\_data.py:2367: UserWarning: n_quantiles (1000) is greater than the total number of samples (668). n_quantiles is set to n_samples.\n",
      "  warnings.warn(\"n_quantiles (%s) is greater than the total number \"\n",
      "C:\\anaconda3\\lib\\site-packages\\sklearn\\preprocessing\\_data.py:2367: UserWarning: n_quantiles (1000) is greater than the total number of samples (223). n_quantiles is set to n_samples.\n",
      "  warnings.warn(\"n_quantiles (%s) is greater than the total number \"\n"
     ]
    },
    {
     "data": {
      "text/plain": [
       "<matplotlib.legend.Legend at 0x1d5f8acad90>"
      ]
     },
     "execution_count": 64,
     "metadata": {},
     "output_type": "execute_result"
    },
    {
     "data": {
      "image/png": "[encoded data removed]",
      "text/plain": [
       "<Figure size 432x288 with 1 Axes>"
      ]
     },
     "metadata": {
      "needs_background": "light"
     },
     "output_type": "display_data"
    }
   ],
   "source": [
    "df = pd.read_csv('train.csv')\n",
    "\n",
    "df_for_train = df.fillna(0)[['Age','SibSp','Pclass','Fare','Survived']]\n",
    "\n",
    "x_train,x_test,y_train,y_test = train_test_split(df_for_train[['Age','SibSp','Pclass','Fare']],\n",
    "                                                 df_for_train['Survived'],\n",
    "                                                random_state=17)\n",
    "from sklearn.linear_model import LogisticRegression\n",
    "\n",
    "scaler = preprocessing.QuantileTransformer()\n",
    "train_data = scaler.fit_transform(x_train)\n",
    "test_data = scaler.fit_transform(x_test)\n",
    "\n",
    "lr = LogisticRegression(random_state=17)\n",
    "\n",
    "lr.fit(train_data,y_train)\n",
    "\n",
    "print(\"accuracy_train\",lr.score(train_data,y_train))\n",
    "print('roc_auc_train',roc_auc_score(y_train, lr.predict_proba(train_data)[:,1]))\n",
    "print(\"accuracy_test\",lr.score(test_data,y_test))\n",
    "print('roc_auc_test',roc_auc_score(y_test,lr.predict_proba(test_data)[:,1]))\n",
    "predict_train = lr.predict_proba(train_data)\n",
    "predict_test = lr.predict_proba(test_data)\n",
    "\n",
    "pd.Series([f1_score(y_train, predict_train[:,1]>i) \n",
    "           for i in np.arange(0,1+0.1,0.1)]).plot()\n",
    "\n",
    "pd.Series([f1_score(y_test, predict_test[:,1]>i) \n",
    "           for i in np.arange(0,1+0.1,0.1)]).plot()\n",
    "plt.legend(['train','test'])"
   ]
  },
  {
   "cell_type": "code",
   "execution_count": 65,
   "metadata": {},
   "outputs": [
    {
     "name": "stdout",
     "output_type": "stream",
     "text": [
      "accuracy_train 0.7035928143712575\n",
      "roc_auc_train 0.7076746411483253\n",
      "accuracy_test 0.6771300448430493\n",
      "roc_auc_test 0.7195071357451046\n"
     ]
    },
    {
     "name": "stderr",
     "output_type": "stream",
     "text": [
      "C:\\anaconda3\\lib\\site-packages\\sklearn\\linear_model\\_logistic.py:762: ConvergenceWarning: lbfgs failed to converge (status=1):\n",
      "STOP: TOTAL NO. of ITERATIONS REACHED LIMIT.\n",
      "\n",
      "Increase the number of iterations (max_iter) or scale the data as shown in:\n",
      "    https://scikit-learn.org/stable/modules/preprocessing.html\n",
      "Please also refer to the documentation for alternative solver options:\n",
      "    https://scikit-learn.org/stable/modules/linear_model.html#logistic-regression\n",
      "  n_iter_i = _check_optimize_result(\n"
     ]
    },
    {
     "data": {
      "text/plain": [
       "<matplotlib.legend.Legend at 0x1d5f8e66a60>"
      ]
     },
     "execution_count": 65,
     "metadata": {},
     "output_type": "execute_result"
    },
    {
     "data": {
      "image/png": "[encoded data removed]",
      "text/plain": [
       "<Figure size 432x288 with 1 Axes>"
      ]
     },
     "metadata": {
      "needs_background": "light"
     },
     "output_type": "display_data"
    }
   ],
   "source": [
    "df = pd.read_csv('train.csv')\n",
    "\n",
    "df_for_train = df.fillna(0)[['Age','SibSp','Pclass','Fare','Survived']]\n",
    "\n",
    "x_train,x_test,y_train,y_test = train_test_split(df_for_train[['Age','SibSp','Pclass','Fare']],\n",
    "                                                 df_for_train['Survived'],\n",
    "                                                random_state=17)\n",
    "from sklearn.linear_model import LogisticRegression\n",
    "\n",
    "scaler = preprocessing.PolynomialFeatures(degree=2)\n",
    "train_data = scaler.fit_transform(x_train)\n",
    "test_data = scaler.fit_transform(x_test)\n",
    "\n",
    "lr = LogisticRegression(random_state=17)\n",
    "\n",
    "lr.fit(train_data,y_train)\n",
    "\n",
    "print(\"accuracy_train\",lr.score(train_data,y_train))\n",
    "print('roc_auc_train',roc_auc_score(y_train, lr.predict_proba(train_data)[:,1]))\n",
    "print(\"accuracy_test\",lr.score(test_data,y_test))\n",
    "print('roc_auc_test',roc_auc_score(y_test,lr.predict_proba(test_data)[:,1]))\n",
    "predict_train = lr.predict_proba(train_data)\n",
    "predict_test = lr.predict_proba(test_data)\n",
    "\n",
    "pd.Series([f1_score(y_train, predict_train[:,1]>i) \n",
    "           for i in np.arange(0,1+0.1,0.1)]).plot()\n",
    "\n",
    "pd.Series([f1_score(y_test, predict_test[:,1]>i) \n",
    "           for i in np.arange(0,1+0.1,0.1)]).plot()\n",
    "plt.legend(['train','test'])"
   ]
  },
  {
   "cell_type": "raw",
   "metadata": {},
   "source": [
    "Normalizer:\n",
    "accuracy_train 0.6901197604790419\n",
    "roc_auc_train 0.6999712918660286\n",
    "accuracy_test 0.6636771300448431\n",
    "roc_auc_test 0.732534019249917\n",
    "\n",
    "StandardScaler:\n",
    "accuracy_train 0.7065868263473054\n",
    "roc_auc_train 0.7098373205741626\n",
    "accuracy_test 0.6905829596412556\n",
    "roc_auc_test 0.7198390308662462\n",
    "\n",
    "MinMaxScaler:\n",
    "accuracy_train 0.7035928143712575\n",
    "roc_auc_train 0.7082392344497608\n",
    "accuracy_test 0.672645739910314\n",
    "roc_auc_test 0.7142797875871224\n",
    "\n",
    "QuantileTransformer:\n",
    "accuracy_train 0.7065868263473054\n",
    "roc_auc_train 0.7090622009569378\n",
    "accuracy_test 0.6905829596412556\n",
    "roc_auc_test 0.7215814802522403\n",
    "\n",
    "PolynomialFeatures:\n",
    "accuracy_train 0.7035928143712575\n",
    "roc_auc_train 0.7076746411483253\n",
    "accuracy_test 0.6771300448430493\n",
    "roc_auc_test 0.7195071357451046"
   ]
  },
  {
   "cell_type": "markdown",
   "metadata": {},
   "source": [
    "# Дерево решений с использованием препроцессинга"
   ]
  },
  {
   "cell_type": "code",
   "execution_count": 88,
   "metadata": {},
   "outputs": [
    {
     "name": "stdout",
     "output_type": "stream",
     "text": [
      "accuracy_train 0.7305389221556886\n",
      "roc_auc_train 0.7256746411483254\n",
      "accuracy_test 0.672645739910314\n",
      "roc_auc_test 0.6758214404248257\n"
     ]
    },
    {
     "data": {
      "text/plain": [
       "<matplotlib.legend.Legend at 0x1d5f88315e0>"
      ]
     },
     "execution_count": 88,
     "metadata": {},
     "output_type": "execute_result"
    },
    {
     "data": {
      "image/png": "[encoded data removed]",
      "text/plain": [
       "<Figure size 432x288 with 1 Axes>"
      ]
     },
     "metadata": {
      "needs_background": "light"
     },
     "output_type": "display_data"
    }
   ],
   "source": [
    "import pandas as pd\n",
    "import numpy as np\n",
    "from sklearn.metrics import roc_auc_score, f1_score\n",
    "import matplotlib.pyplot as plt\n",
    "from sklearn. model_selection import train_test_split\n",
    "df = pd.read_csv('train.csv')\n",
    "\n",
    "df_for_train = df.fillna(0)[['Age','SibSp','Pclass','Fare','Survived']]\n",
    "\n",
    "x_train,x_test,y_train,y_test = train_test_split(df_for_train[['Age','SibSp','Pclass','Fare']],\n",
    "                                                 df_for_train['Survived'],\n",
    "                                                random_state=17)\n",
    "from sklearn.linear_model import LogisticRegression\n",
    "\n",
    "scaler = preprocessing.Normalizer()\n",
    "train_data = scaler.fit_transform(x_train)\n",
    "test_data = scaler.fit_transform(x_test)\n",
    "\n",
    "\n",
    "tree = DecisionTreeClassifier(max_depth = 3, \n",
    "                              random_state=17,\n",
    "                             max_features=4)\n",
    "\n",
    "tree.fit(train_data,y_train)\n",
    "\n",
    "print(\"accuracy_train\",tree.score(train_data,y_train))\n",
    "print('roc_auc_train',roc_auc_score(y_train, tree.predict_proba(train_data)[:,1]))\n",
    "print(\"accuracy_test\",tree.score(test_data,y_test))\n",
    "print('roc_auc_test',roc_auc_score(y_test,tree.predict_proba(test_data)[:,1]))\n",
    "predict_train = tree.predict_proba(train_data)\n",
    "predict_test = tree.predict_proba(test_data)\n",
    "\n",
    "pd.Series([f1_score(y_train, predict_train[:,1]>i) \n",
    "           for i in np.arange(0,1+0.1,0.1)]).plot()\n",
    "\n",
    "pd.Series([f1_score(y_test, predict_test[:,1]>i) \n",
    "           for i in np.arange(0,1+0.1,0.1)]).plot()\n",
    "plt.legend(['train','test'])"
   ]
  },
  {
   "cell_type": "code",
   "execution_count": 87,
   "metadata": {},
   "outputs": [
    {
     "name": "stdout",
     "output_type": "stream",
     "text": [
      "accuracy_train 0.6961077844311377\n",
      "roc_auc_train 0.7274784688995215\n",
      "accuracy_test 0.6591928251121076\n",
      "roc_auc_test 0.6879770992366412\n"
     ]
    },
    {
     "data": {
      "text/plain": [
       "<matplotlib.legend.Legend at 0x1d5fb7a5100>"
      ]
     },
     "execution_count": 87,
     "metadata": {},
     "output_type": "execute_result"
    },
    {
     "data": {
      "image/png": "[encoded data removed]",
      "text/plain": [
       "<Figure size 432x288 with 1 Axes>"
      ]
     },
     "metadata": {
      "needs_background": "light"
     },
     "output_type": "display_data"
    }
   ],
   "source": [
    "df = pd.read_csv('train.csv')\n",
    "\n",
    "df_for_train = df.fillna(0)[['Age','SibSp','Pclass','Fare','Survived']]\n",
    "\n",
    "x_train,x_test,y_train,y_test = train_test_split(df_for_train[['Age','SibSp','Pclass','Fare']],\n",
    "                                                 df_for_train['Survived'],\n",
    "                                                random_state=17)\n",
    "from sklearn.linear_model import LogisticRegression\n",
    "\n",
    "scaler = preprocessing.StandardScaler()\n",
    "train_data = scaler.fit_transform(x_train)\n",
    "test_data = scaler.fit_transform(x_test)\n",
    "\n",
    "\n",
    "tree = DecisionTreeClassifier(max_depth = 3, \n",
    "                              random_state=17,\n",
    "                             max_features=4)\n",
    "\n",
    "tree.fit(train_data,y_train)\n",
    "\n",
    "print(\"accuracy_train\",tree.score(train_data,y_train))\n",
    "print('roc_auc_train',roc_auc_score(y_train, tree.predict_proba(train_data)[:,1]))\n",
    "print(\"accuracy_test\",tree.score(test_data,y_test))\n",
    "print('roc_auc_test',roc_auc_score(y_test,tree.predict_proba(test_data)[:,1]))\n",
    "predict_train = tree.predict_proba(train_data)\n",
    "predict_test = tree.predict_proba(test_data)\n",
    "\n",
    "pd.Series([f1_score(y_train, predict_train[:,1]>i) \n",
    "           for i in np.arange(0,1+0.1,0.1)]).plot()\n",
    "\n",
    "pd.Series([f1_score(y_test, predict_test[:,1]>i) \n",
    "           for i in np.arange(0,1+0.1,0.1)]).plot()\n",
    "plt.legend(['train','test'])"
   ]
  },
  {
   "cell_type": "code",
   "execution_count": 91,
   "metadata": {},
   "outputs": [
    {
     "name": "stdout",
     "output_type": "stream",
     "text": [
      "accuracy_train 0.6961077844311377\n",
      "roc_auc_train 0.7274784688995215\n",
      "accuracy_test 0.6681614349775785\n",
      "roc_auc_test 0.6943245934284766\n"
     ]
    },
    {
     "data": {
      "text/plain": [
       "<matplotlib.legend.Legend at 0x1d5fb983ca0>"
      ]
     },
     "execution_count": 91,
     "metadata": {},
     "output_type": "execute_result"
    },
    {
     "data": {
      "image/png": "[encoded data removed]",
      "text/plain": [
       "<Figure size 432x288 with 1 Axes>"
      ]
     },
     "metadata": {
      "needs_background": "light"
     },
     "output_type": "display_data"
    }
   ],
   "source": [
    "df = pd.read_csv('train.csv')\n",
    "\n",
    "df_for_train = df.fillna(0)[['Age','SibSp','Pclass','Fare','Survived']]\n",
    "\n",
    "x_train,x_test,y_train,y_test = train_test_split(df_for_train[['Age','SibSp','Pclass','Fare']],\n",
    "                                                 df_for_train['Survived'],\n",
    "                                                random_state=17)\n",
    "from sklearn.linear_model import LogisticRegression\n",
    "\n",
    "scaler = preprocessing.MinMaxScaler()\n",
    "train_data = scaler.fit_transform(x_train)\n",
    "test_data = scaler.fit_transform(x_test)\n",
    "\n",
    "\n",
    "tree = DecisionTreeClassifier(max_depth = 3, \n",
    "                              random_state=17,\n",
    "                             max_features=4)\n",
    "\n",
    "tree.fit(train_data,y_train)\n",
    "\n",
    "print(\"accuracy_train\",tree.score(train_data,y_train))\n",
    "print('roc_auc_train',roc_auc_score(y_train, tree.predict_proba(train_data)[:,1]))\n",
    "print(\"accuracy_test\",tree.score(test_data,y_test))\n",
    "print('roc_auc_test',roc_auc_score(y_test,tree.predict_proba(test_data)[:,1]))\n",
    "predict_train = tree.predict_proba(train_data)\n",
    "predict_test = tree.predict_proba(test_data)\n",
    "\n",
    "pd.Series([f1_score(y_train, predict_train[:,1]>i) \n",
    "           for i in np.arange(0,1+0.1,0.1)]).plot()\n",
    "\n",
    "pd.Series([f1_score(y_test, predict_test[:,1]>i) \n",
    "           for i in np.arange(0,1+0.1,0.1)]).plot()\n",
    "plt.legend(['train','test'])"
   ]
  },
  {
   "cell_type": "code",
   "execution_count": 69,
   "metadata": {},
   "outputs": [
    {
     "name": "stderr",
     "output_type": "stream",
     "text": [
      "C:\\anaconda3\\lib\\site-packages\\sklearn\\preprocessing\\_data.py:2367: UserWarning: n_quantiles (1000) is greater than the total number of samples (668). n_quantiles is set to n_samples.\n",
      "  warnings.warn(\"n_quantiles (%s) is greater than the total number \"\n",
      "C:\\anaconda3\\lib\\site-packages\\sklearn\\preprocessing\\_data.py:2367: UserWarning: n_quantiles (1000) is greater than the total number of samples (223). n_quantiles is set to n_samples.\n",
      "  warnings.warn(\"n_quantiles (%s) is greater than the total number \"\n"
     ]
    },
    {
     "name": "stdout",
     "output_type": "stream",
     "text": [
      "accuracy_train 0.6961077844311377\n",
      "roc_auc_train 0.7274784688995215\n",
      "accuracy_test 0.6771300448430493\n",
      "roc_auc_test 0.6911301028874876\n"
     ]
    },
    {
     "data": {
      "text/plain": [
       "<matplotlib.legend.Legend at 0x1d5f8efaa30>"
      ]
     },
     "execution_count": 69,
     "metadata": {},
     "output_type": "execute_result"
    },
    {
     "data": {
      "image/png": "[encoded data removed]",
      "text/plain": [
       "<Figure size 432x288 with 1 Axes>"
      ]
     },
     "metadata": {
      "needs_background": "light"
     },
     "output_type": "display_data"
    }
   ],
   "source": [
    "df = pd.read_csv('train.csv')\n",
    "\n",
    "df_for_train = df.fillna(0)[['Age','SibSp','Pclass','Fare','Survived']]\n",
    "\n",
    "x_train,x_test,y_train,y_test = train_test_split(df_for_train[['Age','SibSp','Pclass','Fare']],\n",
    "                                                 df_for_train['Survived'],\n",
    "                                                random_state=17)\n",
    "from sklearn.linear_model import LogisticRegression\n",
    "\n",
    "scaler = preprocessing.QuantileTransformer()\n",
    "train_data = scaler.fit_transform(x_train)\n",
    "test_data = scaler.fit_transform(x_test)\n",
    "\n",
    "\n",
    "tree = DecisionTreeClassifier(max_depth = 3, \n",
    "                              random_state=17)\n",
    "\n",
    "tree.fit(train_data,y_train)\n",
    "\n",
    "print(\"accuracy_train\",tree.score(train_data,y_train))\n",
    "print('roc_auc_train',roc_auc_score(y_train, tree.predict_proba(train_data)[:,1]))\n",
    "print(\"accuracy_test\",tree.score(test_data,y_test))\n",
    "print('roc_auc_test',roc_auc_score(y_test,tree.predict_proba(test_data)[:,1]))\n",
    "predict_train = tree.predict_proba(train_data)\n",
    "predict_test = tree.predict_proba(test_data)\n",
    "\n",
    "pd.Series([f1_score(y_train, predict_train[:,1]>i) \n",
    "           for i in np.arange(0,1+0.1,0.1)]).plot()\n",
    "\n",
    "pd.Series([f1_score(y_test, predict_test[:,1]>i) \n",
    "           for i in np.arange(0,1+0.1,0.1)]).plot()\n",
    "plt.legend(['train','test'])"
   ]
  },
  {
   "cell_type": "code",
   "execution_count": 70,
   "metadata": {},
   "outputs": [
    {
     "name": "stdout",
     "output_type": "stream",
     "text": [
      "accuracy_train 0.7245508982035929\n",
      "roc_auc_train 0.7560239234449759\n",
      "accuracy_test 0.6860986547085202\n",
      "roc_auc_test 0.7073929638234316\n"
     ]
    },
    {
     "data": {
      "text/plain": [
       "<matplotlib.legend.Legend at 0x1d5f8fcf520>"
      ]
     },
     "execution_count": 70,
     "metadata": {},
     "output_type": "execute_result"
    },
    {
     "data": {
      "image/png": "[encoded data removed]",
      "text/plain": [
       "<Figure size 432x288 with 1 Axes>"
      ]
     },
     "metadata": {
      "needs_background": "light"
     },
     "output_type": "display_data"
    }
   ],
   "source": [
    "df = pd.read_csv('train.csv')\n",
    "\n",
    "df_for_train = df.fillna(0)[['Age','SibSp','Pclass','Fare','Survived']]\n",
    "\n",
    "x_train,x_test,y_train,y_test = train_test_split(df_for_train[['Age','SibSp','Pclass','Fare']],\n",
    "                                                 df_for_train['Survived'],\n",
    "                                                random_state=17)\n",
    "from sklearn.linear_model import LogisticRegression\n",
    "\n",
    "scaler = preprocessing.PolynomialFeatures(degree=2)\n",
    "train_data = scaler.fit_transform(x_train)\n",
    "test_data = scaler.fit_transform(x_test)\n",
    "\n",
    "\n",
    "tree = DecisionTreeClassifier(max_depth = 3, \n",
    "                              random_state=17)\n",
    "\n",
    "tree.fit(train_data,y_train)\n",
    "\n",
    "print(\"accuracy_train\",tree.score(train_data,y_train))\n",
    "print('roc_auc_train',roc_auc_score(y_train, tree.predict_proba(train_data)[:,1]))\n",
    "print(\"accuracy_test\",tree.score(test_data,y_test))\n",
    "print('roc_auc_test',roc_auc_score(y_test,tree.predict_proba(test_data)[:,1]))\n",
    "predict_train = tree.predict_proba(train_data)\n",
    "predict_test = tree.predict_proba(test_data)\n",
    "\n",
    "pd.Series([f1_score(y_train, predict_train[:,1]>i) \n",
    "           for i in np.arange(0,1+0.1,0.1)]).plot()\n",
    "\n",
    "pd.Series([f1_score(y_test, predict_test[:,1]>i) \n",
    "           for i in np.arange(0,1+0.1,0.1)]).plot()\n",
    "plt.legend(['train','test'])"
   ]
  },
  {
   "cell_type": "raw",
   "metadata": {},
   "source": [
    "Normalizer:\n",
    "accuracy_train 0.7305389221556886\n",
    "roc_auc_train 0.7256746411483254\n",
    "accuracy_test 0.672645739910314\n",
    "roc_auc_test 0.6758214404248257\n",
    "\n",
    "StandardScaler:\n",
    "accuracy_train 0.6961077844311377\n",
    "roc_auc_train 0.7274784688995215\n",
    "accuracy_test 0.6591928251121076\n",
    "roc_auc_test 0.6879770992366412\n",
    "\n",
    "MinMaxScaler:\n",
    "accuracy_train 0.6961077844311377\n",
    "roc_auc_train 0.7274784688995215\n",
    "accuracy_test 0.6681614349775785\n",
    "roc_auc_test 0.6943245934284766\n",
    "\n",
    "QuantileTransformer:\n",
    "accuracy_train 0.6961077844311377\n",
    "roc_auc_train 0.7274784688995215\n",
    "accuracy_test 0.6771300448430493\n",
    "roc_auc_test 0.6911301028874876\n",
    "\n",
    "PolynomialFeatures:\n",
    "accuracy_train 0.7245508982035929\n",
    "roc_auc_train 0.7560239234449759\n",
    "accuracy_test 0.6860986547085202\n",
    "roc_auc_test 0.7073929638234316"
   ]
  },
  {
   "cell_type": "markdown",
   "metadata": {},
   "source": [
    "# Логистическая регрессия с использованием препроцессинга и добавление новых стобцов и OneHotEncoder"
   ]
  },
  {
   "cell_type": "code",
   "execution_count": 77,
   "metadata": {},
   "outputs": [
    {
     "name": "stdout",
     "output_type": "stream",
     "text": [
      "accuracy_train 0.6302395209580839\n",
      "roc_auc_train 0.696952153110048\n",
      "accuracy_test 0.5739910313901345\n",
      "roc_auc_test 0.7405824759376037\n"
     ]
    },
    {
     "name": "stderr",
     "output_type": "stream",
     "text": [
      "C:\\anaconda3\\lib\\site-packages\\sklearn\\utils\\validation.py:72: DataConversionWarning: A column-vector y was passed when a 1d array was expected. Please change the shape of y to (n_samples, ), for example using ravel().\n",
      "  return f(**kwargs)\n"
     ]
    },
    {
     "data": {
      "text/plain": [
       "<matplotlib.legend.Legend at 0x1d5f8bff340>"
      ]
     },
     "execution_count": 77,
     "metadata": {},
     "output_type": "execute_result"
    },
    {
     "data": {
      "image/png": "[encoded data removed]",
      "text/plain": [
       "<Figure size 432x288 with 1 Axes>"
      ]
     },
     "metadata": {
      "needs_background": "light"
     },
     "output_type": "display_data"
    }
   ],
   "source": [
    "import pandas as pd\n",
    "import numpy as np\n",
    "from sklearn.metrics import roc_auc_score, f1_score\n",
    "import matplotlib.pyplot as plt\n",
    "from sklearn. model_selection import train_test_split\n",
    "df = pd.read_csv('train.csv')\n",
    "\n",
    "\n",
    "enc_1 = OneHotEncoder()\n",
    "df_ = df[['Embarked','Sex']].fillna(' ')\n",
    "df_.astype('string')\n",
    "enc_1.fit(df_[['Embarked','Sex']])\n",
    "states = df_.values[:]\n",
    "encoded_ds = enc_1.transform(states).toarray()\n",
    "gn_df = pd.DataFrame(encoded_ds,\n",
    "             columns=enc_1.get_feature_names())\n",
    "\n",
    "\n",
    "df_for_train = df.fillna(0)[['Age', 'SibSp', 'Pclass', 'Fare', 'Survived']]\n",
    "\n",
    "df_for_train2 = pd.concat((df_for_train, gn_df), \n",
    "                         axis=1)\n",
    "df_for_train2['Age_Fare']= df_for_train2['Age']*df_for_train2['Fare']\n",
    "df_for_train2['SibSp_Pclass']= df_for_train2['SibSp']*df_for_train2['Pclass']\n",
    "df_for_train2['Pclass_Fare']= df_for_train2['Pclass']*df_for_train2['Fare']\n",
    "df_for_train2['SibSp_Age']= df_for_train2['SibSp']*df_for_train2['Age']\n",
    "\n",
    "df_train,df_test = train_test_split(df_for_train2.copy(),test_size=0.25,random_state=17)\n",
    "\n",
    "x_train,y_train = df_train[['Age', 'SibSp', 'Pclass', 'Fare','x0_C','x0_Q','x0_S','x1_female','x1_male','Age_Fare','SibSp_Pclass','Pclass_Fare']], df_train[['Survived']]\n",
    "\n",
    "x_test,y_test = df_test[['Age', 'SibSp', 'Pclass', 'Fare','x0_C','x0_Q','x0_S','x1_female','x1_male','Age_Fare','SibSp_Pclass','Pclass_Fare']], df_test[['Survived']]\n",
    "\n",
    "\n",
    "from sklearn.linear_model import LogisticRegression\n",
    "\n",
    "scaler = preprocessing.Normalizer()\n",
    "train_data = scaler.fit_transform(x_train)\n",
    "test_data = scaler.fit_transform(x_test)\n",
    "\n",
    "lr = LogisticRegression(random_state=17)\n",
    "\n",
    "lr.fit(train_data,y_train)\n",
    "\n",
    "print(\"accuracy_train\",lr.score(train_data,y_train))\n",
    "print('roc_auc_train',roc_auc_score(y_train, lr.predict_proba(train_data)[:,1]))\n",
    "print(\"accuracy_test\",lr.score(test_data,y_test))\n",
    "print('roc_auc_test',roc_auc_score(y_test,lr.predict_proba(test_data)[:,1]))\n",
    "predict_train = lr.predict_proba(train_data)\n",
    "predict_test = lr.predict_proba(test_data)\n",
    "\n",
    "pd.Series([f1_score(y_train, predict_train[:,1]>i) \n",
    "           for i in np.arange(0,1+0.1,0.1)]).plot()\n",
    "\n",
    "pd.Series([f1_score(y_test, predict_test[:,1]>i) \n",
    "           for i in np.arange(0,1+0.1,0.1)]).plot()\n",
    "plt.legend(['train','test'])"
   ]
  },
  {
   "cell_type": "code",
   "execution_count": 78,
   "metadata": {},
   "outputs": [
    {
     "name": "stdout",
     "output_type": "stream",
     "text": [
      "accuracy_train 0.8158682634730539\n",
      "roc_auc_train 0.8542440191387559\n",
      "accuracy_test 0.7668161434977578\n",
      "roc_auc_test 0.8406488549618321\n"
     ]
    },
    {
     "name": "stderr",
     "output_type": "stream",
     "text": [
      "C:\\anaconda3\\lib\\site-packages\\sklearn\\utils\\validation.py:72: DataConversionWarning: A column-vector y was passed when a 1d array was expected. Please change the shape of y to (n_samples, ), for example using ravel().\n",
      "  return f(**kwargs)\n"
     ]
    },
    {
     "data": {
      "text/plain": [
       "<matplotlib.legend.Legend at 0x1d5f9375550>"
      ]
     },
     "execution_count": 78,
     "metadata": {},
     "output_type": "execute_result"
    },
    {
     "data": {
      "image/png": "[encoded data removed]",
      "text/plain": [
       "<Figure size 432x288 with 1 Axes>"
      ]
     },
     "metadata": {
      "needs_background": "light"
     },
     "output_type": "display_data"
    }
   ],
   "source": [
    "import pandas as pd\n",
    "import numpy as np\n",
    "from sklearn.metrics import roc_auc_score, f1_score\n",
    "import matplotlib.pyplot as plt\n",
    "from sklearn. model_selection import train_test_split\n",
    "df = pd.read_csv('train.csv')\n",
    "\n",
    "\n",
    "enc_1 = OneHotEncoder()\n",
    "df_ = df[['Embarked','Sex']].fillna(' ')\n",
    "df_.astype('string')\n",
    "enc_1.fit(df_[['Embarked','Sex']])\n",
    "states = df_.values[:]\n",
    "encoded_ds = enc_1.transform(states).toarray()\n",
    "gn_df = pd.DataFrame(encoded_ds,\n",
    "             columns=enc_1.get_feature_names())\n",
    "\n",
    "\n",
    "df_for_train = df.fillna(0)[['Age', 'SibSp', 'Pclass', 'Fare', 'Survived']]\n",
    "\n",
    "df_for_train2 = pd.concat((df_for_train, gn_df), \n",
    "                         axis=1)\n",
    "df_for_train2['Age_Fare']= df_for_train2['Age']*df_for_train2['Fare']\n",
    "df_for_train2['SibSp_Pclass']= df_for_train2['SibSp']*df_for_train2['Pclass']\n",
    "df_for_train2['Pclass_Fare']= df_for_train2['Pclass']*df_for_train2['Fare']\n",
    "df_for_train2['SibSp_Age']= df_for_train2['SibSp']*df_for_train2['Age']\n",
    "\n",
    "df_train,df_test = train_test_split(df_for_train2.copy(),test_size=0.25,random_state=17)\n",
    "\n",
    "x_train,y_train = df_train[['Age', 'SibSp', 'Pclass', 'Fare','x0_C','x0_Q','x0_S','x1_female','x1_male','Age_Fare','SibSp_Pclass','Pclass_Fare']], df_train[['Survived']]\n",
    "\n",
    "x_test,y_test = df_test[['Age', 'SibSp', 'Pclass', 'Fare','x0_C','x0_Q','x0_S','x1_female','x1_male','Age_Fare','SibSp_Pclass','Pclass_Fare']], df_test[['Survived']]\n",
    "\n",
    "\n",
    "from sklearn.linear_model import LogisticRegression\n",
    "\n",
    "scaler = preprocessing.StandardScaler()\n",
    "train_data = scaler.fit_transform(x_train)\n",
    "test_data = scaler.fit_transform(x_test)\n",
    "\n",
    "lr = LogisticRegression(random_state=17)\n",
    "\n",
    "lr.fit(train_data,y_train)\n",
    "\n",
    "print(\"accuracy_train\",lr.score(train_data,y_train))\n",
    "print('roc_auc_train',roc_auc_score(y_train, lr.predict_proba(train_data)[:,1]))\n",
    "print(\"accuracy_test\",lr.score(test_data,y_test))\n",
    "print('roc_auc_test',roc_auc_score(y_test,lr.predict_proba(test_data)[:,1]))\n",
    "predict_train = lr.predict_proba(train_data)\n",
    "predict_test = lr.predict_proba(test_data)\n",
    "\n",
    "pd.Series([f1_score(y_train, predict_train[:,1]>i) \n",
    "           for i in np.arange(0,1+0.1,0.1)]).plot()\n",
    "\n",
    "pd.Series([f1_score(y_test, predict_test[:,1]>i) \n",
    "           for i in np.arange(0,1+0.1,0.1)]).plot()\n",
    "plt.legend(['train','test'])"
   ]
  },
  {
   "cell_type": "code",
   "execution_count": 97,
   "metadata": {},
   "outputs": [
    {
     "name": "stdout",
     "output_type": "stream",
     "text": [
      "accuracy_train 0.7964071856287425\n",
      "roc_auc_train 0.8533732057416268\n",
      "accuracy_test 0.7713004484304933\n",
      "roc_auc_test 0.8376617988715566\n"
     ]
    },
    {
     "name": "stderr",
     "output_type": "stream",
     "text": [
      "C:\\anaconda3\\lib\\site-packages\\sklearn\\utils\\validation.py:72: DataConversionWarning: A column-vector y was passed when a 1d array was expected. Please change the shape of y to (n_samples, ), for example using ravel().\n",
      "  return f(**kwargs)\n"
     ]
    },
    {
     "data": {
      "text/plain": [
       "<matplotlib.legend.Legend at 0x1d5fbc4d730>"
      ]
     },
     "execution_count": 97,
     "metadata": {},
     "output_type": "execute_result"
    },
    {
     "data": {
      "image/png": "[encoded data removed]",
      "text/plain": [
       "<Figure size 432x288 with 1 Axes>"
      ]
     },
     "metadata": {
      "needs_background": "light"
     },
     "output_type": "display_data"
    }
   ],
   "source": [
    "import pandas as pd\n",
    "import numpy as np\n",
    "from sklearn.metrics import roc_auc_score, f1_score\n",
    "import matplotlib.pyplot as plt\n",
    "from sklearn. model_selection import train_test_split\n",
    "df = pd.read_csv('train.csv')\n",
    "\n",
    "\n",
    "enc_1 = OneHotEncoder()\n",
    "df_ = df[['Embarked','Sex']].fillna(' ')\n",
    "df_.astype('string')\n",
    "enc_1.fit(df_[['Embarked','Sex']])\n",
    "states = df_.values[:]\n",
    "encoded_ds = enc_1.transform(states).toarray()\n",
    "gn_df = pd.DataFrame(encoded_ds,\n",
    "             columns=enc_1.get_feature_names())\n",
    "\n",
    "\n",
    "df_for_train = df.fillna(0)[['Age', 'SibSp', 'Pclass', 'Fare', 'Survived']]\n",
    "\n",
    "df_for_train2 = pd.concat((df_for_train, gn_df), \n",
    "                         axis=1)\n",
    "df_for_train2['Age_Fare']= df_for_train2['Age']*df_for_train2['Fare']\n",
    "df_for_train2['SibSp_Pclass']= df_for_train2['SibSp']*df_for_train2['Pclass']\n",
    "df_for_train2['Pclass_Fare']= df_for_train2['Pclass']*df_for_train2['Fare']\n",
    "df_for_train2['SibSp_Age']= df_for_train2['SibSp']*df_for_train2['Age']\n",
    "\n",
    "df_train,df_test = train_test_split(df_for_train2.copy(),test_size=0.25,random_state=17)\n",
    "\n",
    "x_train,y_train = df_train[['Age', 'SibSp', 'Pclass', 'Fare','x0_C','x0_Q','x0_S','x1_female','x1_male','Age_Fare','SibSp_Pclass','Pclass_Fare']], df_train[['Survived']]\n",
    "\n",
    "x_test,y_test = df_test[['Age', 'SibSp', 'Pclass', 'Fare','x0_C','x0_Q','x0_S','x1_female','x1_male','Age_Fare','SibSp_Pclass','Pclass_Fare']], df_test[['Survived']]\n",
    "\n",
    "\n",
    "from sklearn.linear_model import LogisticRegression\n",
    "\n",
    "scaler = preprocessing.MinMaxScaler()\n",
    "train_data = scaler.fit_transform(x_train)\n",
    "test_data = scaler.fit_transform(x_test)\n",
    "\n",
    "lr = LogisticRegression(random_state=17)\n",
    "\n",
    "lr.fit(train_data,y_train)\n",
    "\n",
    "print(\"accuracy_train\",lr.score(train_data,y_train))\n",
    "print('roc_auc_train',roc_auc_score(y_train, lr.predict_proba(train_data)[:,1]))\n",
    "print(\"accuracy_test\",lr.score(test_data,y_test))\n",
    "print('roc_auc_test',roc_auc_score(y_test,lr.predict_proba(test_data)[:,1]))\n",
    "predict_train = lr.predict_proba(train_data)\n",
    "predict_test = lr.predict_proba(test_data)\n",
    "\n",
    "pd.Series([f1_score(y_train, predict_train[:,1]>i) \n",
    "           for i in np.arange(0,1+0.1,0.1)]).plot()\n",
    "\n",
    "pd.Series([f1_score(y_test, predict_test[:,1]>i) \n",
    "           for i in np.arange(0,1+0.1,0.1)]).plot()\n",
    "plt.legend(['train','test'])"
   ]
  },
  {
   "cell_type": "code",
   "execution_count": 80,
   "metadata": {},
   "outputs": [
    {
     "name": "stderr",
     "output_type": "stream",
     "text": [
      "C:\\anaconda3\\lib\\site-packages\\sklearn\\preprocessing\\_data.py:2367: UserWarning: n_quantiles (1000) is greater than the total number of samples (668). n_quantiles is set to n_samples.\n",
      "  warnings.warn(\"n_quantiles (%s) is greater than the total number \"\n",
      "C:\\anaconda3\\lib\\site-packages\\sklearn\\preprocessing\\_data.py:2367: UserWarning: n_quantiles (1000) is greater than the total number of samples (223). n_quantiles is set to n_samples.\n",
      "  warnings.warn(\"n_quantiles (%s) is greater than the total number \"\n",
      "C:\\anaconda3\\lib\\site-packages\\sklearn\\utils\\validation.py:72: DataConversionWarning: A column-vector y was passed when a 1d array was expected. Please change the shape of y to (n_samples, ), for example using ravel().\n",
      "  return f(**kwargs)\n"
     ]
    },
    {
     "name": "stdout",
     "output_type": "stream",
     "text": [
      "accuracy_train 0.7994011976047904\n",
      "roc_auc_train 0.8475645933014354\n",
      "accuracy_test 0.757847533632287\n",
      "roc_auc_test 0.8278708927978758\n"
     ]
    },
    {
     "data": {
      "text/plain": [
       "<matplotlib.legend.Legend at 0x1d5f90b4520>"
      ]
     },
     "execution_count": 80,
     "metadata": {},
     "output_type": "execute_result"
    },
    {
     "data": {
      "image/png": "[encoded data removed]",
      "text/plain": [
       "<Figure size 432x288 with 1 Axes>"
      ]
     },
     "metadata": {
      "needs_background": "light"
     },
     "output_type": "display_data"
    }
   ],
   "source": [
    "import pandas as pd\n",
    "import numpy as np\n",
    "from sklearn.metrics import roc_auc_score, f1_score\n",
    "import matplotlib.pyplot as plt\n",
    "from sklearn. model_selection import train_test_split\n",
    "df = pd.read_csv('train.csv')\n",
    "\n",
    "\n",
    "enc_1 = OneHotEncoder()\n",
    "df_ = df[['Embarked','Sex']].fillna(' ')\n",
    "df_.astype('string')\n",
    "enc_1.fit(df_[['Embarked','Sex']])\n",
    "states = df_.values[:]\n",
    "encoded_ds = enc_1.transform(states).toarray()\n",
    "gn_df = pd.DataFrame(encoded_ds,\n",
    "             columns=enc_1.get_feature_names())\n",
    "\n",
    "\n",
    "df_for_train = df.fillna(0)[['Age', 'SibSp', 'Pclass', 'Fare', 'Survived']]\n",
    "\n",
    "df_for_train2 = pd.concat((df_for_train, gn_df), \n",
    "                         axis=1)\n",
    "df_for_train2['Age_Fare']= df_for_train2['Age']*df_for_train2['Fare']\n",
    "df_for_train2['SibSp_Pclass']= df_for_train2['SibSp']*df_for_train2['Pclass']\n",
    "df_for_train2['Pclass_Fare']= df_for_train2['Pclass']*df_for_train2['Fare']\n",
    "df_for_train2['SibSp_Age']= df_for_train2['SibSp']*df_for_train2['Age']\n",
    "\n",
    "df_train,df_test = train_test_split(df_for_train2.copy(),test_size=0.25,random_state=17)\n",
    "\n",
    "x_train,y_train = df_train[['Age', 'SibSp', 'Pclass', 'Fare','x0_C','x0_Q','x0_S','x1_female','x1_male','Age_Fare','SibSp_Pclass','Pclass_Fare']], df_train[['Survived']]\n",
    "\n",
    "x_test,y_test = df_test[['Age', 'SibSp', 'Pclass', 'Fare','x0_C','x0_Q','x0_S','x1_female','x1_male','Age_Fare','SibSp_Pclass','Pclass_Fare']], df_test[['Survived']]\n",
    "\n",
    "\n",
    "from sklearn.linear_model import LogisticRegression\n",
    "\n",
    "scaler = preprocessing.QuantileTransformer()\n",
    "train_data = scaler.fit_transform(x_train)\n",
    "test_data = scaler.fit_transform(x_test)\n",
    "\n",
    "lr = LogisticRegression(random_state=17)\n",
    "\n",
    "lr.fit(train_data,y_train)\n",
    "\n",
    "print(\"accuracy_train\",lr.score(train_data,y_train))\n",
    "print('roc_auc_train',roc_auc_score(y_train, lr.predict_proba(train_data)[:,1]))\n",
    "print(\"accuracy_test\",lr.score(test_data,y_test))\n",
    "print('roc_auc_test',roc_auc_score(y_test,lr.predict_proba(test_data)[:,1]))\n",
    "predict_train = lr.predict_proba(train_data)\n",
    "predict_test = lr.predict_proba(test_data)\n",
    "\n",
    "pd.Series([f1_score(y_train, predict_train[:,1]>i) \n",
    "           for i in np.arange(0,1+0.1,0.1)]).plot()\n",
    "\n",
    "pd.Series([f1_score(y_test, predict_test[:,1]>i) \n",
    "           for i in np.arange(0,1+0.1,0.1)]).plot()\n",
    "plt.legend(['train','test'])"
   ]
  },
  {
   "cell_type": "code",
   "execution_count": 81,
   "metadata": {},
   "outputs": [
    {
     "name": "stderr",
     "output_type": "stream",
     "text": [
      "C:\\anaconda3\\lib\\site-packages\\sklearn\\utils\\validation.py:72: DataConversionWarning: A column-vector y was passed when a 1d array was expected. Please change the shape of y to (n_samples, ), for example using ravel().\n",
      "  return f(**kwargs)\n",
      "C:\\anaconda3\\lib\\site-packages\\sklearn\\linear_model\\_logistic.py:762: ConvergenceWarning: lbfgs failed to converge (status=1):\n",
      "STOP: TOTAL NO. of ITERATIONS REACHED LIMIT.\n",
      "\n",
      "Increase the number of iterations (max_iter) or scale the data as shown in:\n",
      "    https://scikit-learn.org/stable/modules/preprocessing.html\n",
      "Please also refer to the documentation for alternative solver options:\n",
      "    https://scikit-learn.org/stable/modules/linear_model.html#logistic-regression\n",
      "  n_iter_i = _check_optimize_result(\n"
     ]
    },
    {
     "name": "stdout",
     "output_type": "stream",
     "text": [
      "accuracy_train 0.7080838323353293\n",
      "roc_auc_train 0.6458516746411483\n",
      "accuracy_test 0.6816143497757847\n",
      "roc_auc_test 0.6498091603053434\n"
     ]
    },
    {
     "data": {
      "text/plain": [
       "<matplotlib.legend.Legend at 0x1d5f8840eb0>"
      ]
     },
     "execution_count": 81,
     "metadata": {},
     "output_type": "execute_result"
    },
    {
     "data": {
      "image/png": "[encoded data removed]",
      "text/plain": [
       "<Figure size 432x288 with 1 Axes>"
      ]
     },
     "metadata": {
      "needs_background": "light"
     },
     "output_type": "display_data"
    }
   ],
   "source": [
    "import pandas as pd\n",
    "import numpy as np\n",
    "from sklearn.metrics import roc_auc_score, f1_score\n",
    "import matplotlib.pyplot as plt\n",
    "from sklearn. model_selection import train_test_split\n",
    "df = pd.read_csv('train.csv')\n",
    "\n",
    "\n",
    "enc_1 = OneHotEncoder()\n",
    "df_ = df[['Embarked','Sex']].fillna(' ')\n",
    "df_.astype('string')\n",
    "enc_1.fit(df_[['Embarked','Sex']])\n",
    "states = df_.values[:]\n",
    "encoded_ds = enc_1.transform(states).toarray()\n",
    "gn_df = pd.DataFrame(encoded_ds,\n",
    "             columns=enc_1.get_feature_names())\n",
    "\n",
    "\n",
    "df_for_train = df.fillna(0)[['Age', 'SibSp', 'Pclass', 'Fare', 'Survived']]\n",
    "\n",
    "df_for_train2 = pd.concat((df_for_train, gn_df), \n",
    "                         axis=1)\n",
    "df_for_train2['Age_Fare']= df_for_train2['Age']*df_for_train2['Fare']\n",
    "df_for_train2['SibSp_Pclass']= df_for_train2['SibSp']*df_for_train2['Pclass']\n",
    "df_for_train2['Pclass_Fare']= df_for_train2['Pclass']*df_for_train2['Fare']\n",
    "df_for_train2['SibSp_Age']= df_for_train2['SibSp']*df_for_train2['Age']\n",
    "\n",
    "df_train,df_test = train_test_split(df_for_train2.copy(),test_size=0.25,random_state=17)\n",
    "\n",
    "x_train,y_train = df_train[['Age', 'SibSp', 'Pclass', 'Fare','x0_C','x0_Q','x0_S','x1_female','x1_male','Age_Fare','SibSp_Pclass','Pclass_Fare']], df_train[['Survived']]\n",
    "\n",
    "x_test,y_test = df_test[['Age', 'SibSp', 'Pclass', 'Fare','x0_C','x0_Q','x0_S','x1_female','x1_male','Age_Fare','SibSp_Pclass','Pclass_Fare']], df_test[['Survived']]\n",
    "\n",
    "\n",
    "from sklearn.linear_model import LogisticRegression\n",
    "\n",
    "scaler = preprocessing.PolynomialFeatures(degree=2)\n",
    "train_data = scaler.fit_transform(x_train)\n",
    "test_data = scaler.fit_transform(x_test)\n",
    "\n",
    "lr = LogisticRegression(random_state=17)\n",
    "\n",
    "lr.fit(train_data,y_train)\n",
    "\n",
    "print(\"accuracy_train\",lr.score(train_data,y_train))\n",
    "print('roc_auc_train',roc_auc_score(y_train, lr.predict_proba(train_data)[:,1]))\n",
    "print(\"accuracy_test\",lr.score(test_data,y_test))\n",
    "print('roc_auc_test',roc_auc_score(y_test,lr.predict_proba(test_data)[:,1]))\n",
    "predict_train = lr.predict_proba(train_data)\n",
    "predict_test = lr.predict_proba(test_data)\n",
    "\n",
    "pd.Series([f1_score(y_train, predict_train[:,1]>i) \n",
    "           for i in np.arange(0,1+0.1,0.1)]).plot()\n",
    "\n",
    "pd.Series([f1_score(y_test, predict_test[:,1]>i) \n",
    "           for i in np.arange(0,1+0.1,0.1)]).plot()\n",
    "plt.legend(['train','test'])"
   ]
  },
  {
   "cell_type": "raw",
   "metadata": {},
   "source": [
    "Normalizer:\n",
    "accuracy_train 0.6302395209580839\n",
    "roc_auc_train 0.696952153110048\n",
    "accuracy_test 0.5739910313901345\n",
    "roc_auc_test 0.7405824759376037\n",
    "\n",
    "StandardScaler:\n",
    "accuracy_train 0.8158682634730539\n",
    "roc_auc_train 0.8542440191387559\n",
    "accuracy_test 0.7668161434977578\n",
    "roc_auc_test 0.8406488549618321\n",
    "\n",
    "MinMaxScaler:\n",
    "accuracy_train 0.7964071856287425\n",
    "roc_auc_train 0.8533732057416268\n",
    "accuracy_test 0.7713004484304933\n",
    "roc_auc_test 0.8376617988715566\n",
    "\n",
    "QuantileTransformer:\n",
    "accuracy_train 0.7994011976047904\n",
    "roc_auc_train 0.8475645933014354\n",
    "accuracy_test 0.757847533632287\n",
    "roc_auc_test 0.8278708927978758\n",
    "\n",
    "PolynomialFeatures:\n",
    "accuracy_train 0.7080838323353293\n",
    "roc_auc_train 0.6458516746411483\n",
    "accuracy_test 0.6816143497757847\n",
    "roc_auc_test 0.6498091603053434"
   ]
  },
  {
   "cell_type": "markdown",
   "metadata": {},
   "source": [
    "# Дерево решений с использованием препроцессинга и добавление новых стобцов и OneHotEncoder"
   ]
  },
  {
   "cell_type": "code",
   "execution_count": 82,
   "metadata": {},
   "outputs": [
    {
     "name": "stdout",
     "output_type": "stream",
     "text": [
      "accuracy_train 0.8248502994011976\n",
      "roc_auc_train 0.8561866028708133\n",
      "accuracy_test 0.7713004484304933\n",
      "roc_auc_test 0.8222701626286093\n"
     ]
    },
    {
     "data": {
      "text/plain": [
       "<matplotlib.legend.Legend at 0x1d5f901e640>"
      ]
     },
     "execution_count": 82,
     "metadata": {},
     "output_type": "execute_result"
    },
    {
     "data": {
      "image/png": "[encoded data removed]",
      "text/plain": [
       "<Figure size 432x288 with 1 Axes>"
      ]
     },
     "metadata": {
      "needs_background": "light"
     },
     "output_type": "display_data"
    }
   ],
   "source": [
    "import pandas as pd\n",
    "import numpy as np\n",
    "from sklearn.metrics import roc_auc_score, f1_score\n",
    "import matplotlib.pyplot as plt\n",
    "from sklearn. model_selection import train_test_split\n",
    "df = pd.read_csv('train.csv')\n",
    "\n",
    "\n",
    "enc_1 = OneHotEncoder()\n",
    "df_ = df[['Embarked','Sex']].fillna(' ')\n",
    "df_.astype('string')\n",
    "enc_1.fit(df_[['Embarked','Sex']])\n",
    "states = df_.values[:]\n",
    "encoded_ds = enc_1.transform(states).toarray()\n",
    "gn_df = pd.DataFrame(encoded_ds,\n",
    "             columns=enc_1.get_feature_names())\n",
    "\n",
    "\n",
    "df_for_train = df.fillna(0)[['Age', 'SibSp', 'Pclass', 'Fare', 'Survived']]\n",
    "\n",
    "df_for_train2 = pd.concat((df_for_train, gn_df), \n",
    "                         axis=1)\n",
    "df_for_train2['Age_Fare']= df_for_train2['Age']*df_for_train2['Fare']\n",
    "df_for_train2['SibSp_Pclass']= df_for_train2['SibSp']*df_for_train2['Pclass']\n",
    "df_for_train2['Pclass_Fare']= df_for_train2['Pclass']*df_for_train2['Fare']\n",
    "df_for_train2['SibSp_Age']= df_for_train2['SibSp']*df_for_train2['Age']\n",
    "\n",
    "df_train,df_test = train_test_split(df_for_train2.copy(),test_size=0.25,random_state=17)\n",
    "\n",
    "x_train,y_train = df_train[['Age', 'SibSp', 'Pclass', 'Fare','x0_C','x0_Q','x0_S','x1_female','x1_male','Age_Fare','SibSp_Pclass','Pclass_Fare']], df_train[['Survived']]\n",
    "\n",
    "x_test,y_test = df_test[['Age', 'SibSp', 'Pclass', 'Fare','x0_C','x0_Q','x0_S','x1_female','x1_male','Age_Fare','SibSp_Pclass','Pclass_Fare']], df_test[['Survived']]\n",
    "\n",
    "\n",
    "from sklearn.linear_model import LogisticRegression\n",
    "\n",
    "scaler = preprocessing.Normalizer()\n",
    "train_data = scaler.fit_transform(x_train)\n",
    "test_data = scaler.fit_transform(x_test)\n",
    "\n",
    "tree = DecisionTreeClassifier(max_depth = 3, \n",
    "                              random_state=17)\n",
    "\n",
    "tree.fit(train_data,y_train)\n",
    "\n",
    "print(\"accuracy_train\",tree.score(train_data,y_train))\n",
    "print('roc_auc_train',roc_auc_score(y_train, tree.predict_proba(train_data)[:,1]))\n",
    "print(\"accuracy_test\",tree.score(test_data,y_test))\n",
    "print('roc_auc_test',roc_auc_score(y_test,tree.predict_proba(test_data)[:,1]))\n",
    "predict_train = tree.predict_proba(train_data)\n",
    "predict_test = tree.predict_proba(test_data)\n",
    "\n",
    "pd.Series([f1_score(y_train, predict_train[:,1]>i) \n",
    "           for i in np.arange(0,1+0.1,0.1)]).plot()\n",
    "\n",
    "pd.Series([f1_score(y_test, predict_test[:,1]>i) \n",
    "           for i in np.arange(0,1+0.1,0.1)]).plot()\n",
    "plt.legend(['train','test'])"
   ]
  },
  {
   "cell_type": "code",
   "execution_count": 83,
   "metadata": {},
   "outputs": [
    {
     "name": "stdout",
     "output_type": "stream",
     "text": [
      "accuracy_train 0.8263473053892215\n",
      "roc_auc_train 0.8551961722488037\n",
      "accuracy_test 0.7623318385650224\n",
      "roc_auc_test 0.8057998672419515\n"
     ]
    },
    {
     "data": {
      "text/plain": [
       "<matplotlib.legend.Legend at 0x1d5f8bb86d0>"
      ]
     },
     "execution_count": 83,
     "metadata": {},
     "output_type": "execute_result"
    },
    {
     "data": {
      "image/png": "[encoded data removed]",
      "text/plain": [
       "<Figure size 432x288 with 1 Axes>"
      ]
     },
     "metadata": {
      "needs_background": "light"
     },
     "output_type": "display_data"
    }
   ],
   "source": [
    "import pandas as pd\n",
    "import numpy as np\n",
    "from sklearn.metrics import roc_auc_score, f1_score\n",
    "import matplotlib.pyplot as plt\n",
    "from sklearn. model_selection import train_test_split\n",
    "df = pd.read_csv('train.csv')\n",
    "\n",
    "\n",
    "enc_1 = OneHotEncoder()\n",
    "df_ = df[['Embarked','Sex']].fillna(' ')\n",
    "df_.astype('string')\n",
    "enc_1.fit(df_[['Embarked','Sex']])\n",
    "states = df_.values[:]\n",
    "encoded_ds = enc_1.transform(states).toarray()\n",
    "gn_df = pd.DataFrame(encoded_ds,\n",
    "             columns=enc_1.get_feature_names())\n",
    "\n",
    "\n",
    "df_for_train = df.fillna(0)[['Age', 'SibSp', 'Pclass', 'Fare', 'Survived']]\n",
    "\n",
    "df_for_train2 = pd.concat((df_for_train, gn_df), \n",
    "                         axis=1)\n",
    "df_for_train2['Age_Fare']= df_for_train2['Age']*df_for_train2['Fare']\n",
    "df_for_train2['SibSp_Pclass']= df_for_train2['SibSp']*df_for_train2['Pclass']\n",
    "df_for_train2['Pclass_Fare']= df_for_train2['Pclass']*df_for_train2['Fare']\n",
    "df_for_train2['SibSp_Age']= df_for_train2['SibSp']*df_for_train2['Age']\n",
    "\n",
    "df_train,df_test = train_test_split(df_for_train2.copy(),test_size=0.25,random_state=17)\n",
    "\n",
    "x_train,y_train = df_train[['Age', 'SibSp', 'Pclass', 'Fare','x0_C','x0_Q','x0_S','x1_female','x1_male','Age_Fare','SibSp_Pclass','Pclass_Fare']], df_train[['Survived']]\n",
    "\n",
    "x_test,y_test = df_test[['Age', 'SibSp', 'Pclass', 'Fare','x0_C','x0_Q','x0_S','x1_female','x1_male','Age_Fare','SibSp_Pclass','Pclass_Fare']], df_test[['Survived']]\n",
    "\n",
    "\n",
    "from sklearn.linear_model import LogisticRegression\n",
    "\n",
    "scaler = preprocessing.StandardScaler()\n",
    "train_data = scaler.fit_transform(x_train)\n",
    "test_data = scaler.fit_transform(x_test)\n",
    "\n",
    "tree = DecisionTreeClassifier(max_depth = 3, \n",
    "                              random_state=17)\n",
    "\n",
    "tree.fit(train_data,y_train)\n",
    "\n",
    "print(\"accuracy_train\",tree.score(train_data,y_train))\n",
    "print('roc_auc_train',roc_auc_score(y_train, tree.predict_proba(train_data)[:,1]))\n",
    "print(\"accuracy_test\",tree.score(test_data,y_test))\n",
    "print('roc_auc_test',roc_auc_score(y_test,tree.predict_proba(test_data)[:,1]))\n",
    "predict_train = tree.predict_proba(train_data)\n",
    "predict_test = tree.predict_proba(test_data)\n",
    "\n",
    "pd.Series([f1_score(y_train, predict_train[:,1]>i) \n",
    "           for i in np.arange(0,1+0.1,0.1)]).plot()\n",
    "\n",
    "pd.Series([f1_score(y_test, predict_test[:,1]>i) \n",
    "           for i in np.arange(0,1+0.1,0.1)]).plot()\n",
    "plt.legend(['train','test'])"
   ]
  },
  {
   "cell_type": "code",
   "execution_count": 96,
   "metadata": {},
   "outputs": [
    {
     "name": "stdout",
     "output_type": "stream",
     "text": [
      "accuracy_train 0.8263473053892215\n",
      "roc_auc_train 0.8551961722488037\n",
      "accuracy_test 0.7623318385650224\n",
      "roc_auc_test 0.8130185861267839\n"
     ]
    },
    {
     "data": {
      "text/plain": [
       "<matplotlib.legend.Legend at 0x1d5fbaab430>"
      ]
     },
     "execution_count": 96,
     "metadata": {},
     "output_type": "execute_result"
    },
    {
     "data": {
      "image/png": "[encoded data removed]",
      "text/plain": [
       "<Figure size 432x288 with 1 Axes>"
      ]
     },
     "metadata": {
      "needs_background": "light"
     },
     "output_type": "display_data"
    }
   ],
   "source": [
    "import pandas as pd\n",
    "import numpy as np\n",
    "from sklearn.metrics import roc_auc_score, f1_score\n",
    "import matplotlib.pyplot as plt\n",
    "from sklearn. model_selection import train_test_split\n",
    "df = pd.read_csv('train.csv')\n",
    "\n",
    "\n",
    "enc_1 = OneHotEncoder()\n",
    "df_ = df[['Embarked','Sex']].fillna(' ')\n",
    "df_.astype('string')\n",
    "enc_1.fit(df_[['Embarked','Sex']])\n",
    "states = df_.values[:]\n",
    "encoded_ds = enc_1.transform(states).toarray()\n",
    "gn_df = pd.DataFrame(encoded_ds,\n",
    "             columns=enc_1.get_feature_names())\n",
    "\n",
    "\n",
    "df_for_train = df.fillna(0)[['Age', 'SibSp', 'Pclass', 'Fare', 'Survived']]\n",
    "\n",
    "df_for_train2 = pd.concat((df_for_train, gn_df), \n",
    "                         axis=1)\n",
    "df_for_train2['Age_Fare']= df_for_train2['Age']*df_for_train2['Fare']\n",
    "df_for_train2['SibSp_Pclass']= df_for_train2['SibSp']*df_for_train2['Pclass']\n",
    "df_for_train2['Pclass_Fare']= df_for_train2['Pclass']*df_for_train2['Fare']\n",
    "df_for_train2['SibSp_Age']= df_for_train2['SibSp']*df_for_train2['Age']\n",
    "\n",
    "df_train,df_test = train_test_split(df_for_train2.copy(),test_size=0.25,random_state=17)\n",
    "\n",
    "x_train,y_train = df_train[['Age', 'SibSp', 'Pclass', 'Fare','x0_C','x0_Q','x0_S','x1_female','x1_male','Age_Fare','SibSp_Pclass','Pclass_Fare']], df_train[['Survived']]\n",
    "\n",
    "x_test,y_test = df_test[['Age', 'SibSp', 'Pclass', 'Fare','x0_C','x0_Q','x0_S','x1_female','x1_male','Age_Fare','SibSp_Pclass','Pclass_Fare']], df_test[['Survived']]\n",
    "\n",
    "\n",
    "from sklearn.linear_model import LogisticRegression\n",
    "\n",
    "scaler = preprocessing.MinMaxScaler()\n",
    "train_data = scaler.fit_transform(x_train)\n",
    "test_data = scaler.fit_transform(x_test)\n",
    "\n",
    "tree = DecisionTreeClassifier(max_depth = 3, \n",
    "                              random_state=17)\n",
    "\n",
    "tree.fit(train_data,y_train)\n",
    "\n",
    "print(\"accuracy_train\",tree.score(train_data,y_train))\n",
    "print('roc_auc_train',roc_auc_score(y_train, tree.predict_proba(train_data)[:,1]))\n",
    "print(\"accuracy_test\",tree.score(test_data,y_test))\n",
    "print('roc_auc_test',roc_auc_score(y_test,tree.predict_proba(test_data)[:,1]))\n",
    "predict_train = tree.predict_proba(train_data)\n",
    "predict_test = tree.predict_proba(test_data)\n",
    "\n",
    "pd.Series([f1_score(y_train, predict_train[:,1]>i) \n",
    "           for i in np.arange(0,1+0.1,0.1)]).plot()\n",
    "\n",
    "pd.Series([f1_score(y_test, predict_test[:,1]>i) \n",
    "           for i in np.arange(0,1+0.1,0.1)]).plot()\n",
    "plt.legend(['train','test'])"
   ]
  },
  {
   "cell_type": "code",
   "execution_count": 98,
   "metadata": {},
   "outputs": [
    {
     "name": "stdout",
     "output_type": "stream",
     "text": [
      "accuracy_train 0.8263473053892215\n",
      "roc_auc_train 0.8551961722488037\n",
      "accuracy_test 0.7623318385650224\n",
      "roc_auc_test 0.8049286425489546\n"
     ]
    },
    {
     "name": "stderr",
     "output_type": "stream",
     "text": [
      "C:\\anaconda3\\lib\\site-packages\\sklearn\\preprocessing\\_data.py:2367: UserWarning: n_quantiles (1000) is greater than the total number of samples (668). n_quantiles is set to n_samples.\n",
      "  warnings.warn(\"n_quantiles (%s) is greater than the total number \"\n",
      "C:\\anaconda3\\lib\\site-packages\\sklearn\\preprocessing\\_data.py:2367: UserWarning: n_quantiles (1000) is greater than the total number of samples (223). n_quantiles is set to n_samples.\n",
      "  warnings.warn(\"n_quantiles (%s) is greater than the total number \"\n"
     ]
    },
    {
     "data": {
      "text/plain": [
       "<matplotlib.legend.Legend at 0x1d5fbb7d310>"
      ]
     },
     "execution_count": 98,
     "metadata": {},
     "output_type": "execute_result"
    },
    {
     "data": {
      "image/png": "[encoded data removed]",
      "text/plain": [
       "<Figure size 432x288 with 1 Axes>"
      ]
     },
     "metadata": {
      "needs_background": "light"
     },
     "output_type": "display_data"
    }
   ],
   "source": [
    "import pandas as pd\n",
    "import numpy as np\n",
    "from sklearn.metrics import roc_auc_score, f1_score\n",
    "import matplotlib.pyplot as plt\n",
    "from sklearn. model_selection import train_test_split\n",
    "df = pd.read_csv('train.csv')\n",
    "\n",
    "\n",
    "enc_1 = OneHotEncoder()\n",
    "df_ = df[['Embarked','Sex']].fillna(' ')\n",
    "df_.astype('string')\n",
    "enc_1.fit(df_[['Embarked','Sex']])\n",
    "states = df_.values[:]\n",
    "encoded_ds = enc_1.transform(states).toarray()\n",
    "gn_df = pd.DataFrame(encoded_ds,\n",
    "             columns=enc_1.get_feature_names())\n",
    "\n",
    "\n",
    "df_for_train = df.fillna(0)[['Age', 'SibSp', 'Pclass', 'Fare', 'Survived']]\n",
    "\n",
    "df_for_train2 = pd.concat((df_for_train, gn_df), \n",
    "                         axis=1)\n",
    "df_for_train2['Age_Fare']= df_for_train2['Age']*df_for_train2['Fare']\n",
    "df_for_train2['SibSp_Pclass']= df_for_train2['SibSp']*df_for_train2['Pclass']\n",
    "df_for_train2['Pclass_Fare']= df_for_train2['Pclass']*df_for_train2['Fare']\n",
    "df_for_train2['SibSp_Age']= df_for_train2['SibSp']*df_for_train2['Age']\n",
    "\n",
    "df_train,df_test = train_test_split(df_for_train2.copy(),test_size=0.25,random_state=17)\n",
    "\n",
    "x_train,y_train = df_train[['Age', 'SibSp', 'Pclass', 'Fare','x0_C','x0_Q','x0_S','x1_female','x1_male','Age_Fare','SibSp_Pclass','Pclass_Fare']], df_train[['Survived']]\n",
    "\n",
    "x_test,y_test = df_test[['Age', 'SibSp', 'Pclass', 'Fare','x0_C','x0_Q','x0_S','x1_female','x1_male','Age_Fare','SibSp_Pclass','Pclass_Fare']], df_test[['Survived']]\n",
    "\n",
    "\n",
    "from sklearn.linear_model import LogisticRegression\n",
    "\n",
    "scaler = preprocessing.QuantileTransformer()\n",
    "train_data = scaler.fit_transform(x_train)\n",
    "test_data = scaler.fit_transform(x_test)\n",
    "\n",
    "tree = DecisionTreeClassifier(max_depth = 3, \n",
    "                              random_state=17)\n",
    "\n",
    "tree.fit(train_data,y_train)\n",
    "\n",
    "print(\"accuracy_train\",tree.score(train_data,y_train))\n",
    "print('roc_auc_train',roc_auc_score(y_train, tree.predict_proba(train_data)[:,1]))\n",
    "print(\"accuracy_test\",tree.score(test_data,y_test))\n",
    "print('roc_auc_test',roc_auc_score(y_test,tree.predict_proba(test_data)[:,1]))\n",
    "predict_train = tree.predict_proba(train_data)\n",
    "predict_test = tree.predict_proba(test_data)\n",
    "\n",
    "pd.Series([f1_score(y_train, predict_train[:,1]>i) \n",
    "           for i in np.arange(0,1+0.1,0.1)]).plot()\n",
    "\n",
    "pd.Series([f1_score(y_test, predict_test[:,1]>i) \n",
    "           for i in np.arange(0,1+0.1,0.1)]).plot()\n",
    "plt.legend(['train','test'])"
   ]
  },
  {
   "cell_type": "code",
   "execution_count": 99,
   "metadata": {},
   "outputs": [
    {
     "name": "stdout",
     "output_type": "stream",
     "text": [
      "accuracy_train 0.8308383233532934\n",
      "roc_auc_train 0.8592631578947367\n",
      "accuracy_test 0.7623318385650224\n",
      "roc_auc_test 0.7997427812811152\n"
     ]
    },
    {
     "data": {
      "text/plain": [
       "<matplotlib.legend.Legend at 0x1d5fbc4d7c0>"
      ]
     },
     "execution_count": 99,
     "metadata": {},
     "output_type": "execute_result"
    },
    {
     "data": {
      "image/png": "[encoded data removed]",
      "text/plain": [
       "<Figure size 432x288 with 1 Axes>"
      ]
     },
     "metadata": {
      "needs_background": "light"
     },
     "output_type": "display_data"
    }
   ],
   "source": [
    "import pandas as pd\n",
    "import numpy as np\n",
    "from sklearn.metrics import roc_auc_score, f1_score\n",
    "import matplotlib.pyplot as plt\n",
    "from sklearn. model_selection import train_test_split\n",
    "df = pd.read_csv('train.csv')\n",
    "\n",
    "\n",
    "enc_1 = OneHotEncoder()\n",
    "df_ = df[['Embarked','Sex']].fillna(' ')\n",
    "df_.astype('string')\n",
    "enc_1.fit(df_[['Embarked','Sex']])\n",
    "states = df_.values[:]\n",
    "encoded_ds = enc_1.transform(states).toarray()\n",
    "gn_df = pd.DataFrame(encoded_ds,\n",
    "             columns=enc_1.get_feature_names())\n",
    "\n",
    "\n",
    "df_for_train = df.fillna(0)[['Age', 'SibSp', 'Pclass', 'Fare', 'Survived']]\n",
    "\n",
    "df_for_train2 = pd.concat((df_for_train, gn_df), \n",
    "                         axis=1)\n",
    "df_for_train2['Age_Fare']= df_for_train2['Age']*df_for_train2['Fare']\n",
    "df_for_train2['SibSp_Pclass']= df_for_train2['SibSp']*df_for_train2['Pclass']\n",
    "df_for_train2['Pclass_Fare']= df_for_train2['Pclass']*df_for_train2['Fare']\n",
    "df_for_train2['SibSp_Age']= df_for_train2['SibSp']*df_for_train2['Age']\n",
    "\n",
    "df_train,df_test = train_test_split(df_for_train2.copy(),test_size=0.25,random_state=17)\n",
    "\n",
    "x_train,y_train = df_train[['Age', 'SibSp', 'Pclass', 'Fare','x0_C','x0_Q','x0_S','x1_female','x1_male','Age_Fare','SibSp_Pclass','Pclass_Fare']], df_train[['Survived']]\n",
    "\n",
    "x_test,y_test = df_test[['Age', 'SibSp', 'Pclass', 'Fare','x0_C','x0_Q','x0_S','x1_female','x1_male','Age_Fare','SibSp_Pclass','Pclass_Fare']], df_test[['Survived']]\n",
    "\n",
    "\n",
    "from sklearn.linear_model import LogisticRegression\n",
    "\n",
    "scaler = preprocessing.PolynomialFeatures(degree=2)\n",
    "train_data = scaler.fit_transform(x_train)\n",
    "test_data = scaler.fit_transform(x_test)\n",
    "\n",
    "tree = DecisionTreeClassifier(max_depth = 3, \n",
    "                              random_state=17)\n",
    "\n",
    "tree.fit(train_data,y_train)\n",
    "\n",
    "print(\"accuracy_train\",tree.score(train_data,y_train))\n",
    "print('roc_auc_train',roc_auc_score(y_train, tree.predict_proba(train_data)[:,1]))\n",
    "print(\"accuracy_test\",tree.score(test_data,y_test))\n",
    "print('roc_auc_test',roc_auc_score(y_test,tree.predict_proba(test_data)[:,1]))\n",
    "predict_train = tree.predict_proba(train_data)\n",
    "predict_test = tree.predict_proba(test_data)\n",
    "\n",
    "pd.Series([f1_score(y_train, predict_train[:,1]>i) \n",
    "           for i in np.arange(0,1+0.1,0.1)]).plot()\n",
    "\n",
    "pd.Series([f1_score(y_test, predict_test[:,1]>i) \n",
    "           for i in np.arange(0,1+0.1,0.1)]).plot()\n",
    "plt.legend(['train','test'])"
   ]
  },
  {
   "cell_type": "code",
   "execution_count": null,
   "metadata": {},
   "outputs": [],
   "source": [
    "Normalizer:\n",
    "accuracy_train 0.8248502994011976\n",
    "roc_auc_train 0.8561866028708133\n",
    "accuracy_test 0.7713004484304933\n",
    "roc_auc_test 0.8222701626286093\n",
    "\n",
    "StandardScaler:\n",
    "accuracy_train 0.8263473053892215\n",
    "roc_auc_train 0.8551961722488037\n",
    "accuracy_test 0.7623318385650224\n",
    "roc_auc_test 0.8057998672419515\n",
    "\n",
    "MinMaxScaler:\n",
    "accuracy_train 0.8263473053892215\n",
    "roc_auc_train 0.8551961722488037\n",
    "accuracy_test 0.7623318385650224\n",
    "roc_auc_test 0.8130185861267839\n",
    "\n",
    "QuantileTransformer:\n",
    "accuracy_train 0.8263473053892215\n",
    "roc_auc_train 0.8551961722488037\n",
    "accuracy_test 0.7623318385650224\n",
    "roc_auc_test 0.8049286425489546\n",
    "\n",
    "PolynomialFeatures:\n",
    "accuracy_train 0.8308383233532934\n",
    "roc_auc_train 0.8592631578947367\n",
    "accuracy_test 0.7623318385650224\n",
    "roc_auc_test 0.7997427812811152"
   ]
  },
  {
   "cell_type": "markdown",
   "metadata": {},
   "source": [
    "# Использование GridSeach"
   ]
  },
  {
   "cell_type": "code",
   "execution_count": 85,
   "metadata": {},
   "outputs": [
    {
     "name": "stdout",
     "output_type": "stream",
     "text": [
      "Fitting 5 folds for each of 150 candidates, totalling 750 fits\n"
     ]
    },
    {
     "name": "stderr",
     "output_type": "stream",
     "text": [
      "[Parallel(n_jobs=-1)]: Using backend LokyBackend with 8 concurrent workers.\n",
      "[Parallel(n_jobs=-1)]: Done   2 tasks      | elapsed:    6.4s\n",
      "[Parallel(n_jobs=-1)]: Done   9 tasks      | elapsed:    6.6s\n",
      "[Parallel(n_jobs=-1)]: Done  16 tasks      | elapsed:    6.6s\n",
      "[Parallel(n_jobs=-1)]: Done  25 tasks      | elapsed:    6.6s\n",
      "[Parallel(n_jobs=-1)]: Done  34 tasks      | elapsed:    6.6s\n",
      "[Parallel(n_jobs=-1)]: Batch computation too fast (0.1986s.) Setting batch_size=2.\n",
      "[Parallel(n_jobs=-1)]: Done  45 tasks      | elapsed:    6.7s\n",
      "[Parallel(n_jobs=-1)]: Done  57 tasks      | elapsed:    6.7s\n",
      "[Parallel(n_jobs=-1)]: Batch computation too fast (0.0620s.) Setting batch_size=4.\n",
      "[Parallel(n_jobs=-1)]: Done  82 tasks      | elapsed:    6.8s\n",
      "[Parallel(n_jobs=-1)]: Batch computation too fast (0.0662s.) Setting batch_size=8.\n",
      "[Parallel(n_jobs=-1)]: Done 128 tasks      | elapsed:    6.9s\n",
      "[Parallel(n_jobs=-1)]: Batch computation too fast (0.0632s.) Setting batch_size=16.\n",
      "[Parallel(n_jobs=-1)]: Done 224 tasks      | elapsed:    7.0s\n",
      "[Parallel(n_jobs=-1)]: Batch computation too fast (0.1652s.) Setting batch_size=32.\n",
      "[Parallel(n_jobs=-1)]: Done 408 tasks      | elapsed:    7.7s\n",
      "[Parallel(n_jobs=-1)]: Done 512 tasks      | elapsed:    7.8s\n",
      "[Parallel(n_jobs=-1)]: Done 546 tasks      | elapsed:    7.9s\n",
      "[Parallel(n_jobs=-1)]: Done 626 tasks      | elapsed:    8.0s\n",
      "[Parallel(n_jobs=-1)]: Done 664 tasks      | elapsed:    8.0s\n",
      "[Parallel(n_jobs=-1)]: Done 706 tasks      | elapsed:    8.1s\n",
      "[Parallel(n_jobs=-1)]: Done 750 out of 750 | elapsed:    8.1s finished\n"
     ]
    },
    {
     "data": {
      "text/plain": [
       "{'class_weight': None, 'max_depth': 3, 'max_features': 4}"
      ]
     },
     "execution_count": 85,
     "metadata": {},
     "output_type": "execute_result"
    }
   ],
   "source": [
    "from sklearn.model_selection import GridSearchCV\n",
    "df = pd.read_csv('train.csv')\n",
    "\n",
    "df_for_train = df.fillna(0)[['Age','SibSp','Pclass','Fare','Survived']]\n",
    "\n",
    "x_train,x_test,y_train,y_test = train_test_split(df_for_train[['Age','SibSp','Pclass','Fare']],\n",
    "                                                 df_for_train['Survived'],\n",
    "                                                random_state=17)\n",
    "from sklearn.linear_model import LogisticRegression\n",
    "\n",
    "scaler = preprocessing.Normalizer()\n",
    "train_data = scaler.fit_transform(x_train)\n",
    "test_data = scaler.fit_transform(x_test)\n",
    "\n",
    "tree = DecisionTreeClassifier(max_depth = 3, \n",
    "                              random_state=17)\n",
    "\n",
    "tree_params = {'max_depth': range(1,11),\n",
    "                'max_features': range(4,19),\n",
    "               'class_weight':[None]}\n",
    "tree_grid = GridSearchCV(tree, \n",
    "                         tree_params,\n",
    "                        cv=5, n_jobs=-1,\n",
    "                        verbose=10, \n",
    "                         refit = 'f1')\n",
    "tree_grid.fit(train_data, y_train)\n",
    "tree_grid.best_params_"
   ]
  },
  {
   "cell_type": "code",
   "execution_count": 89,
   "metadata": {},
   "outputs": [
    {
     "name": "stdout",
     "output_type": "stream",
     "text": [
      "Fitting 5 folds for each of 150 candidates, totalling 750 fits\n"
     ]
    },
    {
     "name": "stderr",
     "output_type": "stream",
     "text": [
      "[Parallel(n_jobs=-1)]: Using backend LokyBackend with 8 concurrent workers.\n",
      "[Parallel(n_jobs=-1)]: Batch computation too fast (0.0240s.) Setting batch_size=2.\n",
      "[Parallel(n_jobs=-1)]: Done   2 tasks      | elapsed:    0.0s\n",
      "[Parallel(n_jobs=-1)]: Done   9 tasks      | elapsed:    0.0s\n",
      "[Parallel(n_jobs=-1)]: Done  16 tasks      | elapsed:    0.0s\n",
      "[Parallel(n_jobs=-1)]: Batch computation too fast (0.0734s.) Setting batch_size=4.\n",
      "[Parallel(n_jobs=-1)]: Done  34 tasks      | elapsed:    0.0s\n",
      "[Parallel(n_jobs=-1)]: Batch computation too fast (0.0720s.) Setting batch_size=8.\n",
      "[Parallel(n_jobs=-1)]: Done  56 tasks      | elapsed:    0.1s\n",
      "[Parallel(n_jobs=-1)]: Done 100 tasks      | elapsed:    0.2s\n",
      "[Parallel(n_jobs=-1)]: Batch computation too fast (0.1086s.) Setting batch_size=16.\n",
      "[Parallel(n_jobs=-1)]: Done 176 tasks      | elapsed:    0.3s\n",
      "[Parallel(n_jobs=-1)]: Batch computation too fast (0.1575s.) Setting batch_size=32.\n",
      "[Parallel(n_jobs=-1)]: Done 320 tasks      | elapsed:    0.6s\n",
      "[Parallel(n_jobs=-1)]: Done 502 tasks      | elapsed:    0.7s\n",
      "[Parallel(n_jobs=-1)]: Done 547 tasks      | elapsed:    0.7s\n",
      "[Parallel(n_jobs=-1)]: Done 592 tasks      | elapsed:    0.8s\n",
      "[Parallel(n_jobs=-1)]: Done 643 tasks      | elapsed:    0.8s\n",
      "[Parallel(n_jobs=-1)]: Done 694 tasks      | elapsed:    0.9s\n",
      "[Parallel(n_jobs=-1)]: Done 750 out of 750 | elapsed:    0.9s finished\n"
     ]
    },
    {
     "data": {
      "text/plain": [
       "{'class_weight': None, 'max_depth': 4, 'max_features': 4}"
      ]
     },
     "execution_count": 89,
     "metadata": {},
     "output_type": "execute_result"
    }
   ],
   "source": [
    "from sklearn.model_selection import GridSearchCV\n",
    "df = pd.read_csv('train.csv')\n",
    "\n",
    "df_for_train = df.fillna(0)[['Age','SibSp','Pclass','Fare','Survived']]\n",
    "\n",
    "x_train,x_test,y_train,y_test = train_test_split(df_for_train[['Age','SibSp','Pclass','Fare']],\n",
    "                                                 df_for_train['Survived'],\n",
    "                                                random_state=17)\n",
    "from sklearn.linear_model import LogisticRegression\n",
    "\n",
    "scaler = preprocessing.MinMaxScaler()\n",
    "train_data = scaler.fit_transform(x_train)\n",
    "test_data = scaler.fit_transform(x_test)\n",
    "\n",
    "tree = DecisionTreeClassifier(max_depth = 3, \n",
    "                              random_state=17)\n",
    "\n",
    "tree_params = {'max_depth': range(1,11),\n",
    "                'max_features': range(4,19),\n",
    "               'class_weight':[None]}\n",
    "tree_grid = GridSearchCV(tree, \n",
    "                         tree_params,\n",
    "                        cv=5, n_jobs=-1,\n",
    "                        verbose=10, \n",
    "                         refit = 'f1')\n",
    "tree_grid.fit(train_data, y_train)\n",
    "tree_grid.best_params_"
   ]
  },
  {
   "cell_type": "markdown",
   "metadata": {},
   "source": [
    "Можем увидеть, Grid Search нам не нужен тк параметры и так стоят верно"
   ]
  },
  {
   "cell_type": "code",
   "execution_count": null,
   "metadata": {},
   "outputs": [],
   "source": [
    "Лучшие варианты\n",
    "\n",
    "Логистическая регрессия с использованием препроцессинга\n",
    "\n",
    "QuantileTransformer:\n",
    "accuracy_train 0.7065868263473054\n",
    "roc_auc_train 0.7090622009569378\n",
    "accuracy_test 0.6905829596412556\n",
    "roc_auc_test 0.7215814802522403\n",
    "\n",
    "Дерево решений с использованием препроцессинга\n",
    "\n",
    "PolynomialFeatures:\n",
    "accuracy_train 0.7245508982035929\n",
    "roc_auc_train 0.7560239234449759\n",
    "accuracy_test 0.6860986547085202\n",
    "roc_auc_test 0.7073929638234316\n",
    "\n",
    "Логистическая регрессия с использованием препроцессинга и добавление новых стобцов и OneHotEncoder\n",
    "\n",
    "StandardScaler:\n",
    "accuracy_train 0.8158682634730539\n",
    "roc_auc_train 0.8542440191387559\n",
    "accuracy_test 0.7668161434977578\n",
    "roc_auc_test 0.8406488549618321\n",
    "\n",
    "Дерево решений с использованием препроцессинга и добавление новых стобцов и OneHotEncoder\n",
    "\n",
    "Normalizer:\n",
    "accuracy_train 0.8248502994011976\n",
    "roc_auc_train 0.8561866028708133\n",
    "accuracy_test 0.7713004484304933\n",
    "roc_auc_test 0.8222701626286093"
   ]
  }
 ],
 "metadata": {
  "kernelspec": {
   "display_name": "Python 3",
   "language": "python",
   "name": "python3"
  },
  "language_info": {
   "codemirror_mode": {
    "name": "ipython",
    "version": 3
   },
   "file_extension": ".py",
   "mimetype": "text/x-python",
   "name": "python",
   "nbconvert_exporter": "python",
   "pygments_lexer": "ipython3",
   "version": "3.8.5"
  }
 },
 "nbformat": 4,
 "nbformat_minor": 4
}
