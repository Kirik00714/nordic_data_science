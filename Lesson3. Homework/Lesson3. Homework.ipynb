{
 "cells": [
  {
   "cell_type": "markdown",
   "metadata": {},
   "source": [
    "\n",
    "# Домашняя работа\n",
    "3. Даны три числа. Вывести на экран «yes«, если среди них есть одинаковые, иначе вывести “ERROR”;\n",
    "4. Даны три числа. Вывести на экран «yes«, если можно взять какие-то два из них и в сумме получить третье;"
   ]
  },
  {
   "cell_type": "code",
   "execution_count": 59,
   "metadata": {},
   "outputs": [
    {
     "name": "stdout",
     "output_type": "stream",
     "text": [
      "YES\n"
     ]
    }
   ],
   "source": [
    "lst = [1,2,2]\n",
    "count = 0\n",
    "for i in range(len(lst)):\n",
    "    y = i - 1\n",
    "    if lst[i] == lst[y]:\n",
    "        count += 1\n",
    "if count > 0:\n",
    "    print(\"YES\")\n",
    "else:\n",
    "    print(\"ERROR\")"
   ]
  },
  {
   "cell_type": "code",
   "execution_count": 54,
   "metadata": {},
   "outputs": [
    {
     "name": "stdout",
     "output_type": "stream",
     "text": [
      "YES\n"
     ]
    }
   ],
   "source": [
    "lst_1 = [2,4,6]\n",
    "count = 0\n",
    "for i in range(len(lst_1)):\n",
    "    y = i - 1\n",
    "    for z in range(len(lst_1)):\n",
    "        if lst_1[i]+ lst_1[y] == lst_1[z]:\n",
    "            count += 1\n",
    "if count > 0:\n",
    "    print(\"YES\")\n",
    "else:\n",
    "    print(\"ERROR\")"
   ]
  },
  {
   "cell_type": "code",
   "execution_count": null,
   "metadata": {},
   "outputs": [],
   "source": []
  }
 ],
 "metadata": {
  "kernelspec": {
   "display_name": "Python 3",
   "language": "python",
   "name": "python3"
  },
  "language_info": {
   "codemirror_mode": {
    "name": "ipython",
    "version": 3
   },
   "file_extension": ".py",
   "mimetype": "text/x-python",
   "name": "python",
   "nbconvert_exporter": "python",
   "pygments_lexer": "ipython3",
   "version": "3.8.5"
  }
 },
 "nbformat": 4,
 "nbformat_minor": 2
}
