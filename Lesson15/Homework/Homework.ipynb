{
 "cells": [
  {
   "cell_type": "code",
   "execution_count": 67,
   "metadata": {},
   "outputs": [],
   "source": [
    "import pandas as pd\n",
    "import numpy as np\n",
    "import requests\n",
    "from bs4 import BeautifulSoup\n",
    "from tqdm.auto import tqdm"
   ]
  },
  {
   "cell_type": "markdown",
   "metadata": {},
   "source": [
    "# Задание №2\n"
   ]
  },
  {
   "cell_type": "markdown",
   "metadata": {},
   "source": [
    "\n",
    "Для магазина посуды https://vladimir.posuda96.ru/\n",
    "Выборать категорию на выбор:\n",
    "\n",
    "Посуда для приготовления -  Кирилл\n",
    "\n",
    "Кухонные принадлежности - Влад\n",
    "\n",
    "Посуда для сервировки - Дмитрий\n",
    "\n",
    "Барная посуда - Генадий\n",
    "\n",
    "Товары для сада - Егор\n",
    "Для выбранной категории:\n",
    "\n",
    "1. Спарсить цену, наименование, подкатегория из кажой категории\n",
    "\n",
    "2. Найти самый дорогой товар (наименование и цену)\n",
    "\n",
    "3. Найти самый дешевый товар (наименование и цену)\n",
    "\n",
    "4. Найти среднюю цену по категории,подкатегории и визуализировать полученный результат"
   ]
  },
  {
   "cell_type": "code",
   "execution_count": 59,
   "metadata": {},
   "outputs": [],
   "source": [
    "text = requests.get('https://vladimir.posuda96.ru/').text"
   ]
  },
  {
   "cell_type": "code",
   "execution_count": 60,
   "metadata": {},
   "outputs": [],
   "source": [
    "soup = BeautifulSoup(text)"
   ]
  },
  {
   "cell_type": "code",
   "execution_count": 69,
   "metadata": {},
   "outputs": [
    {
     "data": {
      "application/vnd.jupyter.widget-view+json": {
       "model_id": "54e158b5f7bd46e69895f14625b7aad1",
       "version_major": 2,
       "version_minor": 0
      },
      "text/plain": [
       "HBox(children=(HTML(value=''), FloatProgress(value=0.0, max=11.0), HTML(value='')))"
      ]
     },
     "metadata": {},
     "output_type": "display_data"
    },
    {
     "name": "stdout",
     "output_type": "stream",
     "text": [
      "\n"
     ]
    }
   ],
   "source": [
    "list_topic = []\n",
    "for i in tqdm(soup.find_all('ul', class_ = 'menu-root-child')[0]\\\n",
    "                                    .find_all('li')):\n",
    "    buf_soup = i.find('a')\n",
    "    text = requests.get(domain+buf_soup.get('href')).text\n",
    "\n",
    "    soup_2 = BeautifulSoup(text)\n",
    "    try:\n",
    "        num_page = int(soup_2.find_all('ul', class_ = 'menu-h')[0].find_all('a')[2].text)\n",
    "    except:\n",
    "        num_page = 1\n",
    "    for j in range(1, num_page + 1):\n",
    "        list_topic.append((buf_soup.text, domain+buf_soup.get('href')+'?page='+str(j)))"
   ]
  },
  {
   "cell_type": "code",
   "execution_count": 70,
   "metadata": {},
   "outputs": [
    {
     "data": {
      "application/vnd.jupyter.widget-view+json": {
       "model_id": "2d762b3dc1d14dd996fd679c9d880649",
       "version_major": 2,
       "version_minor": 0
      },
      "text/plain": [
       "HBox(children=(HTML(value=''), FloatProgress(value=0.0, max=26.0), HTML(value='')))"
      ]
     },
     "metadata": {},
     "output_type": "display_data"
    },
    {
     "name": "stdout",
     "output_type": "stream",
     "text": [
      "\n"
     ]
    }
   ],
   "source": [
    "list_for_df= []\n",
    "for topic,url in tqdm(list_topic):\n",
    "    \n",
    "    buf_list_for_df = []\n",
    "    text_products = requests.get(url).text\n",
    "    soup_producs = BeautifulSoup(text_products)\n",
    "    \n",
    "    for li in soup_producs.find_all('li',itemtype = 'http://schema.org/Product'):\n",
    "        buf_list_for_df.append((topic,li.find('span', itemprop=\"name\").text,\n",
    "              float(li.find('meta',itemprop = 'price').get('content'))))\n",
    "    list_for_df.extend(buf_list_for_df)\n",
    "\n",
    "df_main_topic = pd.DataFrame(list_for_df, columns=['topic', 'item','price'])"
   ]
  },
  {
   "cell_type": "code",
   "execution_count": 63,
   "metadata": {},
   "outputs": [
    {
     "data": {
      "text/html": [
       "<div>\n",
       "<style scoped>\n",
       "    .dataframe tbody tr th:only-of-type {\n",
       "        vertical-align: middle;\n",
       "    }\n",
       "\n",
       "    .dataframe tbody tr th {\n",
       "        vertical-align: top;\n",
       "    }\n",
       "\n",
       "    .dataframe thead th {\n",
       "        text-align: right;\n",
       "    }\n",
       "</style>\n",
       "<table border=\"1\" class=\"dataframe\">\n",
       "  <thead>\n",
       "    <tr style=\"text-align: right;\">\n",
       "      <th></th>\n",
       "      <th>topic</th>\n",
       "      <th>item</th>\n",
       "      <th>price</th>\n",
       "    </tr>\n",
       "  </thead>\n",
       "  <tbody>\n",
       "    <tr>\n",
       "      <th>0</th>\n",
       "      <td>Сковороды</td>\n",
       "      <td>Сковорода \"гурман-классик\" без крышки ф24см не...</td>\n",
       "      <td>2208.0</td>\n",
       "    </tr>\n",
       "    <tr>\n",
       "      <th>1</th>\n",
       "      <td>Сковороды</td>\n",
       "      <td>Сковорода 24см Гурман Профи ВСМПО 330724</td>\n",
       "      <td>2837.0</td>\n",
       "    </tr>\n",
       "    <tr>\n",
       "      <th>2</th>\n",
       "      <td>Сковороды</td>\n",
       "      <td>Жаровня \"гурман-классик\" ф24см В.салда 110224</td>\n",
       "      <td>3396.0</td>\n",
       "    </tr>\n",
       "    <tr>\n",
       "      <th>3</th>\n",
       "      <td>Сковороды</td>\n",
       "      <td>Жаровня \"гурман-стекло\" ф260мм В.салда 220226</td>\n",
       "      <td>3706.0</td>\n",
       "    </tr>\n",
       "    <tr>\n",
       "      <th>4</th>\n",
       "      <td>Сковороды</td>\n",
       "      <td>Сотейник \"гурман-стекло\" 1,5л. В.салда 221115</td>\n",
       "      <td>1995.0</td>\n",
       "    </tr>\n",
       "    <tr>\n",
       "      <th>...</th>\n",
       "      <td>...</td>\n",
       "      <td>...</td>\n",
       "      <td>...</td>\n",
       "    </tr>\n",
       "    <tr>\n",
       "      <th>921</th>\n",
       "      <td>Дуршлаги</td>\n",
       "      <td>Дуршлаг \"гурман-классик\" 1,2л нерж. В.салда 11...</td>\n",
       "      <td>1559.0</td>\n",
       "    </tr>\n",
       "    <tr>\n",
       "      <th>922</th>\n",
       "      <td>Дуршлаги</td>\n",
       "      <td>Дуршлаг 2л. ф200мм прутковая ручка нерж. 1с277...</td>\n",
       "      <td>1025.0</td>\n",
       "    </tr>\n",
       "    <tr>\n",
       "      <th>923</th>\n",
       "      <td>Дуршлаги</td>\n",
       "      <td>Дуршлаг 5л. ф260мм нерж. 1с2403 Аша</td>\n",
       "      <td>1229.0</td>\n",
       "    </tr>\n",
       "    <tr>\n",
       "      <th>924</th>\n",
       "      <td>Дуршлаги</td>\n",
       "      <td>Дуршлаг 9л. ф320мм нерж. 1с2373 Аша</td>\n",
       "      <td>2299.0</td>\n",
       "    </tr>\n",
       "    <tr>\n",
       "      <th>925</th>\n",
       "      <td>Дуршлаги</td>\n",
       "      <td>19020 Дуршлаг(цедилка) 20см.1,5л алюм.</td>\n",
       "      <td>351.0</td>\n",
       "    </tr>\n",
       "  </tbody>\n",
       "</table>\n",
       "<p>926 rows × 3 columns</p>\n",
       "</div>"
      ],
      "text/plain": [
       "         topic                                               item   price\n",
       "0    Сковороды  Сковорода \"гурман-классик\" без крышки ф24см не...  2208.0\n",
       "1    Сковороды           Сковорода 24см Гурман Профи ВСМПО 330724  2837.0\n",
       "2    Сковороды      Жаровня \"гурман-классик\" ф24см В.салда 110224  3396.0\n",
       "3    Сковороды      Жаровня \"гурман-стекло\" ф260мм В.салда 220226  3706.0\n",
       "4    Сковороды      Сотейник \"гурман-стекло\" 1,5л. В.салда 221115  1995.0\n",
       "..         ...                                                ...     ...\n",
       "921   Дуршлаги  Дуршлаг \"гурман-классик\" 1,2л нерж. В.салда 11...  1559.0\n",
       "922   Дуршлаги  Дуршлаг 2л. ф200мм прутковая ручка нерж. 1с277...  1025.0\n",
       "923   Дуршлаги                Дуршлаг 5л. ф260мм нерж. 1с2403 Аша  1229.0\n",
       "924   Дуршлаги                Дуршлаг 9л. ф320мм нерж. 1с2373 Аша  2299.0\n",
       "925   Дуршлаги             19020 Дуршлаг(цедилка) 20см.1,5л алюм.   351.0\n",
       "\n",
       "[926 rows x 3 columns]"
      ]
     },
     "execution_count": 63,
     "metadata": {},
     "output_type": "execute_result"
    }
   ],
   "source": [
    "df_main_topic"
   ]
  },
  {
   "cell_type": "code",
   "execution_count": 64,
   "metadata": {},
   "outputs": [
    {
     "data": {
      "text/plain": [
       "item     018701 Сковорода 18см \"гранит\" съемн.руч.\n",
       "price                                            5\n",
       "dtype: object"
      ]
     },
     "execution_count": 64,
     "metadata": {},
     "output_type": "execute_result"
    }
   ],
   "source": [
    "df_main_topic[['item','price']].min()"
   ]
  },
  {
   "cell_type": "code",
   "execution_count": 65,
   "metadata": {},
   "outputs": [
    {
     "data": {
      "text/plain": [
       "item     Чайник 6,0л. нерж. без свистка AST-002-ЧБ-60\n",
       "price                                            9261\n",
       "dtype: object"
      ]
     },
     "execution_count": 65,
     "metadata": {},
     "output_type": "execute_result"
    }
   ],
   "source": [
    "df_main_topic[['item','price']].max()"
   ]
  },
  {
   "cell_type": "code",
   "execution_count": 66,
   "metadata": {},
   "outputs": [
    {
     "data": {
      "image/png": "[encoded data removed]",
      "text/plain": [
       "<Figure size 432x288 with 1 Axes>"
      ]
     },
     "metadata": {
      "needs_background": "light"
     },
     "output_type": "display_data"
    }
   ],
   "source": [
    "groupped = df_main_topic.groupby('topic').mean()\n",
    "\n",
    "groupped\n",
    "\n",
    "groupped.reset_index().plot(kind = 'barh',x='topic',y='price',rot = 0);"
   ]
  }
 ],
 "metadata": {
  "kernelspec": {
   "display_name": "Python 3",
   "language": "python",
   "name": "python3"
  },
  "language_info": {
   "codemirror_mode": {
    "name": "ipython",
    "version": 3
   },
   "file_extension": ".py",
   "mimetype": "text/x-python",
   "name": "python",
   "nbconvert_exporter": "python",
   "pygments_lexer": "ipython3",
   "version": "3.8.5"
  }
 },
 "nbformat": 4,
 "nbformat_minor": 4
}
