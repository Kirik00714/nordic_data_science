{
 "cells": [
  {
   "cell_type": "markdown",
   "metadata": {},
   "source": [
    "# Задача 1\n",
    "Задать базовый класс `BankProduct` (банковский продукт - кредит, вклад). Основными полями его будут: срок, имя, фамилия клиента, сумма (в руб.), процент.  Базовый класс должен так же уметь выводить данную информацию по продукту с помощью переопределения метода `__str__`.\n",
    "\n",
    "\n",
    "Задать два класса-наследника `Credit` (кредит), `Deposit` (вклад).  \n",
    "Данные классы будут расширять базовый полями:  \n",
    "Для класса `Credit`:\n",
    "* тип (поле класса)\n",
    "* минимальная сумма досрочного погашения\n",
    "* максимальный срок просрочки оплаты по кредиту (в днях)\n",
    "* пени за просрочку (% в день)\n",
    "\n",
    "Для класса `Deposit`:\n",
    "* тип (поле класса)\n",
    "* возможность пополнять счет\n",
    "* возможность частичного снятия со счета\n",
    "* минимальная дата, с которой можно закрыть счет\n",
    "\n",
    "Далее.\n",
    "\n",
    "Создать несколько объектов класса `Credit` и `Deposit` (по 3 на каждый класс)\n",
    "\n",
    "В цикле подсчитать сумму выданных кредитов (в руб.) и сумму депозитов на счетах в банке (в руб.). Необходимо обращаться к соответствующим полям класса."
   ]
  },
  {
   "cell_type": "markdown",
   "metadata": {},
   "source": [
    "# Задача 2\n",
    "\n",
    "Для классов `Credit` и `Deposit` реализовать методы \n",
    "\n",
    "1. подсчета финальной суммы, которую выплатит заемщик (в случае кредита) и которую получит вкладчик (в случае депозита), с учетом капитализации, если не будет досрочных погашений (в случае кредита) и пополнений/списаний (в случае депозита).\n",
    "\n",
    "2. подсчета возможности выдачи кредита данному клиенту. Необходимо передать в метод доп. параметр - зп клиента. Если ежемесячный платеж получается больше, чем 60% его зп, то отказать в выдаче кредита (вернуть `False`), иначе - `True`"
   ]
  },
  {
   "cell_type": "code",
   "execution_count": 36,
   "metadata": {},
   "outputs": [],
   "source": [
    "class BankProduct:\n",
    "    \"\"\"\n",
    "    deadline - срок в месяцах,\n",
    "    name - имя,\n",
    "    lastname - фамилия,\n",
    "    total - сумма,\n",
    "    percent - процент\n",
    "    \"\"\"\n",
    "    def __init__(self,deadline,name,lastname,total,percent):\n",
    "        self.deadline = deadline\n",
    "        self.name = name\n",
    "        self.lastname = lastname\n",
    "        self.total = total\n",
    "        self.percent = percent\n",
    "    def __str__(self):\n",
    "        return('Клиент '+self.lastname+' '+self.name+ ' внес/взял сумму '+ str(self.total)+ \" под \"+str(self.percent)+ \n",
    "                 ' процент/ов на срок '+str(self.deadline)+' месяц/ев')\n",
    "    \n",
    "class Credit(BankProduct):\n",
    "    \"\"\"\n",
    "    deadline - срок в месяцах,\n",
    "    name - имя,\n",
    "    lastname - фамилия,\n",
    "    total - сумма,\n",
    "    percent - процент,\n",
    "    min_sum - минимальная сумма досрочного погашения,\n",
    "    max_deadline - максимальный срок просрочки оплаты по кредиту,\n",
    "    penalty - пени за просрочку\n",
    "    \"\"\"\n",
    "    def __init__(self,deadline,name,lastname,total,percent,min_sum, max_deadline,penalty):\n",
    "        super().__init__(deadline,name,lastname,total,percent)\n",
    "        self.min_sum = min_sum\n",
    "        self.max_deadline = max_deadline\n",
    "        self.penalty = penalty\n",
    "        \n",
    "    def credit_(self):\n",
    "        month_per = self.percent / 1200\n",
    "        an_koef = (month_per * (1+month_per)**self.deadline)/(((1+month_per)**self.deadline)-1)\n",
    "        month_pay = an_koef * self.total\n",
    "        full_total = month_pay * self.deadline\n",
    "        return full_total\n",
    "    \n",
    "    def concord_credit(self, zp):\n",
    "        month_per = self.percent / 1200\n",
    "        an_koef = (month_per * (1+month_per)**self.deadline)/(((1+month_per)**self.deadline)-1)\n",
    "        month_pay = an_koef * self.total\n",
    "        per = (month_pay * 100)/zp\n",
    "        if per > 60:\n",
    "            return False\n",
    "        else:\n",
    "            return True\n",
    "        \n",
    "class Deposit(BankProduct):\n",
    "    \"\"\"\n",
    "    deadline - срок в месяцах,\n",
    "    name - имя,\n",
    "    lastname - фамилия,\n",
    "    total - сумма,\n",
    "    percent - процент,\n",
    "    top_up - возможность пополнять счет,\n",
    "    get_money - возможность частичного снятия со счета,\n",
    "    min_date - минимальная дата, с которой можно закрыть счет\n",
    "    \"\"\"\n",
    "    \n",
    "    def __init__(self,deadline,name,lastname,total,percent,top_up, get_money,min_date):\n",
    "        super().__init__(deadline,name,lastname,total,percent)\n",
    "        self.top_up = top_up\n",
    "        self.get_money = get_money\n",
    "        self.min_date = min_date\n",
    "    def depos_(self):\n",
    "        \n",
    "        for month in range(int(self.deadline)):\n",
    "            per = (self.percent/100)/365\n",
    "            self.total += self.total*per*30\n",
    "        return self.total\n",
    "    "
   ]
  },
  {
   "cell_type": "code",
   "execution_count": 37,
   "metadata": {},
   "outputs": [],
   "source": [
    "first_C = Credit(15,'Ivan','Ivanov', 10000, 5,1500,1,0.5)"
   ]
  },
  {
   "cell_type": "code",
   "execution_count": 38,
   "metadata": {},
   "outputs": [
    {
     "data": {
      "text/plain": [
       "'Клиент Ivanov Ivan внес/взял сумму 10000 под 5 процент/ов на срок 15 месяц/ев'"
      ]
     },
     "execution_count": 38,
     "metadata": {},
     "output_type": "execute_result"
    }
   ],
   "source": [
    "str(first_C)"
   ]
  },
  {
   "cell_type": "code",
   "execution_count": 39,
   "metadata": {},
   "outputs": [],
   "source": [
    "second_C = Credit(24,'Petr','Petrov', 100000, 7,15000,5,3)"
   ]
  },
  {
   "cell_type": "code",
   "execution_count": 40,
   "metadata": {},
   "outputs": [],
   "source": [
    "third_C = Credit(36,'Fedor','Fedorov', 350000, 6.5,20000,7,2)"
   ]
  },
  {
   "cell_type": "code",
   "execution_count": 41,
   "metadata": {},
   "outputs": [],
   "source": [
    "first_D = Deposit(30,'Nikolay','Nikolaev', 5000, 2.8,True,True,5)"
   ]
  },
  {
   "cell_type": "code",
   "execution_count": 42,
   "metadata": {},
   "outputs": [],
   "source": [
    "second_D = Deposit(6,'Egor','Egorov', 50000, 2.3,True,False,6)"
   ]
  },
  {
   "cell_type": "code",
   "execution_count": 43,
   "metadata": {},
   "outputs": [],
   "source": [
    "third_D = Deposit(12,'Viktor','Viktorov', 725000, 1.5,False,False,15)"
   ]
  },
  {
   "cell_type": "code",
   "execution_count": 44,
   "metadata": {},
   "outputs": [
    {
     "name": "stdout",
     "output_type": "stream",
     "text": [
      "Сумма кредитов по всем людям составляет 460000 рублей\n"
     ]
    }
   ],
   "source": [
    "lst = [first_C,second_C,third_C]\n",
    "sum_total = 0\n",
    "for i in lst:\n",
    "    sum_total += i.total\n",
    "print(\"Сумма кредитов по всем людям составляет \"+str(sum_total)+' рублей')"
   ]
  },
  {
   "cell_type": "code",
   "execution_count": 45,
   "metadata": {},
   "outputs": [
    {
     "name": "stdout",
     "output_type": "stream",
     "text": [
      "Сумма депозитов по всем людям составляет 780000 рублей\n"
     ]
    }
   ],
   "source": [
    "lst_1 = [first_D,second_D,third_D]\n",
    "sum_total = 0\n",
    "for i in lst_1:\n",
    "    sum_total += i.total\n",
    "print(\"Сумма депозитов по всем людям составляет \"+str(sum_total)+' рублей')"
   ]
  },
  {
   "cell_type": "code",
   "execution_count": 46,
   "metadata": {},
   "outputs": [
    {
     "data": {
      "text/plain": [
       "107454.18984754867"
      ]
     },
     "execution_count": 46,
     "metadata": {},
     "output_type": "execute_result"
    }
   ],
   "source": [
    "second_C.credit_()"
   ]
  },
  {
   "cell_type": "code",
   "execution_count": 47,
   "metadata": {},
   "outputs": [
    {
     "data": {
      "text/plain": [
       "50569.8102931258"
      ]
     },
     "execution_count": 47,
     "metadata": {},
     "output_type": "execute_result"
    }
   ],
   "source": [
    "second_D.depos_()"
   ]
  },
  {
   "cell_type": "code",
   "execution_count": 48,
   "metadata": {},
   "outputs": [
    {
     "data": {
      "text/plain": [
       "True"
      ]
     },
     "execution_count": 48,
     "metadata": {},
     "output_type": "execute_result"
    }
   ],
   "source": [
    "first_C.concord_credit(15000)"
   ]
  }
 ],
 "metadata": {
  "kernelspec": {
   "display_name": "Python 3",
   "language": "python",
   "name": "python3"
  },
  "language_info": {
   "codemirror_mode": {
    "name": "ipython",
    "version": 3
   },
   "file_extension": ".py",
   "mimetype": "text/x-python",
   "name": "python",
   "nbconvert_exporter": "python",
   "pygments_lexer": "ipython3",
   "version": "3.8.5"
  },
  "pycharm": {
   "stem_cell": {
    "cell_type": "raw",
    "metadata": {
     "collapsed": false
    },
    "source": []
   }
  }
 },
 "nbformat": 4,
 "nbformat_minor": 2
}
