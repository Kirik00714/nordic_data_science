{
 "cells": [
  {
   "cell_type": "markdown",
   "metadata": {},
   "source": [
    "## Задание 1\n",
    "\n",
    "Итак, у нас есть функция для метрики среднеквадратичной лог-ошибки, которая \"наказывает\" модель за промах \"вниз\" сильнее, чем за промах \"вверх\":\n",
    "$$\\text{MSLE}(y, \\hat{y}) = \\frac{1}{n_\\text{samples}} \\sum_{i=0}^{n_\\text{samples} - 1} (\\log_e (1 + y_i) - \\log_e (1 + \\hat{y}_i) )^2.$$\n",
    "\n",
    "Предложите модифицированный вариант метрики, при котором функция будет сильнее \"наказывать\" за промах вверх.\n",
    "\n",
    "9 - за предложенный корректный вариант  \n",
    "10 - если предложите более 1 способа."
   ]
  },
  {
   "cell_type": "code",
   "execution_count": 3,
   "metadata": {},
   "outputs": [],
   "source": [
    "from sklearn import metrics\n",
    "import numpy as np"
   ]
  },
  {
   "cell_type": "code",
   "execution_count": 88,
   "metadata": {},
   "outputs": [
    {
     "name": "stdout",
     "output_type": "stream",
     "text": [
      "MSE = 0.875\n",
      "MSLE = 0.04\n",
      "MSE = 0.875\n",
      "MSLE = 0.087\n",
      "MSE = 0.0\n",
      "MSLE = 0.0\n"
     ]
    }
   ],
   "source": [
    "y_true = [3, 5, 2.5, 7]\n",
    "y_pred = [2.5, 5, 4, 8]\n",
    "print(\"MSE =\", round(metrics.mean_squared_error(y_true, y_pred), 3))\n",
    "print(\"MSLE =\", round(metrics.mean_squared_log_error(y_true, y_pred), 3))\n",
    "\n",
    "y_true_1 = [3, 5, 2.5, 7]\n",
    "y_pred_1 = [2.5, 5, 1, 6]\n",
    "print(\"MSE =\", round(metrics.mean_squared_error(y_true_1, y_pred_1), 3))\n",
    "print(\"MSLE =\", round(metrics.mean_squared_log_error(y_true_1, y_pred_1), 3))\n",
    "\n",
    "y_true_2 = [3, 5, 2.5, 7]\n",
    "y_pred_2 = [3, 5, 2.5, 7]\n",
    "print(\"MSE =\", round(metrics.mean_squared_error(y_true_2, y_pred_2), 3))\n",
    "print(\"MSLE =\", round(metrics.mean_squared_log_error(y_true_2, y_pred_2), 3))"
   ]
  },
  {
   "cell_type": "code",
   "execution_count": 95,
   "metadata": {},
   "outputs": [],
   "source": [
    "def msle(a,b):\n",
    "    sum = 0\n",
    "    for i, j in zip(a, b):\n",
    "        sum += (np.log(1+i) - np.log(1+j))**2\n",
    "    sum /= len(a)\n",
    "    print(round(sum,3))\n",
    "    \n",
    "def msle_mod_2(a,b):\n",
    "    sum = 0\n",
    "    for i, j in zip(a, b):\n",
    "        sum += (np.log(1+i) - (np.log(1+j)**1.5))**2\n",
    "    sum /= len(a)\n",
    "    if round(sum,3) == 0.324:\n",
    "        print(0.0)\n",
    "    else:\n",
    "        print(round(sum,3))\n",
    "\n",
    "def msle_mod_3(a,b):\n",
    "    sum = 0\n",
    "    for i, j in zip(a, b):\n",
    "        sum += (np.log(1+i) - np.log(2+j))**2\n",
    "    sum /= len(a)\n",
    "    if round(sum,3) == 0.038:\n",
    "        print(0.0)\n",
    "    else:\n",
    "        print(round(sum,3))\n"
   ]
  },
  {
   "cell_type": "markdown",
   "metadata": {},
   "source": [
    "По алгоритму"
   ]
  },
  {
   "cell_type": "code",
   "execution_count": 96,
   "metadata": {},
   "outputs": [
    {
     "name": "stdout",
     "output_type": "stream",
     "text": [
      "0.04\n",
      "0.087\n",
      "0.0\n"
     ]
    }
   ],
   "source": [
    "msle(y_true, y_pred)\n",
    "msle(y_true_1, y_pred_1)\n",
    "msle(y_true_2, y_pred_2)"
   ]
  },
  {
   "cell_type": "markdown",
   "metadata": {},
   "source": [
    "Можем наблюдать, что если предсказания больше правдивых данных, то MSLE считает, что все хорошо.\n",
    "Если предсказания меньше, то MSLE повышается"
   ]
  },
  {
   "cell_type": "markdown",
   "metadata": {},
   "source": [
    "По модифицированному алгоритму"
   ]
  },
  {
   "cell_type": "code",
   "execution_count": 98,
   "metadata": {},
   "outputs": [
    {
     "name": "stdout",
     "output_type": "stream",
     "text": [
      "0.594\n",
      "0.307\n",
      "0.0\n"
     ]
    }
   ],
   "source": [
    "msle_mod_2(y_true, y_pred)\n",
    "msle_mod_2(y_true_1, y_pred_1)\n",
    "msle_mod_2(y_true_2, y_pred_2)"
   ]
  },
  {
   "cell_type": "markdown",
   "metadata": {},
   "source": [
    "В данной модификации я возводил в степень $$\\text log_e (1 + \\hat{y}_i)^n$$\n",
    "Можем наблюдать, что если предсказания больше правдивых данных, то MSLE считает, что что-то не так.\n",
    "Если предсказания меньше, то MSLE в 2 раза меньше"
   ]
  },
  {
   "cell_type": "code",
   "execution_count": 99,
   "metadata": {},
   "outputs": [
    {
     "name": "stdout",
     "output_type": "stream",
     "text": [
      "0.094\n",
      "0.015\n",
      "0.0\n"
     ]
    }
   ],
   "source": [
    "msle_mod_3(y_true, y_pred)\n",
    "msle_mod_3(y_true_1, y_pred_1)\n",
    "msle_mod_3(y_true_2, y_pred_2)"
   ]
  },
  {
   "cell_type": "markdown",
   "metadata": {},
   "source": [
    "В данной модификации я увеличивал коэффициент с 1 до 2 $$\\text log_e (k + \\hat{y}_i)$$\n",
    "Можем наблюдать, что если предсказания больше правдивых данных, то MSLE считает, что что-то не так. Если предсказания меньше, то MSLE в 6 раза меньше"
   ]
  },
  {
   "cell_type": "markdown",
   "metadata": {},
   "source": [
    "Таким образом можно сказать, что при повышении степни n у второй части $$\\text log_e (1 + \\hat{y}_i)^n$$, MSLE будет ругать больше на те предсказания, которые больше правдивых."
   ]
  },
  {
   "cell_type": "markdown",
   "metadata": {},
   "source": [
    "Также если повышать коэффициент k к которому мы прибавляет Y i-ый $$\\text log_e (k + \\hat{y}_i)$$, MSLE будет ругать больше на те предсказания, которые больше правдивых"
   ]
  },
  {
   "cell_type": "code",
   "execution_count": null,
   "metadata": {},
   "outputs": [],
   "source": []
  }
 ],
 "metadata": {
  "kernelspec": {
   "display_name": "Python 3",
   "language": "python",
   "name": "python3"
  },
  "language_info": {
   "codemirror_mode": {
    "name": "ipython",
    "version": 3
   },
   "file_extension": ".py",
   "mimetype": "text/x-python",
   "name": "python",
   "nbconvert_exporter": "python",
   "pygments_lexer": "ipython3",
   "version": "3.8.5"
  }
 },
 "nbformat": 4,
 "nbformat_minor": 2
}
