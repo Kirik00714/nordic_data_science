{
 "cells": [
  {
   "cell_type": "markdown",
   "metadata": {},
   "source": [
    "# Задача 1\n",
    "\n",
    "1. Найти имена, которые входят в первый список, но не входят во второй список\n",
    "2. Найти имена, которые входят во второй список, но не входят в первый список\n",
    "3. Найти имена, которые входят в оба списка\n",
    "4. Найти имена, которые не входят в оба списка"
   ]
  },
  {
   "cell_type": "code",
   "execution_count": 24,
   "metadata": {},
   "outputs": [],
   "source": [
    "list_1 = [\n",
    "    'Cветлана',\n",
    "    'Мария',\n",
    "    'Игорь',\n",
    "    'Илья',\n",
    "    'Олег'\n",
    "]\n",
    "list_2 = [\n",
    "    'Cветлана',\n",
    "    'Иван',\n",
    "    'Василиса',\n",
    "    'Олег'\n",
    "]"
   ]
  },
  {
   "cell_type": "code",
   "execution_count": 25,
   "metadata": {},
   "outputs": [
    {
     "name": "stdout",
     "output_type": "stream",
     "text": [
      "имена, которые входят в первый список, но не входят во второй список\n"
     ]
    },
    {
     "data": {
      "text/plain": [
       "['Мария', 'Игорь', 'Илья']"
      ]
     },
     "execution_count": 25,
     "metadata": {},
     "output_type": "execute_result"
    }
   ],
   "source": [
    "print(\"имена, которые входят в первый список, но не входят во второй список\")\n",
    "[name_1 for name_1 in list_1 if name_1 not in list_2]"
   ]
  },
  {
   "cell_type": "code",
   "execution_count": 26,
   "metadata": {},
   "outputs": [
    {
     "name": "stdout",
     "output_type": "stream",
     "text": [
      "имена, которые входят в первый список, но не входят во второй список\n"
     ]
    },
    {
     "data": {
      "text/plain": [
       "['Иван', 'Василиса']"
      ]
     },
     "execution_count": 26,
     "metadata": {},
     "output_type": "execute_result"
    }
   ],
   "source": [
    "print(\"имена, которые входят в первый список, но не входят во второй список\")\n",
    "[name_2 for name_2 in list_2 if name_2 not in list_1]"
   ]
  },
  {
   "cell_type": "code",
   "execution_count": 27,
   "metadata": {},
   "outputs": [
    {
     "name": "stdout",
     "output_type": "stream",
     "text": [
      "имена, которые входят в оба списка\n"
     ]
    },
    {
     "data": {
      "text/plain": [
       "['Cветлана', 'Олег']"
      ]
     },
     "execution_count": 27,
     "metadata": {},
     "output_type": "execute_result"
    }
   ],
   "source": [
    "print(\"имена, которые входят в оба списка\")\n",
    "[name_1 for name_1 in list_1 if name_1 in list_2]"
   ]
  },
  {
   "cell_type": "code",
   "execution_count": 28,
   "metadata": {},
   "outputs": [
    {
     "name": "stdout",
     "output_type": "stream",
     "text": [
      "имена, которые не входят в оба списка\n",
      "['Мария', 'Игорь', 'Илья'] ['Иван', 'Василиса']\n"
     ]
    }
   ],
   "source": [
    "print(\"имена, которые не входят в оба списка\")\n",
    "print([name_1 for name_1 in list_1 if name_1 not in list_2 ],[ name_2 for name_2 in list_2 if name_2 not in list_1 ])"
   ]
  },
  {
   "cell_type": "markdown",
   "metadata": {},
   "source": [
    "## Задача 2\n",
    "\n",
    "Ниже задан словарь и заполнен значениями (это вымышленные ученики). В качестве ключей выступают номера телефонов, в качестве значений - словари с полной информацией о человеке. Необходимо сделать:\n",
    "1. Вывести ФИО всех учеников (по одному в каждой строке). Выводить через for\n",
    "2. Посчитать среднюю оценку по группе за каждый месяц (всего было 4 месяца - необходимо вывести 4 числа). Опять же, делаем из предположения, что в словаре может быть очень большое кол-во записей.\n",
    "3. Удалить ученика с самой низкой средней оценкой. Посчитать п.2 по оставшимся."
   ]
  },
  {
   "cell_type": "code",
   "execution_count": 29,
   "metadata": {},
   "outputs": [],
   "source": [
    "# Имя\n",
    "# Фамилия\n",
    "# Пол\n",
    "# Дата рождения\n",
    "# Возраст\n",
    "\n",
    "\n",
    "group = {\n",
    "    '+79291111111':{\n",
    "        'Имя':'Иван',\n",
    "        'Фамилия':'Петров',\n",
    "        'Пол':'м',\n",
    "        'Дата рождения':'01-01-1991',\n",
    "        'Возраст':23,\n",
    "        'Итоговые оценки за месяц':(60, 65, 97, 40),\n",
    "        'Итоговая контрольная':40.7,\n",
    "    },\n",
    "     '+79282222233':{\n",
    "        'Имя':'Матвей',\n",
    "        'Фамилия':'Васильев',\n",
    "        'Пол':'м',\n",
    "        'Дата рождения':'04-09-1996',\n",
    "        'Возраст':20,\n",
    "        'Итоговые оценки за месяц':(70, 75, 67, 40),\n",
    "        'Итоговая контрольная':49.6,\n",
    "    },\n",
    "     '+79264443333':{\n",
    "        'Имя':'Татьяна',\n",
    "        'Фамилия':'Фоменко',\n",
    "        'Пол':'ж',\n",
    "        'Дата рождения':'01-01-1988',\n",
    "        'Возраст':27,\n",
    "        'Итоговые оценки за месяц':(20, 43, 87, 70),\n",
    "        'Итоговая контрольная':70.2,\n",
    "    }\n",
    "}"
   ]
  },
  {
   "cell_type": "code",
   "execution_count": 30,
   "metadata": {},
   "outputs": [
    {
     "name": "stdout",
     "output_type": "stream",
     "text": [
      "Иван Петров\n",
      "Матвей Васильев\n",
      "Татьяна Фоменко\n"
     ]
    }
   ],
   "source": [
    "for i in range(len(group)):\n",
    "    person = dict(tuple(group.items())[i][1])\n",
    "    name = list(person.keys())[0:2]\n",
    "    print(person[name[0]] +\" \"+ person[name[1]])"
   ]
  },
  {
   "cell_type": "code",
   "execution_count": 31,
   "metadata": {},
   "outputs": [
    {
     "name": "stdout",
     "output_type": "stream",
     "text": [
      "Средняя оценка группы за 1 месяц: 50.0\n",
      "Средняя оценка группы за 2 месяц: 61.0\n",
      "Средняя оценка группы за 3 месяц: 83.66666666666667\n",
      "Средняя оценка группы за 4 месяц: 50.0\n"
     ]
    }
   ],
   "source": [
    "average_score_for = 0\n",
    "lst = []\n",
    "for i in range(len(group)):\n",
    "    person = dict(tuple(group.items())[i][1])\n",
    "    score = list(list(person.values())[5])\n",
    "    lst.extend(score)\n",
    "for y in range(4):\n",
    "    for z in lst[y::4]:\n",
    "        average_score_for += z\n",
    "    print(\"Средняя оценка группы за \"+str(y+1)+\" месяц: \"+str(average_score_for/3))\n",
    "    average_score_for = 0"
   ]
  },
  {
   "cell_type": "code",
   "execution_count": 32,
   "metadata": {},
   "outputs": [
    {
     "name": "stdout",
     "output_type": "stream",
     "text": [
      "У 3-го ученика самая минимальная средняя оценка - 55.0\n",
      "Средняя оценка оставшейся группы за 1 месяц: 65.0\n",
      "Средняя оценка оставшейся группы за 2 месяц: 70.0\n",
      "Средняя оценка оставшейся группы за 3 месяц: 82.0\n",
      "Средняя оценка оставшейся группы за 4 месяц: 40.0\n"
     ]
    }
   ],
   "source": [
    "average_score = 0\n",
    "dict_ = {}\n",
    "for i in range(len(group)):\n",
    "    person = dict(tuple(group.items())[i][1])\n",
    "    score = list(list(person.values())[5])\n",
    "    lst.extend(score)\n",
    "for y in range(0,12,4):\n",
    "    k = y + 4\n",
    "    for z in lst[y:k:]:\n",
    "        average_score += z\n",
    "    dict_.update({\n",
    "        int(k/4): average_score/4\n",
    "    })\n",
    "    average_score = 0\n",
    "person = list(tuple(group.items())[min(dict_, key=dict_.get)-1])\n",
    "print(\"У \"+str(min(dict_, key=dict_.get))+\"-го ученика самая минимальная средняя оценка - \"+str(tuple(dict_.values())[min(dict_, key=dict_.get) - 1]))\n",
    "group.pop(person[0])\n",
    "average_grade_for_month = 0\n",
    "lst = []\n",
    "for i in range(len(group)):\n",
    "    person = dict(tuple(group.items())[i][1])\n",
    "    score = list(list(person.values())[5])\n",
    "    lst.extend(score)\n",
    "for y in range(4):\n",
    "    for z in lst[y::4]:\n",
    "        average_grade_for_month += z\n",
    "    print(\"Средняя оценка оставшейся группы за \"+str(y+1)+\" месяц: \"+str(average_grade_for_month/2))\n",
    "    average_grade_for_month = 0"
   ]
  },
  {
   "cell_type": "markdown",
   "metadata": {},
   "source": [
    "# Задача 3\n",
    "\n",
    "У вас есть список списков, в первом элементе которых лежат наименования страны, в нескольких других ячейках следом - города.\n",
    "\n",
    "Вам необходимо преобразовать его в словарь так, чтобы при обращении по городу выдавалась страна, к которой данный город принадлежит.\n",
    "\n",
    "**Пример:**"
   ]
  },
  {
   "cell_type": "code",
   "execution_count": 33,
   "metadata": {},
   "outputs": [],
   "source": [
    "lst = [\n",
    "    ['Russia', 'Moscow', 'Petersburg', 'Novgorod', 'Kaluga'],\n",
    "    ['Ukraine', 'Kiev', 'Donetsk', 'Odessa']\n",
    "]"
   ]
  },
  {
   "cell_type": "markdown",
   "metadata": {},
   "source": [
    "По обращению  \n",
    "`dct_1[\"Moscow\"]` я должен получить вывод `Russia`\n",
    "\n",
    "А по обращению  \n",
    "`dct_1[\"Odessa\"]` - должен получить вывод `Ukraine`"
   ]
  },
  {
   "cell_type": "code",
   "execution_count": 34,
   "metadata": {},
   "outputs": [
    {
     "data": {
      "text/plain": [
       "'Ukraine'"
      ]
     },
     "execution_count": 34,
     "metadata": {},
     "output_type": "execute_result"
    }
   ],
   "source": [
    "dict_1 = {}\n",
    "for i in lst:\n",
    "    for k in range(1,len(i)):\n",
    "        dict_1.update({\n",
    "            i[k]: i[0]\n",
    "        })\n",
    "dict_1[\"Donetsk\"]"
   ]
  }
 ],
 "metadata": {
  "kernelspec": {
   "display_name": "Python 3",
   "language": "python",
   "name": "python3"
  },
  "language_info": {
   "codemirror_mode": {
    "name": "ipython",
    "version": 3
   },
   "file_extension": ".py",
   "mimetype": "text/x-python",
   "name": "python",
   "nbconvert_exporter": "python",
   "pygments_lexer": "ipython3",
   "version": "3.8.5"
  }
 },
 "nbformat": 4,
 "nbformat_minor": 2
}
