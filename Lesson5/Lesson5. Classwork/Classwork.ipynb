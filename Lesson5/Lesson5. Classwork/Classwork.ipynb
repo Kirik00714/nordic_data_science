{
 "cells": [
  {
   "cell_type": "code",
   "execution_count": 91,
   "metadata": {},
   "outputs": [
    {
     "data": {
      "text/plain": [
       "'Красная шапочка пошла Домой. дома ее ждал волк'"
      ]
     },
     "execution_count": 91,
     "metadata": {},
     "output_type": "execute_result"
    }
   ],
   "source": [
    "str_ = 'красная шапочка пошла домой. дома ее ждал волк'\n",
    "str_ = str_.capitalize()\n",
    "str_ =str_.replace(str_[str_.index('.') +2],'Д',1)\n",
    "# for i in str_:\n",
    "#     str2 = i.lstrip().capitalize().join(\" \")\n",
    "# str2\n",
    "str_"
   ]
  },
  {
   "cell_type": "code",
   "execution_count": 83,
   "metadata": {},
   "outputs": [
    {
     "data": {
      "text/plain": [
       "'Игорь проснулся. Игорь оделся. Игорь пошел на работу. Алексей получил зарплату'"
      ]
     },
     "execution_count": 83,
     "metadata": {},
     "output_type": "execute_result"
    }
   ],
   "source": [
    "str1 = 'Алексей проснулся. Алексей оделся. Алексей пошел на работу. Алексей получил зарплату'\n",
    "str1.replace(\"Алексей\", \"Игорь\",3)\n",
    "# str1 = str1.split(\" \")\n",
    "# count = 0\n",
    "# for i in str1:\n",
    "#     if i == 'Алексей' and count <=3:\n",
    "#         str1 = str1.replace(\"Алексей\", \"Игорь\")\n",
    "#         count += 1"
   ]
  },
  {
   "cell_type": "code",
   "execution_count": 108,
   "metadata": {},
   "outputs": [
    {
     "name": "stdout",
     "output_type": "stream",
     "text": [
      "Hello Vasya\n",
      "Hello Petya\n"
     ]
    }
   ],
   "source": [
    "dict_name = {\n",
    "    \"name\": 'Vasya',\n",
    "    \"fr\": 'Petya'\n",
    "}\n",
    "dict_2 = {\n",
    "    \"name\": 'Petya',\n",
    "    \"lastname\": 'Petrov',\n",
    "    'years_old': '22',\n",
    "    'city': \"London\"\n",
    "}\n",
    "for i in dict_name:\n",
    "    print(f'Hello {dict_name[i]}')"
   ]
  },
  {
   "cell_type": "code",
   "execution_count": null,
   "metadata": {},
   "outputs": [],
   "source": []
  },
  {
   "cell_type": "code",
   "execution_count": null,
   "metadata": {},
   "outputs": [],
   "source": []
  }
 ],
 "metadata": {
  "kernelspec": {
   "display_name": "Python 3",
   "language": "python",
   "name": "python3"
  },
  "language_info": {
   "codemirror_mode": {
    "name": "ipython",
    "version": 3
   },
   "file_extension": ".py",
   "mimetype": "text/x-python",
   "name": "python",
   "nbconvert_exporter": "python",
   "pygments_lexer": "ipython3",
   "version": "3.8.5"
  }
 },
 "nbformat": 4,
 "nbformat_minor": 4
}
