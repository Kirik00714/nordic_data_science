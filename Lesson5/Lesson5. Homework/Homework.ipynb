{
 "cells": [
  {
   "cell_type": "markdown",
   "metadata": {},
   "source": [
    "### Задача 1 (повторяем еще раз)\n",
    "\n",
    "Для каждого студента вывести строку:\n",
    "\"Привет!\n",
    "Меня зовут name surname.\n",
    "Мне age лет\n",
    "Мой средний балл Score.\n",
    "Я доступен по номеру num\"\n",
    "\n"
   ]
  },
  {
   "cell_type": "code",
   "execution_count": 100,
   "metadata": {},
   "outputs": [],
   "source": [
    "group_dict = {\n",
    "    '+79999999999':{\n",
    "        'name':'Василий',\n",
    "        'surname':'Иванов',\n",
    "        'age':23,\n",
    "        'Score': 60.7\n",
    "    },\n",
    "    '+79999998888':{\n",
    "        'name':'Василий',\n",
    "        'surname':'Иванов',\n",
    "        'age':20,\n",
    "        'Score': 67.0\n",
    "    },\n",
    "    '+79999997777':{\n",
    "        'name':'Анна',\n",
    "        'surname':'Петрова',\n",
    "        'age':27,\n",
    "        'Score': 90.2\n",
    "    },\n",
    "}"
   ]
  },
  {
   "cell_type": "code",
   "execution_count": 108,
   "metadata": {},
   "outputs": [
    {
     "name": "stdout",
     "output_type": "stream",
     "text": [
      "Привет! Меня зовут Василий Иванов. Мне 23 лет. Мой средний балл 60.7. Я доступен по номеру +79999999999\n",
      "Привет! Меня зовут Василий Иванов. Мне 20 лет. Мой средний балл 67.0. Я доступен по номеру +79999998888\n",
      "Привет! Меня зовут Анна Петрова. Мне 27 лет. Мой средний балл 90.2. Я доступен по номеру +79999997777\n"
     ]
    }
   ],
   "source": [
    "for i in range(len(group_dict)):\n",
    "    person = dict(tuple(group_dict.items())[i][1])\n",
    "    print(\"Привет! Меня зовут %(name)s %(surname)s. Мне %(age)s лет. Мой средний балл %(Score)s. Я доступен по номеру \" % person+\n",
    "    list(group_dict.keys())[i] )"
   ]
  },
  {
   "cell_type": "markdown",
   "metadata": {},
   "source": [
    "## Задача 2\n",
    "\n",
    "Вам дан текст"
   ]
  },
  {
   "cell_type": "code",
   "execution_count": 109,
   "metadata": {},
   "outputs": [],
   "source": [
    "text = \"\"\"A fair number of brave souls who upgraded their SI clock oscillator have\n",
    "shared their experiences for this poll. Please send a brief message detailing\n",
    "your experiences with the procedure. Top speed attained, CPU rated speed,\n",
    "add on cards and adapters, heat sinks, hour of usage per day, floppy disk\n",
    "functionality with 800 and 1.4 m floppies are especially requested.\"\"\""
   ]
  },
  {
   "cell_type": "markdown",
   "metadata": {},
   "source": [
    "#### Нужно:\n",
    "\n",
    "1. Разделить текст на предложения.\n",
    "2. В каждом предложении подсчитать кол-во слов (для этого необходимо дополнительно разделить предложение на слова по пробелам)\n",
    "3. Вывести среднее значение слов в предложении.\n",
    "\n",
    "#### Затем:\n",
    "1. Подсчитать, какое кол-во раз встречается в тексте слово with\n",
    "2. Подсчитать, на какой позиции находится слово number\n",
    "3. Заменить фразу 'floppy disk' на 'hard drive'"
   ]
  },
  {
   "cell_type": "code",
   "execution_count": 110,
   "metadata": {},
   "outputs": [
    {
     "name": "stdout",
     "output_type": "stream",
     "text": [
      "Количество слов в 1 предложении 19\n",
      "Количество слов в 2 предложении 11\n",
      "Количество слов в 3 предложении 30\n",
      "Cреднее значение слов в предложении 20.0\n",
      "Слово with в тексте встречается 2 раз(а)\n",
      "Слово number находится на позиции 7\n"
     ]
    },
    {
     "data": {
      "text/plain": [
       "'A fair number of brave souls who upgraded their SI clock oscillator have\\nshared their experiences for this poll. Please send a brief message detailing\\nyour experiences with the procedure. Top speed attained, CPU rated speed,\\nadd on cards and adapters, heat sinks, hour of usage per day, hard drive\\nfunctionality with 800 and 1.4 m floppies are especially requested.'"
      ]
     },
     "execution_count": 110,
     "metadata": {},
     "output_type": "execute_result"
    }
   ],
   "source": [
    "sum_words = 0\n",
    "text_lst = text.replace('\\n', ' ').split('. ')\n",
    "for i in range(len(text_lst)):\n",
    "    count_words = len(text_lst[i].split(' '))\n",
    "    print(\"Количество слов в \"+ str(i+1)+ \" предложении \" + str(count_words))\n",
    "    sum_words += count_words\n",
    "print(\"Cреднее значение слов в предложении \" + str(sum_words/len(text_lst)))\n",
    "print(\"Слово with в тексте встречается %i раз(а)\" % text.count('with'))\n",
    "print(\"Слово number находится на позиции %i\" % text.index('number'))\n",
    "text.replace('floppy disk', 'hard drive')"
   ]
  }
 ],
 "metadata": {
  "kernelspec": {
   "display_name": "Python 3",
   "language": "python",
   "name": "python3"
  },
  "language_info": {
   "codemirror_mode": {
    "name": "ipython",
    "version": 3
   },
   "file_extension": ".py",
   "mimetype": "text/x-python",
   "name": "python",
   "nbconvert_exporter": "python",
   "pygments_lexer": "ipython3",
   "version": "3.8.5"
  }
 },
 "nbformat": 4,
 "nbformat_minor": 2
}
