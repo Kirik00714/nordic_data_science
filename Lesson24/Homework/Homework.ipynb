{
 "cells": [
  {
   "cell_type": "code",
   "execution_count": 11,
   "metadata": {},
   "outputs": [],
   "source": [
    "import pandas as pd\n",
    "import numpy as np\n",
    "from scipy import optimize\n",
    "from scipy import stats\n",
    "import matplotlib.pyplot as plt\n",
    "import seaborn as sns\n",
    "from sklearn.model_selection import  train_test_split\n",
    "from sklearn.metrics import mean_absolute_error, SCORERS, mean_squared_error\n",
    "from sklearn.linear_model import (LinearRegression, Ridge, Lasso,ElasticNet,\n",
    "                                    LogisticRegression)\n",
    "from sklearn.datasets import load_boston\n",
    "data = load_boston()\n",
    "from sklearn import model_selection\n",
    "from sklearn import linear_model\n",
    "from sklearn import preprocessing\n",
    "%matplotlib inline\n",
    "from sklearn import feature_selection\n",
    "from sklearn import metrics"
   ]
  },
  {
   "cell_type": "code",
   "execution_count": 12,
   "metadata": {},
   "outputs": [
    {
     "data": {
      "text/plain": [
       "dict_keys(['data', 'target', 'feature_names', 'DESCR', 'filename'])"
      ]
     },
     "execution_count": 12,
     "metadata": {},
     "output_type": "execute_result"
    }
   ],
   "source": [
    "data.keys()"
   ]
  },
  {
   "cell_type": "code",
   "execution_count": 13,
   "metadata": {},
   "outputs": [],
   "source": [
    "df = pd.DataFrame(data['data'], columns = data['feature_names'])"
   ]
  },
  {
   "cell_type": "code",
   "execution_count": 14,
   "metadata": {},
   "outputs": [],
   "source": [
    "df['target'] = data['target']"
   ]
  },
  {
   "cell_type": "code",
   "execution_count": 15,
   "metadata": {},
   "outputs": [
    {
     "data": {
      "text/html": [
       "<div>\n",
       "<style scoped>\n",
       "    .dataframe tbody tr th:only-of-type {\n",
       "        vertical-align: middle;\n",
       "    }\n",
       "\n",
       "    .dataframe tbody tr th {\n",
       "        vertical-align: top;\n",
       "    }\n",
       "\n",
       "    .dataframe thead th {\n",
       "        text-align: right;\n",
       "    }\n",
       "</style>\n",
       "<table border=\"1\" class=\"dataframe\">\n",
       "  <thead>\n",
       "    <tr style=\"text-align: right;\">\n",
       "      <th></th>\n",
       "      <th>CRIM</th>\n",
       "      <th>ZN</th>\n",
       "      <th>INDUS</th>\n",
       "      <th>CHAS</th>\n",
       "      <th>NOX</th>\n",
       "      <th>RM</th>\n",
       "      <th>AGE</th>\n",
       "      <th>DIS</th>\n",
       "      <th>RAD</th>\n",
       "      <th>TAX</th>\n",
       "      <th>PTRATIO</th>\n",
       "      <th>B</th>\n",
       "      <th>LSTAT</th>\n",
       "      <th>target</th>\n",
       "    </tr>\n",
       "  </thead>\n",
       "  <tbody>\n",
       "    <tr>\n",
       "      <th>0</th>\n",
       "      <td>0.00632</td>\n",
       "      <td>18.0</td>\n",
       "      <td>2.31</td>\n",
       "      <td>0.0</td>\n",
       "      <td>0.538</td>\n",
       "      <td>6.575</td>\n",
       "      <td>65.2</td>\n",
       "      <td>4.0900</td>\n",
       "      <td>1.0</td>\n",
       "      <td>296.0</td>\n",
       "      <td>15.3</td>\n",
       "      <td>396.90</td>\n",
       "      <td>4.98</td>\n",
       "      <td>24.0</td>\n",
       "    </tr>\n",
       "    <tr>\n",
       "      <th>1</th>\n",
       "      <td>0.02731</td>\n",
       "      <td>0.0</td>\n",
       "      <td>7.07</td>\n",
       "      <td>0.0</td>\n",
       "      <td>0.469</td>\n",
       "      <td>6.421</td>\n",
       "      <td>78.9</td>\n",
       "      <td>4.9671</td>\n",
       "      <td>2.0</td>\n",
       "      <td>242.0</td>\n",
       "      <td>17.8</td>\n",
       "      <td>396.90</td>\n",
       "      <td>9.14</td>\n",
       "      <td>21.6</td>\n",
       "    </tr>\n",
       "    <tr>\n",
       "      <th>2</th>\n",
       "      <td>0.02729</td>\n",
       "      <td>0.0</td>\n",
       "      <td>7.07</td>\n",
       "      <td>0.0</td>\n",
       "      <td>0.469</td>\n",
       "      <td>7.185</td>\n",
       "      <td>61.1</td>\n",
       "      <td>4.9671</td>\n",
       "      <td>2.0</td>\n",
       "      <td>242.0</td>\n",
       "      <td>17.8</td>\n",
       "      <td>392.83</td>\n",
       "      <td>4.03</td>\n",
       "      <td>34.7</td>\n",
       "    </tr>\n",
       "    <tr>\n",
       "      <th>3</th>\n",
       "      <td>0.03237</td>\n",
       "      <td>0.0</td>\n",
       "      <td>2.18</td>\n",
       "      <td>0.0</td>\n",
       "      <td>0.458</td>\n",
       "      <td>6.998</td>\n",
       "      <td>45.8</td>\n",
       "      <td>6.0622</td>\n",
       "      <td>3.0</td>\n",
       "      <td>222.0</td>\n",
       "      <td>18.7</td>\n",
       "      <td>394.63</td>\n",
       "      <td>2.94</td>\n",
       "      <td>33.4</td>\n",
       "    </tr>\n",
       "    <tr>\n",
       "      <th>4</th>\n",
       "      <td>0.06905</td>\n",
       "      <td>0.0</td>\n",
       "      <td>2.18</td>\n",
       "      <td>0.0</td>\n",
       "      <td>0.458</td>\n",
       "      <td>7.147</td>\n",
       "      <td>54.2</td>\n",
       "      <td>6.0622</td>\n",
       "      <td>3.0</td>\n",
       "      <td>222.0</td>\n",
       "      <td>18.7</td>\n",
       "      <td>396.90</td>\n",
       "      <td>5.33</td>\n",
       "      <td>36.2</td>\n",
       "    </tr>\n",
       "  </tbody>\n",
       "</table>\n",
       "</div>"
      ],
      "text/plain": [
       "      CRIM    ZN  INDUS  CHAS    NOX     RM   AGE     DIS  RAD    TAX  \\\n",
       "0  0.00632  18.0   2.31   0.0  0.538  6.575  65.2  4.0900  1.0  296.0   \n",
       "1  0.02731   0.0   7.07   0.0  0.469  6.421  78.9  4.9671  2.0  242.0   \n",
       "2  0.02729   0.0   7.07   0.0  0.469  7.185  61.1  4.9671  2.0  242.0   \n",
       "3  0.03237   0.0   2.18   0.0  0.458  6.998  45.8  6.0622  3.0  222.0   \n",
       "4  0.06905   0.0   2.18   0.0  0.458  7.147  54.2  6.0622  3.0  222.0   \n",
       "\n",
       "   PTRATIO       B  LSTAT  target  \n",
       "0     15.3  396.90   4.98    24.0  \n",
       "1     17.8  396.90   9.14    21.6  \n",
       "2     17.8  392.83   4.03    34.7  \n",
       "3     18.7  394.63   2.94    33.4  \n",
       "4     18.7  396.90   5.33    36.2  "
      ]
     },
     "execution_count": 15,
     "metadata": {},
     "output_type": "execute_result"
    }
   ],
   "source": [
    "df.head()"
   ]
  },
  {
   "cell_type": "code",
   "execution_count": 16,
   "metadata": {},
   "outputs": [],
   "source": [
    "df.dropna(inplace=True)"
   ]
  },
  {
   "cell_type": "code",
   "execution_count": 17,
   "metadata": {},
   "outputs": [
    {
     "data": {
      "text/html": [
       "<div>\n",
       "<style scoped>\n",
       "    .dataframe tbody tr th:only-of-type {\n",
       "        vertical-align: middle;\n",
       "    }\n",
       "\n",
       "    .dataframe tbody tr th {\n",
       "        vertical-align: top;\n",
       "    }\n",
       "\n",
       "    .dataframe thead th {\n",
       "        text-align: right;\n",
       "    }\n",
       "</style>\n",
       "<table border=\"1\" class=\"dataframe\">\n",
       "  <thead>\n",
       "    <tr style=\"text-align: right;\">\n",
       "      <th></th>\n",
       "      <th>CRIM</th>\n",
       "      <th>ZN</th>\n",
       "      <th>INDUS</th>\n",
       "      <th>CHAS</th>\n",
       "      <th>NOX</th>\n",
       "      <th>RM</th>\n",
       "      <th>AGE</th>\n",
       "      <th>DIS</th>\n",
       "      <th>RAD</th>\n",
       "      <th>TAX</th>\n",
       "      <th>PTRATIO</th>\n",
       "      <th>B</th>\n",
       "      <th>LSTAT</th>\n",
       "      <th>target</th>\n",
       "    </tr>\n",
       "  </thead>\n",
       "  <tbody>\n",
       "    <tr>\n",
       "      <th>0</th>\n",
       "      <td>0.00632</td>\n",
       "      <td>18.0</td>\n",
       "      <td>2.31</td>\n",
       "      <td>0.0</td>\n",
       "      <td>0.538</td>\n",
       "      <td>6.575</td>\n",
       "      <td>65.2</td>\n",
       "      <td>4.0900</td>\n",
       "      <td>1.0</td>\n",
       "      <td>296.0</td>\n",
       "      <td>15.3</td>\n",
       "      <td>396.90</td>\n",
       "      <td>4.98</td>\n",
       "      <td>24.0</td>\n",
       "    </tr>\n",
       "    <tr>\n",
       "      <th>1</th>\n",
       "      <td>0.02731</td>\n",
       "      <td>0.0</td>\n",
       "      <td>7.07</td>\n",
       "      <td>0.0</td>\n",
       "      <td>0.469</td>\n",
       "      <td>6.421</td>\n",
       "      <td>78.9</td>\n",
       "      <td>4.9671</td>\n",
       "      <td>2.0</td>\n",
       "      <td>242.0</td>\n",
       "      <td>17.8</td>\n",
       "      <td>396.90</td>\n",
       "      <td>9.14</td>\n",
       "      <td>21.6</td>\n",
       "    </tr>\n",
       "    <tr>\n",
       "      <th>2</th>\n",
       "      <td>0.02729</td>\n",
       "      <td>0.0</td>\n",
       "      <td>7.07</td>\n",
       "      <td>0.0</td>\n",
       "      <td>0.469</td>\n",
       "      <td>7.185</td>\n",
       "      <td>61.1</td>\n",
       "      <td>4.9671</td>\n",
       "      <td>2.0</td>\n",
       "      <td>242.0</td>\n",
       "      <td>17.8</td>\n",
       "      <td>392.83</td>\n",
       "      <td>4.03</td>\n",
       "      <td>34.7</td>\n",
       "    </tr>\n",
       "    <tr>\n",
       "      <th>3</th>\n",
       "      <td>0.03237</td>\n",
       "      <td>0.0</td>\n",
       "      <td>2.18</td>\n",
       "      <td>0.0</td>\n",
       "      <td>0.458</td>\n",
       "      <td>6.998</td>\n",
       "      <td>45.8</td>\n",
       "      <td>6.0622</td>\n",
       "      <td>3.0</td>\n",
       "      <td>222.0</td>\n",
       "      <td>18.7</td>\n",
       "      <td>394.63</td>\n",
       "      <td>2.94</td>\n",
       "      <td>33.4</td>\n",
       "    </tr>\n",
       "    <tr>\n",
       "      <th>4</th>\n",
       "      <td>0.06905</td>\n",
       "      <td>0.0</td>\n",
       "      <td>2.18</td>\n",
       "      <td>0.0</td>\n",
       "      <td>0.458</td>\n",
       "      <td>7.147</td>\n",
       "      <td>54.2</td>\n",
       "      <td>6.0622</td>\n",
       "      <td>3.0</td>\n",
       "      <td>222.0</td>\n",
       "      <td>18.7</td>\n",
       "      <td>396.90</td>\n",
       "      <td>5.33</td>\n",
       "      <td>36.2</td>\n",
       "    </tr>\n",
       "  </tbody>\n",
       "</table>\n",
       "</div>"
      ],
      "text/plain": [
       "      CRIM    ZN  INDUS  CHAS    NOX     RM   AGE     DIS  RAD    TAX  \\\n",
       "0  0.00632  18.0   2.31   0.0  0.538  6.575  65.2  4.0900  1.0  296.0   \n",
       "1  0.02731   0.0   7.07   0.0  0.469  6.421  78.9  4.9671  2.0  242.0   \n",
       "2  0.02729   0.0   7.07   0.0  0.469  7.185  61.1  4.9671  2.0  242.0   \n",
       "3  0.03237   0.0   2.18   0.0  0.458  6.998  45.8  6.0622  3.0  222.0   \n",
       "4  0.06905   0.0   2.18   0.0  0.458  7.147  54.2  6.0622  3.0  222.0   \n",
       "\n",
       "   PTRATIO       B  LSTAT  target  \n",
       "0     15.3  396.90   4.98    24.0  \n",
       "1     17.8  396.90   9.14    21.6  \n",
       "2     17.8  392.83   4.03    34.7  \n",
       "3     18.7  394.63   2.94    33.4  \n",
       "4     18.7  396.90   5.33    36.2  "
      ]
     },
     "execution_count": 17,
     "metadata": {},
     "output_type": "execute_result"
    }
   ],
   "source": [
    "df.head()"
   ]
  },
  {
   "cell_type": "code",
   "execution_count": 18,
   "metadata": {},
   "outputs": [
    {
     "data": {
      "text/plain": [
       "Index(['CRIM', 'ZN', 'INDUS', 'CHAS', 'NOX', 'RM', 'AGE', 'DIS', 'RAD', 'TAX',\n",
       "       'PTRATIO', 'B', 'LSTAT', 'target'],\n",
       "      dtype='object')"
      ]
     },
     "execution_count": 18,
     "metadata": {},
     "output_type": "execute_result"
    }
   ],
   "source": [
    "df.columns"
   ]
  },
  {
   "cell_type": "code",
   "execution_count": 19,
   "metadata": {},
   "outputs": [],
   "source": [
    "df['RAD_PTRATIO'] = df['RAD']*df['PTRATIO']\n",
    "df['RM_AGE'] = df['RM']*df['AGE']\n",
    "df['DIS_NOX'] = df['DIS']*df['NOX']\n",
    "df['RAD_TAX'] = df['RAD']*df['TAX']\n",
    "df['LSTAT_PTRATIO'] = df['LSTAT']*df['PTRATIO']\n",
    "df['ZN_INDUS'] = df['ZN']*df['INDUS']\n",
    "df['RM_TAX'] = df['RM']*df['TAX']\n",
    "df['AGE_PTRATIO'] = df['AGE']*df['PTRATIO']\n",
    "df['CRIM_LSTAT'] = df['CRIM']*df['LSTAT']\n",
    "df['CRIM_ZN'] = df['CRIM']*df['ZN']\n",
    "df['CRIM_TAX'] = df['CRIM']*df['TAX']\n",
    "\n",
    "df['CRIM_TAX_CRIM_ZN'] = df['CRIM_TAX']*df['CRIM_ZN']\n",
    "df['RM_TAX_ZN_INDUS'] = df['RM_TAX']*df['ZN_INDUS']\n",
    "df['ZN_INDUS_DIS_NOX'] = df['ZN_INDUS']*df['DIS_NOX']\n",
    "df['CRIM_LSTAT_DIS_NOX'] = df['CRIM_LSTAT']*df['DIS_NOX']\n",
    "df['CRIM_ZN_DIS_NOX'] = df['CRIM_ZN']*df['DIS_NOX']\n",
    "df['RAD_PTRATIO_RAD_TAX'] = df['RAD_PTRATIO']*df['RAD_TAX']\n",
    "df['LSTAT_PTRATIO_RAD_TAX'] = df['LSTAT_PTRATIO']*df['RAD_TAX']\n",
    "\n",
    "df['ZN_INDUS_RAD_TAX'] = df['ZN_INDUS']*df['RAD_TAX']\n",
    "df['CRIM_LSTAT_RAD_TAX'] = df['CRIM_LSTAT']*df['RAD_TAX']\n",
    "df['CRIM_TAX_RAD_TAX'] = df['CRIM_TAX']*df['RAD_TAX']\n",
    "\n"
   ]
  },
  {
   "cell_type": "code",
   "execution_count": 20,
   "metadata": {},
   "outputs": [],
   "source": [
    "df['RAD=PTRATIO'] = df['RAD']/df['PTRATIO']\n",
    "df['RM=AGE'] = df['RM']/df['AGE']\n",
    "df['DIS=NOX'] = df['DIS']/df['NOX']\n",
    "df['RAD=TAX'] = df['RAD']/df['TAX']\n",
    "df['LSTAT=PTRATIO'] = df['LSTAT']/df['PTRATIO']\n",
    "df['RM=TAX'] = df['RM']/df['TAX']\n",
    "df['AGE=PTRATIO'] = df['AGE']/df['PTRATIO']\n",
    "df['CRIM=LSTAT'] = df['CRIM']/df['LSTAT']\n",
    "df['CRIM=TAX'] = df['CRIM']/df['TAX']\n",
    "\n",
    "df['ZN_INDUS+DIS_NOX'] = df['ZN_INDUS']/df['DIS_NOX']\n",
    "df['CRIM_LSTAT+DIS_NOX'] = df['CRIM_LSTAT']/df['DIS_NOX']\n",
    "df['CRIM_ZN_DIS+NOX'] = df['CRIM_ZN']/df['DIS_NOX']\n",
    "df['RAD_PTRATIO+RAD_TAX'] = df['RAD_PTRATIO']/df['RAD_TAX']\n",
    "df['LSTAT_PTRATIO+RAD_TAX'] = df['LSTAT_PTRATIO']/df['RAD_TAX']\n",
    "\n",
    "df['ZN_INDUS+RAD_TAX'] = df['ZN_INDUS']/df['RAD_TAX']\n",
    "df['CRIM_LSTAT+RAD_TAX'] = df['CRIM_LSTAT']/df['RAD_TAX']\n",
    "df['CRIM_TAX+RAD_TAX'] = df['CRIM_TAX']/df['RAD_TAX']"
   ]
  },
  {
   "cell_type": "code",
   "execution_count": 21,
   "metadata": {},
   "outputs": [],
   "source": [
    "df['RAD*PTRATIO'] = df['RAD']%df['PTRATIO']\n",
    "df['RM*AGE'] = df['RM']%df['AGE']\n",
    "df['DIS*NOX'] = df['DIS']%df['NOX']\n",
    "df['RAD*TAX'] = df['RAD']%df['TAX']\n",
    "df['LSTAT*PTRATIO'] = df['LSTAT']%df['PTRATIO']\n",
    "df['RM*TAX'] = df['RM']%df['TAX']\n",
    "df['AGE*PTRATIO'] = df['AGE']%df['PTRATIO']\n",
    "df['CRIM*LSTAT'] = df['CRIM']%df['LSTAT']\n",
    "df['CRIM*TAX'] = df['CRIM']%df['TAX']\n",
    "\n",
    "df['ZN_INDUS*DIS_NOX'] = df['ZN_INDUS']%df['DIS_NOX']\n",
    "df['CRIM_LSTAT*DIS_NOX'] = df['CRIM_LSTAT']%df['DIS_NOX']\n",
    "df['CRIM_ZN_DIS*NOX'] = df['CRIM_ZN']%df['DIS_NOX']\n",
    "df['RAD_PTRATIO*RAD_TAX'] = df['RAD_PTRATIO']%df['RAD_TAX']\n",
    "df['LSTAT_PTRATIO*RAD_TAX'] = df['LSTAT_PTRATIO']%df['RAD_TAX']\n",
    "\n",
    "df['ZN_INDUS*RAD_TAX'] = df['ZN_INDUS']%df['RAD_TAX']\n",
    "df['CRIM_LSTAT*RAD_TAX'] = df['CRIM_LSTAT']%df['RAD_TAX']\n",
    "df['CRIM_TAX*RAD_TAX'] = df['CRIM_TAX']%df['RAD_TAX']"
   ]
  },
  {
   "cell_type": "code",
   "execution_count": 22,
   "metadata": {},
   "outputs": [
    {
     "data": {
      "text/html": [
       "<div>\n",
       "<style scoped>\n",
       "    .dataframe tbody tr th:only-of-type {\n",
       "        vertical-align: middle;\n",
       "    }\n",
       "\n",
       "    .dataframe tbody tr th {\n",
       "        vertical-align: top;\n",
       "    }\n",
       "\n",
       "    .dataframe thead th {\n",
       "        text-align: right;\n",
       "    }\n",
       "</style>\n",
       "<table border=\"1\" class=\"dataframe\">\n",
       "  <thead>\n",
       "    <tr style=\"text-align: right;\">\n",
       "      <th></th>\n",
       "      <th>CRIM</th>\n",
       "      <th>ZN</th>\n",
       "      <th>INDUS</th>\n",
       "      <th>CHAS</th>\n",
       "      <th>NOX</th>\n",
       "      <th>RM</th>\n",
       "      <th>AGE</th>\n",
       "      <th>DIS</th>\n",
       "      <th>RAD</th>\n",
       "      <th>TAX</th>\n",
       "      <th>...</th>\n",
       "      <th>CRIM*LSTAT</th>\n",
       "      <th>CRIM*TAX</th>\n",
       "      <th>ZN_INDUS*DIS_NOX</th>\n",
       "      <th>CRIM_LSTAT*DIS_NOX</th>\n",
       "      <th>CRIM_ZN_DIS*NOX</th>\n",
       "      <th>RAD_PTRATIO*RAD_TAX</th>\n",
       "      <th>LSTAT_PTRATIO*RAD_TAX</th>\n",
       "      <th>ZN_INDUS*RAD_TAX</th>\n",
       "      <th>CRIM_LSTAT*RAD_TAX</th>\n",
       "      <th>CRIM_TAX*RAD_TAX</th>\n",
       "    </tr>\n",
       "  </thead>\n",
       "  <tbody>\n",
       "    <tr>\n",
       "      <th>0</th>\n",
       "      <td>0.00632</td>\n",
       "      <td>18.0</td>\n",
       "      <td>2.31</td>\n",
       "      <td>0.0</td>\n",
       "      <td>0.538</td>\n",
       "      <td>6.575</td>\n",
       "      <td>65.2</td>\n",
       "      <td>4.0900</td>\n",
       "      <td>1.0</td>\n",
       "      <td>296.0</td>\n",
       "      <td>...</td>\n",
       "      <td>0.00632</td>\n",
       "      <td>0.00632</td>\n",
       "      <td>1.97244</td>\n",
       "      <td>0.031474</td>\n",
       "      <td>0.11376</td>\n",
       "      <td>15.3</td>\n",
       "      <td>76.194</td>\n",
       "      <td>41.58</td>\n",
       "      <td>0.031474</td>\n",
       "      <td>1.87072</td>\n",
       "    </tr>\n",
       "    <tr>\n",
       "      <th>1</th>\n",
       "      <td>0.02731</td>\n",
       "      <td>0.0</td>\n",
       "      <td>7.07</td>\n",
       "      <td>0.0</td>\n",
       "      <td>0.469</td>\n",
       "      <td>6.421</td>\n",
       "      <td>78.9</td>\n",
       "      <td>4.9671</td>\n",
       "      <td>2.0</td>\n",
       "      <td>242.0</td>\n",
       "      <td>...</td>\n",
       "      <td>0.02731</td>\n",
       "      <td>0.02731</td>\n",
       "      <td>0.00000</td>\n",
       "      <td>0.249613</td>\n",
       "      <td>0.00000</td>\n",
       "      <td>35.6</td>\n",
       "      <td>162.692</td>\n",
       "      <td>0.00</td>\n",
       "      <td>0.249613</td>\n",
       "      <td>6.60902</td>\n",
       "    </tr>\n",
       "    <tr>\n",
       "      <th>2</th>\n",
       "      <td>0.02729</td>\n",
       "      <td>0.0</td>\n",
       "      <td>7.07</td>\n",
       "      <td>0.0</td>\n",
       "      <td>0.469</td>\n",
       "      <td>7.185</td>\n",
       "      <td>61.1</td>\n",
       "      <td>4.9671</td>\n",
       "      <td>2.0</td>\n",
       "      <td>242.0</td>\n",
       "      <td>...</td>\n",
       "      <td>0.02729</td>\n",
       "      <td>0.02729</td>\n",
       "      <td>0.00000</td>\n",
       "      <td>0.109979</td>\n",
       "      <td>0.00000</td>\n",
       "      <td>35.6</td>\n",
       "      <td>71.734</td>\n",
       "      <td>0.00</td>\n",
       "      <td>0.109979</td>\n",
       "      <td>6.60418</td>\n",
       "    </tr>\n",
       "    <tr>\n",
       "      <th>3</th>\n",
       "      <td>0.03237</td>\n",
       "      <td>0.0</td>\n",
       "      <td>2.18</td>\n",
       "      <td>0.0</td>\n",
       "      <td>0.458</td>\n",
       "      <td>6.998</td>\n",
       "      <td>45.8</td>\n",
       "      <td>6.0622</td>\n",
       "      <td>3.0</td>\n",
       "      <td>222.0</td>\n",
       "      <td>...</td>\n",
       "      <td>0.03237</td>\n",
       "      <td>0.03237</td>\n",
       "      <td>0.00000</td>\n",
       "      <td>0.095168</td>\n",
       "      <td>0.00000</td>\n",
       "      <td>56.1</td>\n",
       "      <td>54.978</td>\n",
       "      <td>0.00</td>\n",
       "      <td>0.095168</td>\n",
       "      <td>7.18614</td>\n",
       "    </tr>\n",
       "    <tr>\n",
       "      <th>4</th>\n",
       "      <td>0.06905</td>\n",
       "      <td>0.0</td>\n",
       "      <td>2.18</td>\n",
       "      <td>0.0</td>\n",
       "      <td>0.458</td>\n",
       "      <td>7.147</td>\n",
       "      <td>54.2</td>\n",
       "      <td>6.0622</td>\n",
       "      <td>3.0</td>\n",
       "      <td>222.0</td>\n",
       "      <td>...</td>\n",
       "      <td>0.06905</td>\n",
       "      <td>0.06905</td>\n",
       "      <td>0.00000</td>\n",
       "      <td>0.368036</td>\n",
       "      <td>0.00000</td>\n",
       "      <td>56.1</td>\n",
       "      <td>99.671</td>\n",
       "      <td>0.00</td>\n",
       "      <td>0.368036</td>\n",
       "      <td>15.32910</td>\n",
       "    </tr>\n",
       "  </tbody>\n",
       "</table>\n",
       "<p>5 rows × 69 columns</p>\n",
       "</div>"
      ],
      "text/plain": [
       "      CRIM    ZN  INDUS  CHAS    NOX     RM   AGE     DIS  RAD    TAX  ...  \\\n",
       "0  0.00632  18.0   2.31   0.0  0.538  6.575  65.2  4.0900  1.0  296.0  ...   \n",
       "1  0.02731   0.0   7.07   0.0  0.469  6.421  78.9  4.9671  2.0  242.0  ...   \n",
       "2  0.02729   0.0   7.07   0.0  0.469  7.185  61.1  4.9671  2.0  242.0  ...   \n",
       "3  0.03237   0.0   2.18   0.0  0.458  6.998  45.8  6.0622  3.0  222.0  ...   \n",
       "4  0.06905   0.0   2.18   0.0  0.458  7.147  54.2  6.0622  3.0  222.0  ...   \n",
       "\n",
       "   CRIM*LSTAT  CRIM*TAX  ZN_INDUS*DIS_NOX  CRIM_LSTAT*DIS_NOX  \\\n",
       "0     0.00632   0.00632           1.97244            0.031474   \n",
       "1     0.02731   0.02731           0.00000            0.249613   \n",
       "2     0.02729   0.02729           0.00000            0.109979   \n",
       "3     0.03237   0.03237           0.00000            0.095168   \n",
       "4     0.06905   0.06905           0.00000            0.368036   \n",
       "\n",
       "   CRIM_ZN_DIS*NOX  RAD_PTRATIO*RAD_TAX  LSTAT_PTRATIO*RAD_TAX  \\\n",
       "0          0.11376                 15.3                 76.194   \n",
       "1          0.00000                 35.6                162.692   \n",
       "2          0.00000                 35.6                 71.734   \n",
       "3          0.00000                 56.1                 54.978   \n",
       "4          0.00000                 56.1                 99.671   \n",
       "\n",
       "   ZN_INDUS*RAD_TAX  CRIM_LSTAT*RAD_TAX  CRIM_TAX*RAD_TAX  \n",
       "0             41.58            0.031474           1.87072  \n",
       "1              0.00            0.249613           6.60902  \n",
       "2              0.00            0.109979           6.60418  \n",
       "3              0.00            0.095168           7.18614  \n",
       "4              0.00            0.368036          15.32910  \n",
       "\n",
       "[5 rows x 69 columns]"
      ]
     },
     "execution_count": 22,
     "metadata": {},
     "output_type": "execute_result"
    }
   ],
   "source": [
    "df.head()"
   ]
  },
  {
   "cell_type": "code",
   "execution_count": 23,
   "metadata": {},
   "outputs": [],
   "source": [
    "df_train,df_test = train_test_split(df.copy(),test_size=0.15,random_state=17)"
   ]
  },
  {
   "cell_type": "code",
   "execution_count": 24,
   "metadata": {},
   "outputs": [],
   "source": [
    "x_train = df_train.drop('target', axis = 1)\n",
    "y_train = df_train['target']"
   ]
  },
  {
   "cell_type": "code",
   "execution_count": 25,
   "metadata": {},
   "outputs": [
    {
     "data": {
      "text/plain": [
       "LinearRegression()"
      ]
     },
     "execution_count": 25,
     "metadata": {},
     "output_type": "execute_result"
    }
   ],
   "source": [
    "lr = LinearRegression()\n",
    "lr.fit(x_train, y_train)"
   ]
  },
  {
   "cell_type": "code",
   "execution_count": 26,
   "metadata": {},
   "outputs": [],
   "source": [
    "x_test = df_test.drop('target',axis = 1)\n",
    "y_test = df_test['target']"
   ]
  },
  {
   "cell_type": "code",
   "execution_count": 27,
   "metadata": {},
   "outputs": [],
   "source": [
    "preds_train = lr.predict(x_train)\n",
    "preds_test = lr.predict(x_test)"
   ]
  },
  {
   "cell_type": "code",
   "execution_count": 28,
   "metadata": {},
   "outputs": [],
   "source": [
    "mse_train = mean_squared_error(preds_train, y_train)\n",
    "mse_test = mean_squared_error(preds_test, y_test)"
   ]
  },
  {
   "cell_type": "code",
   "execution_count": 29,
   "metadata": {},
   "outputs": [
    {
     "name": "stdout",
     "output_type": "stream",
     "text": [
      "train_metric  3.1236017439468435\n",
      "test_metric  2.6714077230157494\n"
     ]
    }
   ],
   "source": [
    "print('train_metric ', (mse_train)**(1/2))\n",
    "print('test_metric ', (mse_test)**(1/2))\n"
   ]
  },
  {
   "cell_type": "code",
   "execution_count": 30,
   "metadata": {},
   "outputs": [],
   "source": [
    "lasso = Lasso(alpha = 0.1)"
   ]
  },
  {
   "cell_type": "code",
   "execution_count": 31,
   "metadata": {},
   "outputs": [
    {
     "name": "stderr",
     "output_type": "stream",
     "text": [
      "C:\\anaconda3\\lib\\site-packages\\sklearn\\linear_model\\_coordinate_descent.py:529: ConvergenceWarning: Objective did not converge. You might want to increase the number of iterations. Duality gap: 3774.05716381109, tolerance: 3.775355079069768\n",
      "  model = cd_fast.enet_coordinate_descent(\n"
     ]
    },
    {
     "data": {
      "text/plain": [
       "Lasso(alpha=0.1)"
      ]
     },
     "execution_count": 31,
     "metadata": {},
     "output_type": "execute_result"
    }
   ],
   "source": [
    "lasso.fit(x_train, y_train)"
   ]
  },
  {
   "cell_type": "code",
   "execution_count": 32,
   "metadata": {},
   "outputs": [
    {
     "data": {
      "text/plain": [
       "array([-0.00000000e+00,  4.73780997e-02,  7.94764426e-03,  0.00000000e+00,\n",
       "       -0.00000000e+00,  6.32073297e+00,  1.66926298e-01, -0.00000000e+00,\n",
       "        0.00000000e+00,  1.01515922e-01, -2.27821363e-01,  4.91316521e-03,\n",
       "       -9.23752768e-01, -5.21342755e-02,  1.87600583e-03, -2.23621955e+00,\n",
       "       -1.84096453e-04,  3.87098683e-02,  3.36996558e-02, -1.92161433e-02,\n",
       "       -1.17835113e-02,  1.86552179e-02, -0.00000000e+00, -2.34908604e-04,\n",
       "       -1.45018066e-03,  1.70921474e-05, -4.93681189e-03,  1.27183851e-02,\n",
       "        9.90194267e-02,  2.41418872e-06, -2.76539354e-06, -7.72447627e-06,\n",
       "        1.83198194e-06, -7.59938763e-08,  0.00000000e+00,  0.00000000e+00,\n",
       "       -0.00000000e+00,  0.00000000e+00, -0.00000000e+00,  0.00000000e+00,\n",
       "        0.00000000e+00,  7.84826440e+00, -0.00000000e+00, -2.02392330e-02,\n",
       "        3.83402542e-02, -0.00000000e+00,  0.00000000e+00, -0.00000000e+00,\n",
       "       -0.00000000e+00, -0.00000000e+00, -0.00000000e+00,  3.15949544e-01,\n",
       "        2.10789554e-01,  0.00000000e+00,  1.89907779e-01, -1.97153083e-02,\n",
       "        6.21948752e+00, -2.43459533e-02, -0.00000000e+00, -2.66974117e-01,\n",
       "        0.00000000e+00,  0.00000000e+00,  0.00000000e+00,  5.20684313e-02,\n",
       "        4.94832378e-03, -4.51020459e-02, -6.29762529e-02, -2.46247806e-05])"
      ]
     },
     "execution_count": 32,
     "metadata": {},
     "output_type": "execute_result"
    }
   ],
   "source": [
    "lasso.coef_"
   ]
  },
  {
   "cell_type": "code",
   "execution_count": 33,
   "metadata": {},
   "outputs": [
    {
     "data": {
      "text/plain": [
       "-41.61982499935611"
      ]
     },
     "execution_count": 33,
     "metadata": {},
     "output_type": "execute_result"
    }
   ],
   "source": [
    "lasso.intercept_"
   ]
  },
  {
   "cell_type": "code",
   "execution_count": 34,
   "metadata": {},
   "outputs": [
    {
     "data": {
      "text/html": [
       "<div>\n",
       "<style scoped>\n",
       "    .dataframe tbody tr th:only-of-type {\n",
       "        vertical-align: middle;\n",
       "    }\n",
       "\n",
       "    .dataframe tbody tr th {\n",
       "        vertical-align: top;\n",
       "    }\n",
       "\n",
       "    .dataframe thead th {\n",
       "        text-align: right;\n",
       "    }\n",
       "</style>\n",
       "<table border=\"1\" class=\"dataframe\">\n",
       "  <thead>\n",
       "    <tr style=\"text-align: right;\">\n",
       "      <th></th>\n",
       "      <th>features</th>\n",
       "      <th>coefs</th>\n",
       "    </tr>\n",
       "  </thead>\n",
       "  <tbody>\n",
       "    <tr>\n",
       "      <th>1</th>\n",
       "      <td>ZN</td>\n",
       "      <td>4.737810e-02</td>\n",
       "    </tr>\n",
       "    <tr>\n",
       "      <th>2</th>\n",
       "      <td>INDUS</td>\n",
       "      <td>7.947644e-03</td>\n",
       "    </tr>\n",
       "    <tr>\n",
       "      <th>5</th>\n",
       "      <td>RM</td>\n",
       "      <td>6.320733e+00</td>\n",
       "    </tr>\n",
       "    <tr>\n",
       "      <th>6</th>\n",
       "      <td>AGE</td>\n",
       "      <td>1.669263e-01</td>\n",
       "    </tr>\n",
       "    <tr>\n",
       "      <th>9</th>\n",
       "      <td>TAX</td>\n",
       "      <td>1.015159e-01</td>\n",
       "    </tr>\n",
       "    <tr>\n",
       "      <th>10</th>\n",
       "      <td>PTRATIO</td>\n",
       "      <td>-2.278214e-01</td>\n",
       "    </tr>\n",
       "    <tr>\n",
       "      <th>11</th>\n",
       "      <td>B</td>\n",
       "      <td>4.913165e-03</td>\n",
       "    </tr>\n",
       "    <tr>\n",
       "      <th>12</th>\n",
       "      <td>LSTAT</td>\n",
       "      <td>-9.237528e-01</td>\n",
       "    </tr>\n",
       "    <tr>\n",
       "      <th>13</th>\n",
       "      <td>RAD_PTRATIO</td>\n",
       "      <td>-5.213428e-02</td>\n",
       "    </tr>\n",
       "    <tr>\n",
       "      <th>14</th>\n",
       "      <td>RM_AGE</td>\n",
       "      <td>1.876006e-03</td>\n",
       "    </tr>\n",
       "    <tr>\n",
       "      <th>15</th>\n",
       "      <td>DIS_NOX</td>\n",
       "      <td>-2.236220e+00</td>\n",
       "    </tr>\n",
       "    <tr>\n",
       "      <th>16</th>\n",
       "      <td>RAD_TAX</td>\n",
       "      <td>-1.840965e-04</td>\n",
       "    </tr>\n",
       "    <tr>\n",
       "      <th>17</th>\n",
       "      <td>LSTAT_PTRATIO</td>\n",
       "      <td>3.870987e-02</td>\n",
       "    </tr>\n",
       "    <tr>\n",
       "      <th>18</th>\n",
       "      <td>ZN_INDUS</td>\n",
       "      <td>3.369966e-02</td>\n",
       "    </tr>\n",
       "    <tr>\n",
       "      <th>19</th>\n",
       "      <td>RM_TAX</td>\n",
       "      <td>-1.921614e-02</td>\n",
       "    </tr>\n",
       "    <tr>\n",
       "      <th>20</th>\n",
       "      <td>AGE_PTRATIO</td>\n",
       "      <td>-1.178351e-02</td>\n",
       "    </tr>\n",
       "    <tr>\n",
       "      <th>21</th>\n",
       "      <td>CRIM_LSTAT</td>\n",
       "      <td>1.865522e-02</td>\n",
       "    </tr>\n",
       "    <tr>\n",
       "      <th>23</th>\n",
       "      <td>CRIM_TAX</td>\n",
       "      <td>-2.349086e-04</td>\n",
       "    </tr>\n",
       "    <tr>\n",
       "      <th>24</th>\n",
       "      <td>CRIM_TAX_CRIM_ZN</td>\n",
       "      <td>-1.450181e-03</td>\n",
       "    </tr>\n",
       "    <tr>\n",
       "      <th>25</th>\n",
       "      <td>RM_TAX_ZN_INDUS</td>\n",
       "      <td>1.709215e-05</td>\n",
       "    </tr>\n",
       "    <tr>\n",
       "      <th>26</th>\n",
       "      <td>ZN_INDUS_DIS_NOX</td>\n",
       "      <td>-4.936812e-03</td>\n",
       "    </tr>\n",
       "    <tr>\n",
       "      <th>27</th>\n",
       "      <td>CRIM_LSTAT_DIS_NOX</td>\n",
       "      <td>1.271839e-02</td>\n",
       "    </tr>\n",
       "    <tr>\n",
       "      <th>28</th>\n",
       "      <td>CRIM_ZN_DIS_NOX</td>\n",
       "      <td>9.901943e-02</td>\n",
       "    </tr>\n",
       "    <tr>\n",
       "      <th>29</th>\n",
       "      <td>RAD_PTRATIO_RAD_TAX</td>\n",
       "      <td>2.414189e-06</td>\n",
       "    </tr>\n",
       "    <tr>\n",
       "      <th>30</th>\n",
       "      <td>LSTAT_PTRATIO_RAD_TAX</td>\n",
       "      <td>-2.765394e-06</td>\n",
       "    </tr>\n",
       "    <tr>\n",
       "      <th>31</th>\n",
       "      <td>ZN_INDUS_RAD_TAX</td>\n",
       "      <td>-7.724476e-06</td>\n",
       "    </tr>\n",
       "    <tr>\n",
       "      <th>32</th>\n",
       "      <td>CRIM_LSTAT_RAD_TAX</td>\n",
       "      <td>1.831982e-06</td>\n",
       "    </tr>\n",
       "    <tr>\n",
       "      <th>33</th>\n",
       "      <td>CRIM_TAX_RAD_TAX</td>\n",
       "      <td>-7.599388e-08</td>\n",
       "    </tr>\n",
       "    <tr>\n",
       "      <th>41</th>\n",
       "      <td>CRIM=LSTAT</td>\n",
       "      <td>7.848264e+00</td>\n",
       "    </tr>\n",
       "    <tr>\n",
       "      <th>43</th>\n",
       "      <td>ZN_INDUS+DIS_NOX</td>\n",
       "      <td>-2.023923e-02</td>\n",
       "    </tr>\n",
       "    <tr>\n",
       "      <th>44</th>\n",
       "      <td>CRIM_LSTAT+DIS_NOX</td>\n",
       "      <td>3.834025e-02</td>\n",
       "    </tr>\n",
       "    <tr>\n",
       "      <th>51</th>\n",
       "      <td>RAD*PTRATIO</td>\n",
       "      <td>3.159495e-01</td>\n",
       "    </tr>\n",
       "    <tr>\n",
       "      <th>52</th>\n",
       "      <td>RM*AGE</td>\n",
       "      <td>2.107896e-01</td>\n",
       "    </tr>\n",
       "    <tr>\n",
       "      <th>54</th>\n",
       "      <td>RAD*TAX</td>\n",
       "      <td>1.899078e-01</td>\n",
       "    </tr>\n",
       "    <tr>\n",
       "      <th>55</th>\n",
       "      <td>LSTAT*PTRATIO</td>\n",
       "      <td>-1.971531e-02</td>\n",
       "    </tr>\n",
       "    <tr>\n",
       "      <th>56</th>\n",
       "      <td>RM*TAX</td>\n",
       "      <td>6.219488e+00</td>\n",
       "    </tr>\n",
       "    <tr>\n",
       "      <th>57</th>\n",
       "      <td>AGE*PTRATIO</td>\n",
       "      <td>-2.434595e-02</td>\n",
       "    </tr>\n",
       "    <tr>\n",
       "      <th>59</th>\n",
       "      <td>CRIM*TAX</td>\n",
       "      <td>-2.669741e-01</td>\n",
       "    </tr>\n",
       "    <tr>\n",
       "      <th>63</th>\n",
       "      <td>RAD_PTRATIO*RAD_TAX</td>\n",
       "      <td>5.206843e-02</td>\n",
       "    </tr>\n",
       "    <tr>\n",
       "      <th>64</th>\n",
       "      <td>LSTAT_PTRATIO*RAD_TAX</td>\n",
       "      <td>4.948324e-03</td>\n",
       "    </tr>\n",
       "    <tr>\n",
       "      <th>65</th>\n",
       "      <td>ZN_INDUS*RAD_TAX</td>\n",
       "      <td>-4.510205e-02</td>\n",
       "    </tr>\n",
       "    <tr>\n",
       "      <th>66</th>\n",
       "      <td>CRIM_LSTAT*RAD_TAX</td>\n",
       "      <td>-6.297625e-02</td>\n",
       "    </tr>\n",
       "    <tr>\n",
       "      <th>67</th>\n",
       "      <td>CRIM_TAX*RAD_TAX</td>\n",
       "      <td>-2.462478e-05</td>\n",
       "    </tr>\n",
       "  </tbody>\n",
       "</table>\n",
       "</div>"
      ],
      "text/plain": [
       "                 features         coefs\n",
       "1                      ZN  4.737810e-02\n",
       "2                   INDUS  7.947644e-03\n",
       "5                      RM  6.320733e+00\n",
       "6                     AGE  1.669263e-01\n",
       "9                     TAX  1.015159e-01\n",
       "10                PTRATIO -2.278214e-01\n",
       "11                      B  4.913165e-03\n",
       "12                  LSTAT -9.237528e-01\n",
       "13            RAD_PTRATIO -5.213428e-02\n",
       "14                 RM_AGE  1.876006e-03\n",
       "15                DIS_NOX -2.236220e+00\n",
       "16                RAD_TAX -1.840965e-04\n",
       "17          LSTAT_PTRATIO  3.870987e-02\n",
       "18               ZN_INDUS  3.369966e-02\n",
       "19                 RM_TAX -1.921614e-02\n",
       "20            AGE_PTRATIO -1.178351e-02\n",
       "21             CRIM_LSTAT  1.865522e-02\n",
       "23               CRIM_TAX -2.349086e-04\n",
       "24       CRIM_TAX_CRIM_ZN -1.450181e-03\n",
       "25        RM_TAX_ZN_INDUS  1.709215e-05\n",
       "26       ZN_INDUS_DIS_NOX -4.936812e-03\n",
       "27     CRIM_LSTAT_DIS_NOX  1.271839e-02\n",
       "28        CRIM_ZN_DIS_NOX  9.901943e-02\n",
       "29    RAD_PTRATIO_RAD_TAX  2.414189e-06\n",
       "30  LSTAT_PTRATIO_RAD_TAX -2.765394e-06\n",
       "31       ZN_INDUS_RAD_TAX -7.724476e-06\n",
       "32     CRIM_LSTAT_RAD_TAX  1.831982e-06\n",
       "33       CRIM_TAX_RAD_TAX -7.599388e-08\n",
       "41             CRIM=LSTAT  7.848264e+00\n",
       "43       ZN_INDUS+DIS_NOX -2.023923e-02\n",
       "44     CRIM_LSTAT+DIS_NOX  3.834025e-02\n",
       "51            RAD*PTRATIO  3.159495e-01\n",
       "52                 RM*AGE  2.107896e-01\n",
       "54                RAD*TAX  1.899078e-01\n",
       "55          LSTAT*PTRATIO -1.971531e-02\n",
       "56                 RM*TAX  6.219488e+00\n",
       "57            AGE*PTRATIO -2.434595e-02\n",
       "59               CRIM*TAX -2.669741e-01\n",
       "63    RAD_PTRATIO*RAD_TAX  5.206843e-02\n",
       "64  LSTAT_PTRATIO*RAD_TAX  4.948324e-03\n",
       "65       ZN_INDUS*RAD_TAX -4.510205e-02\n",
       "66     CRIM_LSTAT*RAD_TAX -6.297625e-02\n",
       "67       CRIM_TAX*RAD_TAX -2.462478e-05"
      ]
     },
     "execution_count": 34,
     "metadata": {},
     "output_type": "execute_result"
    }
   ],
   "source": [
    "pd.DataFrame({'features':df_train.drop(['target'], axis = 1).columns,\n",
    "             'coefs':lasso.coef_}).query('coefs!=0')"
   ]
  },
  {
   "cell_type": "code",
   "execution_count": 35,
   "metadata": {},
   "outputs": [],
   "source": [
    "preds_train = lasso.predict(x_train)\n",
    "preds_test = lasso.predict(x_test)"
   ]
  },
  {
   "cell_type": "code",
   "execution_count": 36,
   "metadata": {},
   "outputs": [],
   "source": [
    "mse_train = mean_squared_error(preds_train, y_train)\n",
    "mse_test = mean_squared_error(preds_test, y_test)"
   ]
  },
  {
   "cell_type": "code",
   "execution_count": 37,
   "metadata": {},
   "outputs": [
    {
     "name": "stdout",
     "output_type": "stream",
     "text": [
      "train_metric  3.5247095932518415\n",
      "test_metric  2.9176706002134463\n"
     ]
    }
   ],
   "source": [
    "print('train_metric ', (mse_train)**(1/2))\n",
    "print('test_metric ', (mse_test)**(1/2))"
   ]
  },
  {
   "cell_type": "code",
   "execution_count": 38,
   "metadata": {},
   "outputs": [],
   "source": [
    "ridge = Ridge(alpha = 0.0001)"
   ]
  },
  {
   "cell_type": "code",
   "execution_count": 39,
   "metadata": {},
   "outputs": [
    {
     "name": "stderr",
     "output_type": "stream",
     "text": [
      "C:\\anaconda3\\lib\\site-packages\\sklearn\\linear_model\\_ridge.py:147: LinAlgWarning: Ill-conditioned matrix (rcond=2.28721e-23): result may not be accurate.\n",
      "  return linalg.solve(A, Xy, sym_pos=True,\n"
     ]
    },
    {
     "data": {
      "text/plain": [
       "Ridge(alpha=0.0001)"
      ]
     },
     "execution_count": 39,
     "metadata": {},
     "output_type": "execute_result"
    }
   ],
   "source": [
    "ridge.fit(x_train, y_train)"
   ]
  },
  {
   "cell_type": "code",
   "execution_count": 40,
   "metadata": {},
   "outputs": [
    {
     "data": {
      "text/plain": [
       "array([-1.60077136e+00,  3.71767010e-02, -3.71748991e-02,  5.17021424e-01,\n",
       "        2.99757770e+01,  7.81577857e+00, -1.66469883e+00,  3.20256076e+01,\n",
       "       -1.33819174e+01,  1.03385299e-01, -4.90902384e-01,  5.66541994e-03,\n",
       "        1.74731000e+01,  3.46699175e-01, -2.68919958e-02, -4.05685969e+01,\n",
       "        6.43157379e-04, -4.75470035e-01, -2.94233397e-02, -1.97526799e-02,\n",
       "        4.77335735e-02, -1.68758346e-01, -4.80084010e-01,  1.27973960e-02,\n",
       "        3.70241191e-03,  2.37584481e-05,  3.60736317e-03,  1.03335402e-01,\n",
       "        1.70916553e-01,  6.11144778e-06, -3.14143120e-06, -9.99549589e-06,\n",
       "        9.43932753e-06, -6.34131541e-07,  2.28257954e+02, -2.84780013e+00,\n",
       "       -6.71574179e+00, -1.83436790e+02, -1.55605428e+02,  8.18914331e+01,\n",
       "        1.61998226e+01,  1.26238754e+01, -9.34758736e+00,  3.06747929e-02,\n",
       "        1.21003352e-01, -1.24431036e+00,  8.54203164e+01, -9.77111426e+00,\n",
       "        1.17341945e-01,  1.04960118e+02, -5.98923849e+00,  1.86604384e+00,\n",
       "       -9.14167157e-02, -9.57915618e-02, -1.33819171e+01,  1.33896585e-02,\n",
       "        7.81577805e+00, -4.15935819e-02, -4.82466301e-04, -1.60077123e+00,\n",
       "        4.05643277e-01,  5.12836287e-01,  3.03321833e-01,  3.46857531e-01,\n",
       "       -2.67649741e-04, -2.94596815e-02, -1.68741071e-01, -1.46064436e-04])"
      ]
     },
     "execution_count": 40,
     "metadata": {},
     "output_type": "execute_result"
    }
   ],
   "source": [
    "ridge.coef_"
   ]
  },
  {
   "cell_type": "code",
   "execution_count": 41,
   "metadata": {},
   "outputs": [
    {
     "data": {
      "text/plain": [
       "-71.75229336328053"
      ]
     },
     "execution_count": 41,
     "metadata": {},
     "output_type": "execute_result"
    }
   ],
   "source": [
    "ridge.intercept_"
   ]
  },
  {
   "cell_type": "code",
   "execution_count": 42,
   "metadata": {},
   "outputs": [
    {
     "data": {
      "text/html": [
       "<div>\n",
       "<style scoped>\n",
       "    .dataframe tbody tr th:only-of-type {\n",
       "        vertical-align: middle;\n",
       "    }\n",
       "\n",
       "    .dataframe tbody tr th {\n",
       "        vertical-align: top;\n",
       "    }\n",
       "\n",
       "    .dataframe thead th {\n",
       "        text-align: right;\n",
       "    }\n",
       "</style>\n",
       "<table border=\"1\" class=\"dataframe\">\n",
       "  <thead>\n",
       "    <tr style=\"text-align: right;\">\n",
       "      <th></th>\n",
       "      <th>features</th>\n",
       "      <th>coefs</th>\n",
       "    </tr>\n",
       "  </thead>\n",
       "  <tbody>\n",
       "    <tr>\n",
       "      <th>0</th>\n",
       "      <td>CRIM</td>\n",
       "      <td>-1.600771</td>\n",
       "    </tr>\n",
       "    <tr>\n",
       "      <th>1</th>\n",
       "      <td>ZN</td>\n",
       "      <td>0.037177</td>\n",
       "    </tr>\n",
       "    <tr>\n",
       "      <th>2</th>\n",
       "      <td>INDUS</td>\n",
       "      <td>-0.037175</td>\n",
       "    </tr>\n",
       "    <tr>\n",
       "      <th>3</th>\n",
       "      <td>CHAS</td>\n",
       "      <td>0.517021</td>\n",
       "    </tr>\n",
       "    <tr>\n",
       "      <th>4</th>\n",
       "      <td>NOX</td>\n",
       "      <td>29.975777</td>\n",
       "    </tr>\n",
       "    <tr>\n",
       "      <th>...</th>\n",
       "      <td>...</td>\n",
       "      <td>...</td>\n",
       "    </tr>\n",
       "    <tr>\n",
       "      <th>63</th>\n",
       "      <td>RAD_PTRATIO*RAD_TAX</td>\n",
       "      <td>0.346858</td>\n",
       "    </tr>\n",
       "    <tr>\n",
       "      <th>64</th>\n",
       "      <td>LSTAT_PTRATIO*RAD_TAX</td>\n",
       "      <td>-0.000268</td>\n",
       "    </tr>\n",
       "    <tr>\n",
       "      <th>65</th>\n",
       "      <td>ZN_INDUS*RAD_TAX</td>\n",
       "      <td>-0.029460</td>\n",
       "    </tr>\n",
       "    <tr>\n",
       "      <th>66</th>\n",
       "      <td>CRIM_LSTAT*RAD_TAX</td>\n",
       "      <td>-0.168741</td>\n",
       "    </tr>\n",
       "    <tr>\n",
       "      <th>67</th>\n",
       "      <td>CRIM_TAX*RAD_TAX</td>\n",
       "      <td>-0.000146</td>\n",
       "    </tr>\n",
       "  </tbody>\n",
       "</table>\n",
       "<p>68 rows × 2 columns</p>\n",
       "</div>"
      ],
      "text/plain": [
       "                 features      coefs\n",
       "0                    CRIM  -1.600771\n",
       "1                      ZN   0.037177\n",
       "2                   INDUS  -0.037175\n",
       "3                    CHAS   0.517021\n",
       "4                     NOX  29.975777\n",
       "..                    ...        ...\n",
       "63    RAD_PTRATIO*RAD_TAX   0.346858\n",
       "64  LSTAT_PTRATIO*RAD_TAX  -0.000268\n",
       "65       ZN_INDUS*RAD_TAX  -0.029460\n",
       "66     CRIM_LSTAT*RAD_TAX  -0.168741\n",
       "67       CRIM_TAX*RAD_TAX  -0.000146\n",
       "\n",
       "[68 rows x 2 columns]"
      ]
     },
     "execution_count": 42,
     "metadata": {},
     "output_type": "execute_result"
    }
   ],
   "source": [
    "pd.DataFrame({'features':df_train.drop(['target'], axis = 1).columns,\n",
    "             'coefs':ridge.coef_}).query('coefs!=0')"
   ]
  },
  {
   "cell_type": "code",
   "execution_count": 43,
   "metadata": {},
   "outputs": [],
   "source": [
    "preds_train = ridge.predict(x_train)\n",
    "preds_test = ridge.predict(x_test)"
   ]
  },
  {
   "cell_type": "code",
   "execution_count": 44,
   "metadata": {},
   "outputs": [],
   "source": [
    "mse_train = mean_squared_error(preds_train, y_train)\n",
    "mse_test = mean_squared_error(preds_test, y_test)"
   ]
  },
  {
   "cell_type": "code",
   "execution_count": 45,
   "metadata": {},
   "outputs": [
    {
     "name": "stdout",
     "output_type": "stream",
     "text": [
      "train_metric  3.1482089885660125\n",
      "test_metric  2.602043030075893\n"
     ]
    }
   ],
   "source": [
    "print('train_metric ', (mse_train)**(1/2))\n",
    "print('test_metric ', (mse_test)**(1/2))"
   ]
  },
  {
   "cell_type": "code",
   "execution_count": 46,
   "metadata": {},
   "outputs": [],
   "source": [
    "el =ElasticNet(alpha = 0.001)"
   ]
  },
  {
   "cell_type": "code",
   "execution_count": 47,
   "metadata": {},
   "outputs": [
    {
     "name": "stderr",
     "output_type": "stream",
     "text": [
      "C:\\anaconda3\\lib\\site-packages\\sklearn\\linear_model\\_coordinate_descent.py:529: ConvergenceWarning: Objective did not converge. You might want to increase the number of iterations. Duality gap: 2382.0197183386013, tolerance: 3.775355079069768\n",
      "  model = cd_fast.enet_coordinate_descent(\n"
     ]
    },
    {
     "data": {
      "text/plain": [
       "ElasticNet(alpha=0.001)"
      ]
     },
     "execution_count": 47,
     "metadata": {},
     "output_type": "execute_result"
    }
   ],
   "source": [
    "el.fit(x_train, y_train)"
   ]
  },
  {
   "cell_type": "code",
   "execution_count": 48,
   "metadata": {},
   "outputs": [
    {
     "data": {
      "text/plain": [
       "array([-4.67429080e-01,  2.72622571e-02,  2.23945647e-02,  7.24513202e-01,\n",
       "       -4.42993290e+00,  7.36749266e+00, -1.87172545e-01,  1.34407800e+00,\n",
       "        5.72690875e-01,  1.00709985e-01, -1.32020934e-01,  6.26590906e-03,\n",
       "       -7.92926251e-01, -6.20291037e-02, -3.10216338e-02, -5.10749475e+00,\n",
       "        4.71879307e-04,  5.10751281e-02, -5.72886358e-03, -2.01125691e-02,\n",
       "        2.30672032e-03,  2.41559277e-02, -9.53300706e-01,  9.15402143e-06,\n",
       "        1.52096436e-03,  1.65840774e-05,  3.34228811e-03,  1.19006882e-02,\n",
       "        2.87034733e-01,  1.78460426e-06, -2.72143586e-06, -6.37425632e-06,\n",
       "        3.78196356e-07, -2.98390445e-08,  1.21922629e+00, -1.86519467e+00,\n",
       "       -2.03980325e-01,  0.00000000e+00, -2.06159496e+00,  0.00000000e+00,\n",
       "        5.11108469e+00,  1.43743345e+01,  0.00000000e+00,  1.87372544e-02,\n",
       "        2.26874489e-02, -5.54796203e-02,  6.48719253e-01, -4.61057177e+00,\n",
       "       -1.95713375e-01, -0.00000000e+00, -1.78349870e+00,  1.25670553e-01,\n",
       "        1.79678163e-01,  5.93830856e-01, -2.47532621e-01,  4.08384214e-02,\n",
       "        8.48218177e+00, -4.18239851e-02,  7.12356714e-02, -8.99193871e-01,\n",
       "        3.95454788e-01,  3.46306790e-01,  2.74669779e-01,  3.94209942e-02,\n",
       "       -9.94820795e-04, -4.12685568e-02, -2.12997701e-02, -3.43063596e-05])"
      ]
     },
     "execution_count": 48,
     "metadata": {},
     "output_type": "execute_result"
    }
   ],
   "source": [
    "el.coef_"
   ]
  },
  {
   "cell_type": "code",
   "execution_count": 49,
   "metadata": {},
   "outputs": [
    {
     "data": {
      "text/plain": [
       "-57.438235672523035"
      ]
     },
     "execution_count": 49,
     "metadata": {},
     "output_type": "execute_result"
    }
   ],
   "source": [
    "el.intercept_"
   ]
  },
  {
   "cell_type": "code",
   "execution_count": 50,
   "metadata": {},
   "outputs": [
    {
     "data": {
      "text/html": [
       "<div>\n",
       "<style scoped>\n",
       "    .dataframe tbody tr th:only-of-type {\n",
       "        vertical-align: middle;\n",
       "    }\n",
       "\n",
       "    .dataframe tbody tr th {\n",
       "        vertical-align: top;\n",
       "    }\n",
       "\n",
       "    .dataframe thead th {\n",
       "        text-align: right;\n",
       "    }\n",
       "</style>\n",
       "<table border=\"1\" class=\"dataframe\">\n",
       "  <thead>\n",
       "    <tr style=\"text-align: right;\">\n",
       "      <th></th>\n",
       "      <th>features</th>\n",
       "      <th>coefs</th>\n",
       "    </tr>\n",
       "  </thead>\n",
       "  <tbody>\n",
       "    <tr>\n",
       "      <th>0</th>\n",
       "      <td>CRIM</td>\n",
       "      <td>-1.600771</td>\n",
       "    </tr>\n",
       "    <tr>\n",
       "      <th>1</th>\n",
       "      <td>ZN</td>\n",
       "      <td>0.037177</td>\n",
       "    </tr>\n",
       "    <tr>\n",
       "      <th>2</th>\n",
       "      <td>INDUS</td>\n",
       "      <td>-0.037175</td>\n",
       "    </tr>\n",
       "    <tr>\n",
       "      <th>3</th>\n",
       "      <td>CHAS</td>\n",
       "      <td>0.517021</td>\n",
       "    </tr>\n",
       "    <tr>\n",
       "      <th>4</th>\n",
       "      <td>NOX</td>\n",
       "      <td>29.975777</td>\n",
       "    </tr>\n",
       "    <tr>\n",
       "      <th>...</th>\n",
       "      <td>...</td>\n",
       "      <td>...</td>\n",
       "    </tr>\n",
       "    <tr>\n",
       "      <th>63</th>\n",
       "      <td>RAD_PTRATIO*RAD_TAX</td>\n",
       "      <td>0.346858</td>\n",
       "    </tr>\n",
       "    <tr>\n",
       "      <th>64</th>\n",
       "      <td>LSTAT_PTRATIO*RAD_TAX</td>\n",
       "      <td>-0.000268</td>\n",
       "    </tr>\n",
       "    <tr>\n",
       "      <th>65</th>\n",
       "      <td>ZN_INDUS*RAD_TAX</td>\n",
       "      <td>-0.029460</td>\n",
       "    </tr>\n",
       "    <tr>\n",
       "      <th>66</th>\n",
       "      <td>CRIM_LSTAT*RAD_TAX</td>\n",
       "      <td>-0.168741</td>\n",
       "    </tr>\n",
       "    <tr>\n",
       "      <th>67</th>\n",
       "      <td>CRIM_TAX*RAD_TAX</td>\n",
       "      <td>-0.000146</td>\n",
       "    </tr>\n",
       "  </tbody>\n",
       "</table>\n",
       "<p>68 rows × 2 columns</p>\n",
       "</div>"
      ],
      "text/plain": [
       "                 features      coefs\n",
       "0                    CRIM  -1.600771\n",
       "1                      ZN   0.037177\n",
       "2                   INDUS  -0.037175\n",
       "3                    CHAS   0.517021\n",
       "4                     NOX  29.975777\n",
       "..                    ...        ...\n",
       "63    RAD_PTRATIO*RAD_TAX   0.346858\n",
       "64  LSTAT_PTRATIO*RAD_TAX  -0.000268\n",
       "65       ZN_INDUS*RAD_TAX  -0.029460\n",
       "66     CRIM_LSTAT*RAD_TAX  -0.168741\n",
       "67       CRIM_TAX*RAD_TAX  -0.000146\n",
       "\n",
       "[68 rows x 2 columns]"
      ]
     },
     "execution_count": 50,
     "metadata": {},
     "output_type": "execute_result"
    }
   ],
   "source": [
    "pd.DataFrame({'features':df_train.drop(['target'], axis = 1).columns,\n",
    "             'coefs':ridge.coef_}).query('coefs!=0')"
   ]
  },
  {
   "cell_type": "code",
   "execution_count": 51,
   "metadata": {},
   "outputs": [],
   "source": [
    "preds_train = el.predict(x_train)\n",
    "preds_test = el.predict(x_test)"
   ]
  },
  {
   "cell_type": "code",
   "execution_count": 52,
   "metadata": {},
   "outputs": [],
   "source": [
    "mse_train = mean_squared_error(preds_train, y_train)\n",
    "mse_test = mean_squared_error(preds_test, y_test)"
   ]
  },
  {
   "cell_type": "code",
   "execution_count": 53,
   "metadata": {},
   "outputs": [
    {
     "name": "stdout",
     "output_type": "stream",
     "text": [
      "train_metric  3.2848028463549306\n",
      "test_metric  2.7908386774424523\n"
     ]
    }
   ],
   "source": [
    "print('train_metric ', (mse_train)**(1/2))\n",
    "print('test_metric ', (mse_test)**(1/2))"
   ]
  },
  {
   "cell_type": "code",
   "execution_count": 54,
   "metadata": {},
   "outputs": [
    {
     "data": {
      "text/plain": [
       "461    17.7\n",
       "Name: target, dtype: float64"
      ]
     },
     "execution_count": 54,
     "metadata": {},
     "output_type": "execute_result"
    }
   ],
   "source": [
    "y_test[2:3]"
   ]
  },
  {
   "cell_type": "code",
   "execution_count": 55,
   "metadata": {},
   "outputs": [
    {
     "data": {
      "text/plain": [
       "array([17.54857286])"
      ]
     },
     "execution_count": 55,
     "metadata": {},
     "output_type": "execute_result"
    }
   ],
   "source": [
    "lr.predict(x_test[2:3])"
   ]
  },
  {
   "cell_type": "raw",
   "metadata": {},
   "source": [
    "MSE\n",
    "LinearRegression\n",
    "train_metric  3.1236017439468435\n",
    "test_metric  2.6714077230157494\n",
    "Lasso\n",
    "train_metric  3.5247095932518415\n",
    "test_metric  2.9176706002134463\n",
    "Ridge\n",
    "train_metric  3.1482089885660125\n",
    "test_metric  2.602043030075893\n",
    "ElasticNet\n",
    "train_metric  3.2848028463549306\n",
    "test_metric  2.7908386774424523\n",
    "\n",
    "В ходе иследования у модели Ridge лучшие показатели метрики"
   ]
  }
 ],
 "metadata": {
  "kernelspec": {
   "display_name": "Python 3",
   "language": "python",
   "name": "python3"
  },
  "language_info": {
   "codemirror_mode": {
    "name": "ipython",
    "version": 3
   },
   "file_extension": ".py",
   "mimetype": "text/x-python",
   "name": "python",
   "nbconvert_exporter": "python",
   "pygments_lexer": "ipython3",
   "version": "3.8.5"
  }
 },
 "nbformat": 4,
 "nbformat_minor": 4
}
