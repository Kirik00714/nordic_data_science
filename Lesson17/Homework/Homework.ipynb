{
 "cells": [
  {
   "cell_type": "markdown",
   "metadata": {},
   "source": [
    "#  Задание\n",
    "1. Создать таблицу в базе film_table_ВашаФамилия\n",
    "2. Опеределить необходимые столбцы\n",
    "3. Загруть в таблицу данные с сайта https://lostfilm.info/top250/\n",
    "4. С помощью SQL найти лучший старый и худший новый фильм"
   ]
  },
  {
   "cell_type": "code",
   "execution_count": 3,
   "metadata": {},
   "outputs": [],
   "source": [
    "import requests\n",
    "from bs4 import BeautifulSoup\n",
    "import numpy as np\n",
    "import pandas as pd\n",
    "import pymysql"
   ]
  },
  {
   "cell_type": "code",
   "execution_count": 4,
   "metadata": {},
   "outputs": [],
   "source": [
    "db_conn = pymysql.connect(host='139.162.170.240',\n",
    "                         user='nordic',\n",
    "                         passwd ='password0',\n",
    "                         db='nordicDB')\n",
    "\n",
    "cursor = db_conn.cursor()"
   ]
  },
  {
   "cell_type": "code",
   "execution_count": 5,
   "metadata": {},
   "outputs": [],
   "source": [
    "def get_html(url: str) -> str:\n",
    "    responce = requests.get(url)\n",
    "    if responce.status_code == 200:\n",
    "        return responce.text\n",
    "    else:\n",
    "        return None"
   ]
  },
  {
   "cell_type": "code",
   "execution_count": 6,
   "metadata": {},
   "outputs": [],
   "source": [
    "url = 'https://lostfilm.info/top250/'"
   ]
  },
  {
   "cell_type": "code",
   "execution_count": 7,
   "metadata": {},
   "outputs": [],
   "source": [
    "html = get_html(url)\n",
    "\n",
    "if not html is None:\n",
    "    soup = BeautifulSoup(html)\n",
    "else:\n",
    "    print('Страница не загрузилась')"
   ]
  },
  {
   "cell_type": "code",
   "execution_count": 8,
   "metadata": {},
   "outputs": [],
   "source": [
    "lst_image = []\n",
    "lst_name_film = []\n",
    "lst_year_film = []\n",
    "lst_rating = []\n",
    "for i in range(0,250):\n",
    "    lst_image.append(\"http://lostfilm.info/\"+soup.find_all('div', class_ = 'cover-container')[i].find('img').get('src'))\n",
    "for i in range(5,255):\n",
    "    lst_name_film.append(soup.find_all('a')[i].text)\n",
    "for i in range(6,1004,4):\n",
    "    lst_year_film.append(soup.find_all('td')[i].text)\n",
    "for i in range(7,1005,4):\n",
    "    lst_rating.append(soup.find_all('td')[i].text)\n",
    "data = {'image' : lst_image,\n",
    "       'name_film' : lst_name_film,\n",
    "       'year_film' : lst_year_film,\n",
    "       'rating' : lst_rating}"
   ]
  },
  {
   "cell_type": "code",
   "execution_count": 9,
   "metadata": {},
   "outputs": [],
   "source": [
    "df = pd.DataFrame(data)"
   ]
  },
  {
   "cell_type": "code",
   "execution_count": 10,
   "metadata": {},
   "outputs": [],
   "source": [
    "query = \"\"\"\n",
    "    CREATE TABLE film_table_Balaev_K\n",
    "    ( \n",
    "         Image TEXT NOT NULL, \n",
    "         Name_film TEXT NOT NULL, \n",
    "         Year TEXT NOT NULL,  \n",
    "         Rating TEXT NOT NULL\n",
    "         \n",
    "    );\n",
    "\"\"\"\n",
    "\n",
    "cursor.execute(query)\n",
    "db_conn.commit()"
   ]
  },
  {
   "cell_type": "code",
   "execution_count": 11,
   "metadata": {},
   "outputs": [],
   "source": [
    "query = \"\"\"\n",
    "    INSERT INTO film_table_Balaev_K(\n",
    "                Image, Name_film, Year, Rating\n",
    "                ) VALUES\n",
    "    (%s, %s, %s, %s)\n",
    "\"\"\"\n",
    "for row in df.iterrows():\n",
    "#     print(tuple(row[1]))\n",
    "# #     tpl = tuple(row[1])\n",
    "    cursor.execute(query, tuple(row[1]))"
   ]
  },
  {
   "cell_type": "code",
   "execution_count": 12,
   "metadata": {},
   "outputs": [
    {
     "data": {
      "text/plain": [
       "250"
      ]
     },
     "execution_count": 12,
     "metadata": {},
     "output_type": "execute_result"
    }
   ],
   "source": [
    "cursor.execute(\"SELECT * FROM film_table_Balaev_K\")"
   ]
  },
  {
   "cell_type": "code",
   "execution_count": 74,
   "metadata": {},
   "outputs": [
    {
     "data": {
      "text/plain": [
       "(('http://lostfilm.info//images/40movies/106/1053109.jpg',\n",
       "  'Суд над чикагской семеркой',\n",
       "  '2020',\n",
       "  '7.80'),)"
      ]
     },
     "execution_count": 74,
     "metadata": {},
     "output_type": "execute_result"
    }
   ],
   "source": [
    "query = \"\"\"\n",
    "    with film_max as (\n",
    "        SELECT \n",
    "            max(Year) \n",
    "        FROM film_table_Balaev_K\n",
    "    )\n",
    "    \n",
    "    , film as (\n",
    "        SELECT *\n",
    "        FROM film_table_Balaev_K\n",
    "            WHERE \n",
    "            film_table_Balaev_K.Year = (SELECT * FROM film_max)\n",
    "\n",
    "    )\n",
    "    , rat_min as (\n",
    "        SELECT \n",
    "            min(Rating) \n",
    "        FROM film\n",
    "    )\n",
    "    \n",
    "    SELECT * \n",
    "    FROM film\n",
    "        WHERE \n",
    "            film.Rating = (SELECT * FROM rat_min)\n",
    "        \n",
    "    \n",
    "  \n",
    "\"\"\"\n",
    "\n",
    "cursor.execute(query)\n",
    "cursor.fetchall()"
   ]
  },
  {
   "cell_type": "code",
   "execution_count": 75,
   "metadata": {},
   "outputs": [
    {
     "data": {
      "text/plain": [
       "(('http://lostfilm.info//images/40movies/4/31304.jpg',\n",
       "  'Унесенные ветром',\n",
       "  '1939',\n",
       "  '8.20'),)"
      ]
     },
     "execution_count": 75,
     "metadata": {},
     "output_type": "execute_result"
    }
   ],
   "source": [
    "query = \"\"\"\n",
    "    with film_min as (\n",
    "        SELECT \n",
    "            min(Year) \n",
    "        FROM film_table_Balaev_K\n",
    "    )\n",
    "    \n",
    "    , film as (\n",
    "        SELECT *\n",
    "        FROM film_table_Balaev_K\n",
    "            WHERE \n",
    "            film_table_Balaev_K.Year = (SELECT * FROM film_min)\n",
    "\n",
    "    )\n",
    "    , rat_max as (\n",
    "        SELECT \n",
    "            max(Rating) \n",
    "        FROM film\n",
    "    )\n",
    "    \n",
    "    SELECT * \n",
    "    FROM film\n",
    "        WHERE \n",
    "            film.Rating = (SELECT * FROM rat_max)\n",
    "        \n",
    "    \n",
    "  \n",
    "\"\"\"\n",
    "\n",
    "cursor.execute(query)\n",
    "cursor.fetchall()"
   ]
  },
  {
   "cell_type": "code",
   "execution_count": 76,
   "metadata": {},
   "outputs": [],
   "source": [
    "db_conn.close()\n",
    "cursor.close()"
   ]
  },
  {
   "cell_type": "code",
   "execution_count": null,
   "metadata": {},
   "outputs": [],
   "source": []
  }
 ],
 "metadata": {
  "kernelspec": {
   "display_name": "Python 3",
   "language": "python",
   "name": "python3"
  },
  "language_info": {
   "codemirror_mode": {
    "name": "ipython",
    "version": 3
   },
   "file_extension": ".py",
   "mimetype": "text/x-python",
   "name": "python",
   "nbconvert_exporter": "python",
   "pygments_lexer": "ipython3",
   "version": "3.8.5"
  }
 },
 "nbformat": 4,
 "nbformat_minor": 2
}
