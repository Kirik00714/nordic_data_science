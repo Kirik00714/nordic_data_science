{
 "cells": [
  {
   "cell_type": "markdown",
   "metadata": {},
   "source": [
    "## Задача 1\n",
    "Напишите программу, которая:\n",
    "1. Считывает числа из консоли в цикле\n",
    "2. После каждого считывания добавляет число в список lst\n",
    "3. Суммирует все числа в списке\n",
    "4. Если сумма больше 300 прекращает работу и выводит на экран сообщение \"сумма = \", \"количество элементов в списке = \""
   ]
  },
  {
   "cell_type": "code",
   "execution_count": 40,
   "metadata": {},
   "outputs": [
    {
     "name": "stdout",
     "output_type": "stream",
     "text": [
      "Введите число: 1\n",
      "Введите число: 24\n",
      "Введите число: 456\n",
      "Сумма: 481, количество элементов в списке: 3\n"
     ]
    }
   ],
   "source": [
    "sum_num = 0\n",
    "list_num = []\n",
    "check = True\n",
    "count = 0\n",
    "while (check == True):\n",
    "    num = int(input(\"Введите число: \"))\n",
    "    list_num.append(num)\n",
    "    sum_num += list_num[count]\n",
    "    count += 1\n",
    "    if sum_num > 300:\n",
    "        print(\"Сумма: \"+ str(sum_num) + \", количество элементов в списке: \"+ str(len(list_num)))\n",
    "        check = False"
   ]
  },
  {
   "cell_type": "markdown",
   "metadata": {},
   "source": [
    "## Задача 2\n",
    "1. Создать список из 1000 элементов\n",
    "2. Суммировать все элементы с помощью цикла и \n",
    "сравнить результат с втроенной стандартной функцией sum()\n",
    "3. Вывести полученный результат"
   ]
  },
  {
   "cell_type": "code",
   "execution_count": 68,
   "metadata": {},
   "outputs": [
    {
     "name": "stdout",
     "output_type": "stream",
     "text": [
      "499500\n",
      "499500\n"
     ]
    }
   ],
   "source": [
    "list_num = [i for i in range(1000)]\n",
    "sum_num = 0\n",
    "for i in list_num:\n",
    "    sum_num += i\n",
    "print(sum_num)\n",
    "\n",
    "print(sum(list_num))"
   ]
  }
 ],
 "metadata": {
  "kernelspec": {
   "display_name": "Python 3",
   "language": "python",
   "name": "python3"
  },
  "language_info": {
   "codemirror_mode": {
    "name": "ipython",
    "version": 3
   },
   "file_extension": ".py",
   "mimetype": "text/x-python",
   "name": "python",
   "nbconvert_exporter": "python",
   "pygments_lexer": "ipython3",
   "version": "3.8.5"
  },
  "pycharm": {
   "stem_cell": {
    "cell_type": "raw",
    "metadata": {
     "collapsed": false
    },
    "source": []
   }
  }
 },
 "nbformat": 4,
 "nbformat_minor": 2
}
