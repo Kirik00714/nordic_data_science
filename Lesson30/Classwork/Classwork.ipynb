{
 "cells": [
  {
   "cell_type": "raw",
   "metadata": {},
   "source": [
    "Задан список словарей: dl = [{'a': 10, 'b': 20, 'c': 1}, {'a': 5, 'b': 10, 'z': 10}, {'a': 3, 'y': 7}] с помощью анонимной функции отсортировать словари по значению, содержащемуся по ключу 'a'"
   ]
  },
  {
   "cell_type": "code",
   "execution_count": 73,
   "metadata": {},
   "outputs": [],
   "source": [
    "dl = [{'a': 10, 'b': 20, 'c': 1}, {'a': 3, 'y': 7}, {'a': 5, 'b': 10, 'z': 10}]"
   ]
  },
  {
   "cell_type": "code",
   "execution_count": 96,
   "metadata": {},
   "outputs": [
    {
     "name": "stdout",
     "output_type": "stream",
     "text": [
      "[{'a': 3, 'y': 7}, {'a': 5, 'b': 10, 'z': 10}, {'a': 10, 'b': 20, 'c': 1}]\n"
     ]
    }
   ],
   "source": [
    "\n",
    "for i in range(len(dl)):\n",
    "    for j in range(i +1, len(dl)):\n",
    "        if dl[i]['a'] > dl[j]['a']:\n",
    "            dl[i], dl[j] = dl[j], dl[i]\n",
    "print(dl)\n"
   ]
  },
  {
   "cell_type": "code",
   "execution_count": 89,
   "metadata": {},
   "outputs": [
    {
     "name": "stdout",
     "output_type": "stream",
     "text": [
      "[{'a': 3, 'y': 7}, {'a': 5, 'b': 10, 'z': 10}, {'a': 10, 'b': 20, 'c': 1}]\n"
     ]
    }
   ],
   "source": [
    "a = [{'a': 5, 'b': 10, 'z': 10}, {'a': 10, 'b': 20, 'c': 1}, {'a': 3, 'y': 7} ]\n",
    "# a = [a[i], a[j] = a[j], a[i] for i in range(len(a)) for j in range(i + 1, len(a)) if a[i]['a'] > a[j]['a']]\n",
    "for i in range(len(a)):\n",
    "    for j in range(i + 1, len(a)):\n",
    "        if a[i]['a'] > a[j]['a']:\n",
    "           a[i], a[j] = a[j], a[i]\n",
    "print(a)"
   ]
  },
  {
   "cell_type": "code",
   "execution_count": 90,
   "metadata": {},
   "outputs": [
    {
     "name": "stdout",
     "output_type": "stream",
     "text": [
      "[{'a': 3, 'y': 7}, {'a': 5, 'b': 10, 'z': 10}, {'a': 10, 'b': 20, 'c': 1}]\n"
     ]
    }
   ],
   "source": [
    "print(sorted(dl, key=lambda x: x['a']))\n"
   ]
  },
  {
   "cell_type": "raw",
   "metadata": {},
   "source": [
    "Создайте программу ввода данных в массив и формирования массива только четных значений."
   ]
  },
  {
   "cell_type": "code",
   "execution_count": 70,
   "metadata": {},
   "outputs": [
    {
     "name": "stdout",
     "output_type": "stream",
     "text": [
      "123 4654 457 89623 23 5 47 78 4 32 5 68 67 88 987  64 36 3 25  25 6 5 27 26 2 57 15 726 26 2\n",
      "[4654, 78, 4, 32, 68, 88, 64, 36, 6, 26, 2, 726, 26, 2]\n"
     ]
    }
   ],
   "source": [
    "arr = map(int, input().split())\n",
    "arr_ = [i for i in arr if i % 2 == 0]\n",
    "print(arr_)"
   ]
  },
  {
   "cell_type": "code",
   "execution_count": null,
   "metadata": {},
   "outputs": [],
   "source": []
  }
 ],
 "metadata": {
  "kernelspec": {
   "display_name": "Python 3",
   "language": "python",
   "name": "python3"
  },
  "language_info": {
   "codemirror_mode": {
    "name": "ipython",
    "version": 3
   },
   "file_extension": ".py",
   "mimetype": "text/x-python",
   "name": "python",
   "nbconvert_exporter": "python",
   "pygments_lexer": "ipython3",
   "version": "3.8.5"
  }
 },
 "nbformat": 4,
 "nbformat_minor": 4
}
