{
 "cells": [
  {
   "cell_type": "markdown",
   "metadata": {},
   "source": [
    "# Задача 1\n",
    "\n",
    "Создать функцию (через `def`), которая принимает на вход два значения - длины противоположных сторон прямоугольника. Возвращать через `return` функция должна площадь прямоугольника. Вызвать функцию с различными значениями длин сторон."
   ]
  },
  {
   "cell_type": "code",
   "execution_count": 3,
   "metadata": {},
   "outputs": [
    {
     "data": {
      "text/plain": [
       "35"
      ]
     },
     "execution_count": 3,
     "metadata": {},
     "output_type": "execute_result"
    }
   ],
   "source": [
    "(lambda a, b : a*b) (5,7)"
   ]
  },
  {
   "cell_type": "code",
   "execution_count": 4,
   "metadata": {},
   "outputs": [
    {
     "data": {
      "text/plain": [
       "12"
      ]
     },
     "execution_count": 4,
     "metadata": {},
     "output_type": "execute_result"
    }
   ],
   "source": [
    "(lambda a, b : a*b) (3,4)"
   ]
  },
  {
   "cell_type": "code",
   "execution_count": 5,
   "metadata": {},
   "outputs": [
    {
     "data": {
      "text/plain": [
       "312"
      ]
     },
     "execution_count": 5,
     "metadata": {},
     "output_type": "execute_result"
    }
   ],
   "source": [
    "(lambda a, b : a*b) (13,24)"
   ]
  },
  {
   "cell_type": "markdown",
   "metadata": {},
   "source": [
    "# Задача 2\n",
    "\n",
    "Создать функцию, принимающую на вход список, содержащий целочисленные элементы. Найдите в списке медиану. Верните значение медианы с помощью `return`. Вызвать функцию несколько раз с различными списками на вход"
   ]
  },
  {
   "cell_type": "markdown",
   "metadata": {},
   "source": [
    "Пример работы\n",
    "\n",
    "`median([1, 1, 2]) => 1`  \n",
    "`median([3, 2, 5, 1, 4]) => 3`  \n",
    "`median([0, 0, 1, 5, 1, 10, 8]) => 1`"
   ]
  },
  {
   "cell_type": "markdown",
   "metadata": {},
   "source": [
    "**Подсказки**  \n",
    "Можно использовать:"
   ]
  },
  {
   "cell_type": "code",
   "execution_count": 69,
   "metadata": {},
   "outputs": [
    {
     "name": "stdout",
     "output_type": "stream",
     "text": [
      "[1, 2, 3, 4, 5]\n"
     ]
    }
   ],
   "source": [
    "lst = [3, 2, 5, 1, 4]\n",
    "lst.sort()\n",
    "print(lst)"
   ]
  },
  {
   "cell_type": "markdown",
   "metadata": {},
   "source": [
    "`Медиана` - это \"середина\" выборки, т.е. в выборке должно быть одинаковое количество значений, меньше или равно и больше или равно, чем медиана. В примере [1, 1, 2] правильный ответ 1, т.к. есть еще одна 1-ца, которая меньше или равна 1-це и 2-ка, которая больше или равна 1-це."
   ]
  },
  {
   "cell_type": "code",
   "execution_count": 8,
   "metadata": {},
   "outputs": [],
   "source": [
    "def median(lst):\n",
    "    lst.sort()\n",
    "    if len(lst) % 2 != 0:\n",
    "        return(lst[len(lst)//2])\n",
    "    else:\n",
    "        num = (lst[(len(lst)//2)-1] + lst[(len(lst)//2)])/2\n",
    "        return(num)"
   ]
  },
  {
   "cell_type": "code",
   "execution_count": 9,
   "metadata": {},
   "outputs": [
    {
     "data": {
      "text/plain": [
       "2.5"
      ]
     },
     "execution_count": 9,
     "metadata": {},
     "output_type": "execute_result"
    }
   ],
   "source": [
    "median([1,3,2,4])"
   ]
  },
  {
   "cell_type": "code",
   "execution_count": 67,
   "metadata": {},
   "outputs": [
    {
     "data": {
      "text/plain": [
       "3"
      ]
     },
     "execution_count": 67,
     "metadata": {},
     "output_type": "execute_result"
    }
   ],
   "source": [
    "median([3, 2, 5, 1, 4])"
   ]
  },
  {
   "cell_type": "code",
   "execution_count": 68,
   "metadata": {},
   "outputs": [
    {
     "data": {
      "text/plain": [
       "1"
      ]
     },
     "execution_count": 68,
     "metadata": {},
     "output_type": "execute_result"
    }
   ],
   "source": [
    "median([0, 0, 1, 5, 1, 10, 8])"
   ]
  },
  {
   "cell_type": "markdown",
   "metadata": {},
   "source": [
    "# Задача 3\n",
    "\n",
    "Создать функцию, на вход ей передать список. Переставить соседние элементы списка местами в случае, если предшествующий элемент БОЛЬШЕ последующего. Вернуть получившийся список с помощью `return`.\n",
    "\n",
    "Пример:\n",
    "\n",
    "вход [3, 1, 2, 4, 6, 1] => результат [1, 3, 2, 4, 1, 6]\n",
    "\n",
    "**Внимание!** Может быть нечетное кол-во элементов в списке!"
   ]
  },
  {
   "cell_type": "code",
   "execution_count": 52,
   "metadata": {},
   "outputs": [],
   "source": [
    "def change_mini(lst_2, lst_1):\n",
    "    for elem in lst_1:\n",
    "        if lst_2[elem] > lst_2[elem + 1]:\n",
    "            lst_2[elem], lst_2[elem + 1] = lst_2[elem + 1], lst_2[elem]\n",
    "    return(lst_2)"
   ]
  },
  {
   "cell_type": "code",
   "execution_count": 55,
   "metadata": {},
   "outputs": [],
   "source": [
    "def change_full(lst):\n",
    "    if len(lst) % 2 == 0:\n",
    "        lst_slice = [num for num in range(len(lst)) if num % 2 == 0]\n",
    "        lst_finally = lst\n",
    "        change_mini(lst_finally, lst_slice)\n",
    "    else:\n",
    "        lst_slice = [num for num in range(len(lst)-1) if num % 2 == 0]\n",
    "        lst_finally = lst[0:len(lst) - 1]\n",
    "        change_mini(lst_finally, lst_slice)\n",
    "        lst_finally.append(lst[-1])\n",
    "    return (lst_finally)"
   ]
  },
  {
   "cell_type": "code",
   "execution_count": 63,
   "metadata": {},
   "outputs": [
    {
     "data": {
      "text/plain": [
       "[1, 3, 2, 4, 1, 6]"
      ]
     },
     "execution_count": 63,
     "metadata": {},
     "output_type": "execute_result"
    }
   ],
   "source": [
    "change([3, 1, 2, 4, 6, 1])"
   ]
  },
  {
   "cell_type": "markdown",
   "metadata": {},
   "source": [
    "# Задача 4*\n",
    "\n",
    "**Внимание!** Решение данной задачи будет принято только в рекурсивном варианте!\n",
    "\n",
    "Есть так называемая последовательность фибоначчи. Пример для первых 10 чисел последовательности:\n",
    "\n",
    "[1, 1, 2, 3, 5, 8, 13, 21, 34, 55]\n",
    "\n",
    "Каждое следующее число последовательности является суммой предыдущих двух:\n",
    "\n",
    "1 + 1 = 2\n",
    "1 + 2 = 3\n",
    "2 + 3 = 5\n",
    "и т.д.\n",
    "\n",
    "**Ваша задача**:\n",
    "\n",
    "Написать функцию, которая на вход принимает одно число - индекс числа фибоначчи в последовательности. А возвращает само число в последовательности, которое стоит по этому индексу.\n",
    "\n",
    "Например, если функция называется fibb, то передав в неё индекс 3, мы должны получить:\n",
    "\n",
    "fibb(3) => 3 (т.к. двойка стоит на 3-м месте последовательности, если считать с нуля)\n",
    "fibb(6) => 13\n",
    "fibb(0) => 1"
   ]
  },
  {
   "cell_type": "code",
   "execution_count": 61,
   "metadata": {},
   "outputs": [],
   "source": [
    "def fibb(index):\n",
    "    num = 1\n",
    "    if index > 1:\n",
    "        num = fibb(index-1) + fibb(index-2)\n",
    "    return(num)"
   ]
  },
  {
   "cell_type": "code",
   "execution_count": 62,
   "metadata": {},
   "outputs": [
    {
     "name": "stdout",
     "output_type": "stream",
     "text": [
      "13\n"
     ]
    }
   ],
   "source": [
    "print(fibb(6))"
   ]
  }
 ],
 "metadata": {
  "kernelspec": {
   "display_name": "Python 3",
   "language": "python",
   "name": "python3"
  },
  "language_info": {
   "codemirror_mode": {
    "name": "ipython",
    "version": 3
   },
   "file_extension": ".py",
   "mimetype": "text/x-python",
   "name": "python",
   "nbconvert_exporter": "python",
   "pygments_lexer": "ipython3",
   "version": "3.8.5"
  }
 },
 "nbformat": 4,
 "nbformat_minor": 2
}
