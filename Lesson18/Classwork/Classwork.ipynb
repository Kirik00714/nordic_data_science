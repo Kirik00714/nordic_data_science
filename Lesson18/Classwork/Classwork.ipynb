{
 "cells": [
  {
   "cell_type": "code",
   "execution_count": 1,
   "metadata": {},
   "outputs": [],
   "source": [
    "import pymysql\n",
    "import csv"
   ]
  },
  {
   "cell_type": "code",
   "execution_count": 41,
   "metadata": {},
   "outputs": [],
   "source": [
    "db_conn = pymysql.connect(host='139.162.170.240',\n",
    "                         user='nordic',\n",
    "                         passwd ='password0',\n",
    "                         db='nordicDB')\n",
    "\n",
    "cursor = db_conn.cursor()"
   ]
  },
  {
   "cell_type": "code",
   "execution_count": 2,
   "metadata": {},
   "outputs": [],
   "source": [
    "# FILE_CSV = 'iris.data'"
   ]
  },
  {
   "cell_type": "code",
   "execution_count": 3,
   "metadata": {},
   "outputs": [],
   "source": [
    "from sklearn.datasets import load_iris\n",
    "import pandas as pd\n",
    "data = load_iris()"
   ]
  },
  {
   "cell_type": "code",
   "execution_count": 16,
   "metadata": {},
   "outputs": [
    {
     "data": {
      "text/plain": [
       "array(['setosa', 'versicolor', 'virginica'], dtype='<U10')"
      ]
     },
     "execution_count": 16,
     "metadata": {},
     "output_type": "execute_result"
    }
   ],
   "source": [
    "data.target_names"
   ]
  },
  {
   "cell_type": "code",
   "execution_count": 5,
   "metadata": {},
   "outputs": [],
   "source": [
    "df = pd.DataFrame(data['data'])"
   ]
  },
  {
   "cell_type": "code",
   "execution_count": 10,
   "metadata": {},
   "outputs": [
    {
     "data": {
      "text/html": [
       "<div>\n",
       "<style scoped>\n",
       "    .dataframe tbody tr th:only-of-type {\n",
       "        vertical-align: middle;\n",
       "    }\n",
       "\n",
       "    .dataframe tbody tr th {\n",
       "        vertical-align: top;\n",
       "    }\n",
       "\n",
       "    .dataframe thead th {\n",
       "        text-align: right;\n",
       "    }\n",
       "</style>\n",
       "<table border=\"1\" class=\"dataframe\">\n",
       "  <thead>\n",
       "    <tr style=\"text-align: right;\">\n",
       "      <th></th>\n",
       "      <th>sepal length (cm)</th>\n",
       "      <th>sepal width (cm)</th>\n",
       "      <th>petal length (cm)</th>\n",
       "      <th>petal width (cm)</th>\n",
       "    </tr>\n",
       "  </thead>\n",
       "  <tbody>\n",
       "    <tr>\n",
       "      <th>0</th>\n",
       "      <td>5.1</td>\n",
       "      <td>3.5</td>\n",
       "      <td>1.4</td>\n",
       "      <td>0.2</td>\n",
       "    </tr>\n",
       "    <tr>\n",
       "      <th>1</th>\n",
       "      <td>4.9</td>\n",
       "      <td>3.0</td>\n",
       "      <td>1.4</td>\n",
       "      <td>0.2</td>\n",
       "    </tr>\n",
       "    <tr>\n",
       "      <th>2</th>\n",
       "      <td>4.7</td>\n",
       "      <td>3.2</td>\n",
       "      <td>1.3</td>\n",
       "      <td>0.2</td>\n",
       "    </tr>\n",
       "    <tr>\n",
       "      <th>3</th>\n",
       "      <td>4.6</td>\n",
       "      <td>3.1</td>\n",
       "      <td>1.5</td>\n",
       "      <td>0.2</td>\n",
       "    </tr>\n",
       "    <tr>\n",
       "      <th>4</th>\n",
       "      <td>5.0</td>\n",
       "      <td>3.6</td>\n",
       "      <td>1.4</td>\n",
       "      <td>0.2</td>\n",
       "    </tr>\n",
       "  </tbody>\n",
       "</table>\n",
       "</div>"
      ],
      "text/plain": [
       "   sepal length (cm)  sepal width (cm)  petal length (cm)  petal width (cm)\n",
       "0                5.1               3.5                1.4               0.2\n",
       "1                4.9               3.0                1.4               0.2\n",
       "2                4.7               3.2                1.3               0.2\n",
       "3                4.6               3.1                1.5               0.2\n",
       "4                5.0               3.6                1.4               0.2"
      ]
     },
     "execution_count": 10,
     "metadata": {},
     "output_type": "execute_result"
    }
   ],
   "source": [
    "df.head()"
   ]
  },
  {
   "cell_type": "code",
   "execution_count": 9,
   "metadata": {},
   "outputs": [],
   "source": [
    "df.columns = data['feature_names']"
   ]
  },
  {
   "cell_type": "code",
   "execution_count": 12,
   "metadata": {},
   "outputs": [],
   "source": [
    "df['target'] = [data.target_names[i] for i in data.target]"
   ]
  },
  {
   "cell_type": "code",
   "execution_count": 13,
   "metadata": {},
   "outputs": [
    {
     "data": {
      "text/html": [
       "<div>\n",
       "<style scoped>\n",
       "    .dataframe tbody tr th:only-of-type {\n",
       "        vertical-align: middle;\n",
       "    }\n",
       "\n",
       "    .dataframe tbody tr th {\n",
       "        vertical-align: top;\n",
       "    }\n",
       "\n",
       "    .dataframe thead th {\n",
       "        text-align: right;\n",
       "    }\n",
       "</style>\n",
       "<table border=\"1\" class=\"dataframe\">\n",
       "  <thead>\n",
       "    <tr style=\"text-align: right;\">\n",
       "      <th></th>\n",
       "      <th>sepal length (cm)</th>\n",
       "      <th>sepal width (cm)</th>\n",
       "      <th>petal length (cm)</th>\n",
       "      <th>petal width (cm)</th>\n",
       "      <th>target</th>\n",
       "    </tr>\n",
       "  </thead>\n",
       "  <tbody>\n",
       "    <tr>\n",
       "      <th>0</th>\n",
       "      <td>5.1</td>\n",
       "      <td>3.5</td>\n",
       "      <td>1.4</td>\n",
       "      <td>0.2</td>\n",
       "      <td>setosa</td>\n",
       "    </tr>\n",
       "    <tr>\n",
       "      <th>1</th>\n",
       "      <td>4.9</td>\n",
       "      <td>3.0</td>\n",
       "      <td>1.4</td>\n",
       "      <td>0.2</td>\n",
       "      <td>setosa</td>\n",
       "    </tr>\n",
       "    <tr>\n",
       "      <th>2</th>\n",
       "      <td>4.7</td>\n",
       "      <td>3.2</td>\n",
       "      <td>1.3</td>\n",
       "      <td>0.2</td>\n",
       "      <td>setosa</td>\n",
       "    </tr>\n",
       "    <tr>\n",
       "      <th>3</th>\n",
       "      <td>4.6</td>\n",
       "      <td>3.1</td>\n",
       "      <td>1.5</td>\n",
       "      <td>0.2</td>\n",
       "      <td>setosa</td>\n",
       "    </tr>\n",
       "    <tr>\n",
       "      <th>4</th>\n",
       "      <td>5.0</td>\n",
       "      <td>3.6</td>\n",
       "      <td>1.4</td>\n",
       "      <td>0.2</td>\n",
       "      <td>setosa</td>\n",
       "    </tr>\n",
       "  </tbody>\n",
       "</table>\n",
       "</div>"
      ],
      "text/plain": [
       "   sepal length (cm)  sepal width (cm)  petal length (cm)  petal width (cm)  \\\n",
       "0                5.1               3.5                1.4               0.2   \n",
       "1                4.9               3.0                1.4               0.2   \n",
       "2                4.7               3.2                1.3               0.2   \n",
       "3                4.6               3.1                1.5               0.2   \n",
       "4                5.0               3.6                1.4               0.2   \n",
       "\n",
       "   target  \n",
       "0  setosa  \n",
       "1  setosa  \n",
       "2  setosa  \n",
       "3  setosa  \n",
       "4  setosa  "
      ]
     },
     "execution_count": 13,
     "metadata": {},
     "output_type": "execute_result"
    }
   ],
   "source": [
    "df.head()"
   ]
  },
  {
   "cell_type": "code",
   "execution_count": 18,
   "metadata": {},
   "outputs": [],
   "source": [
    "query = '''\n",
    "    CREATE TABLE IF NOT EXISTS main_table_Balaev (\n",
    "        ID INT PRIMARY KEY AUTO_INCREMENT,\n",
    "        `sepal_lenght_in_cm` FLOAT NOT NULL,\n",
    "        `sepal_width_in_cm` FLOAT NOT NULL,\n",
    "        `petal_lenght_in_cm` FLOAT NOT NULL,\n",
    "        `petal_width_in_cm` FLOAT,\n",
    "        `class_name` TEXT NOT NULL\n",
    "    )\n",
    "'''\n",
    "cursor.execute(query)\n",
    "db_conn.commit()"
   ]
  },
  {
   "cell_type": "code",
   "execution_count": 32,
   "metadata": {},
   "outputs": [],
   "source": [
    "query = '''\n",
    "    INSERT INTO main_table_Balaev (\n",
    "        `sepal_lenght_in_cm`,\n",
    "        `sepal_width_in_cm`,\n",
    "        `petal_lenght_in_cm`,\n",
    "        `petal_width_in_cm`,\n",
    "        `class_name`)\n",
    "        VALUES(%s,%s,%s,%s,%s)\n",
    "'''\n"
   ]
  },
  {
   "cell_type": "code",
   "execution_count": 33,
   "metadata": {},
   "outputs": [],
   "source": [
    "df.iloc[:, :-1] = df.iloc[:, :-1].astype(float)"
   ]
  },
  {
   "cell_type": "code",
   "execution_count": 34,
   "metadata": {},
   "outputs": [],
   "source": [
    "from tqdm.auto import tqdm"
   ]
  },
  {
   "cell_type": "code",
   "execution_count": 35,
   "metadata": {},
   "outputs": [
    {
     "data": {
      "application/vnd.jupyter.widget-view+json": {
       "model_id": "df19dfd62a3b4b57bedbc78a4ae0bf53",
       "version_major": 2,
       "version_minor": 0
      },
      "text/plain": [
       "HBox(children=(HTML(value=''), FloatProgress(value=0.0, max=150.0), HTML(value='')))"
      ]
     },
     "metadata": {},
     "output_type": "display_data"
    },
    {
     "name": "stdout",
     "output_type": "stream",
     "text": [
      "\n"
     ]
    }
   ],
   "source": [
    "for row in tqdm(df.values):\n",
    "    cursor.execute(query, row.tolist())"
   ]
  },
  {
   "cell_type": "code",
   "execution_count": 36,
   "metadata": {},
   "outputs": [],
   "source": [
    "db_conn.commit()"
   ]
  },
  {
   "cell_type": "code",
   "execution_count": 39,
   "metadata": {
    "collapsed": true
   },
   "outputs": [
    {
     "data": {
      "text/plain": [
       "((1, 5.1, 3.5, 1.4, 0.2, 'setosa'),\n",
       " (2, 4.9, 3.0, 1.4, 0.2, 'setosa'),\n",
       " (3, 4.7, 3.2, 1.3, 0.2, 'setosa'),\n",
       " (4, 4.6, 3.1, 1.5, 0.2, 'setosa'),\n",
       " (5, 5.0, 3.6, 1.4, 0.2, 'setosa'),\n",
       " (6, 5.4, 3.9, 1.7, 0.4, 'setosa'),\n",
       " (7, 4.6, 3.4, 1.4, 0.3, 'setosa'),\n",
       " (8, 5.0, 3.4, 1.5, 0.2, 'setosa'),\n",
       " (9, 4.4, 2.9, 1.4, 0.2, 'setosa'),\n",
       " (10, 4.9, 3.1, 1.5, 0.1, 'setosa'),\n",
       " (11, 5.4, 3.7, 1.5, 0.2, 'setosa'),\n",
       " (12, 4.8, 3.4, 1.6, 0.2, 'setosa'),\n",
       " (13, 4.8, 3.0, 1.4, 0.1, 'setosa'),\n",
       " (14, 4.3, 3.0, 1.1, 0.1, 'setosa'),\n",
       " (15, 5.8, 4.0, 1.2, 0.2, 'setosa'),\n",
       " (16, 5.7, 4.4, 1.5, 0.4, 'setosa'),\n",
       " (17, 5.4, 3.9, 1.3, 0.4, 'setosa'),\n",
       " (18, 5.1, 3.5, 1.4, 0.3, 'setosa'),\n",
       " (19, 5.7, 3.8, 1.7, 0.3, 'setosa'),\n",
       " (20, 5.1, 3.8, 1.5, 0.3, 'setosa'),\n",
       " (21, 5.4, 3.4, 1.7, 0.2, 'setosa'),\n",
       " (22, 5.1, 3.7, 1.5, 0.4, 'setosa'),\n",
       " (23, 4.6, 3.6, 1.0, 0.2, 'setosa'),\n",
       " (24, 5.1, 3.3, 1.7, 0.5, 'setosa'),\n",
       " (25, 4.8, 3.4, 1.9, 0.2, 'setosa'),\n",
       " (26, 5.0, 3.0, 1.6, 0.2, 'setosa'),\n",
       " (27, 5.0, 3.4, 1.6, 0.4, 'setosa'),\n",
       " (28, 5.2, 3.5, 1.5, 0.2, 'setosa'),\n",
       " (29, 5.2, 3.4, 1.4, 0.2, 'setosa'),\n",
       " (30, 4.7, 3.2, 1.6, 0.2, 'setosa'),\n",
       " (31, 4.8, 3.1, 1.6, 0.2, 'setosa'),\n",
       " (32, 5.4, 3.4, 1.5, 0.4, 'setosa'),\n",
       " (33, 5.2, 4.1, 1.5, 0.1, 'setosa'),\n",
       " (34, 5.5, 4.2, 1.4, 0.2, 'setosa'),\n",
       " (35, 4.9, 3.1, 1.5, 0.2, 'setosa'),\n",
       " (36, 5.0, 3.2, 1.2, 0.2, 'setosa'),\n",
       " (37, 5.5, 3.5, 1.3, 0.2, 'setosa'),\n",
       " (38, 4.9, 3.6, 1.4, 0.1, 'setosa'),\n",
       " (39, 4.4, 3.0, 1.3, 0.2, 'setosa'),\n",
       " (40, 5.1, 3.4, 1.5, 0.2, 'setosa'),\n",
       " (41, 5.0, 3.5, 1.3, 0.3, 'setosa'),\n",
       " (42, 4.5, 2.3, 1.3, 0.3, 'setosa'),\n",
       " (43, 4.4, 3.2, 1.3, 0.2, 'setosa'),\n",
       " (44, 5.0, 3.5, 1.6, 0.6, 'setosa'),\n",
       " (45, 5.1, 3.8, 1.9, 0.4, 'setosa'),\n",
       " (46, 4.8, 3.0, 1.4, 0.3, 'setosa'),\n",
       " (47, 5.1, 3.8, 1.6, 0.2, 'setosa'),\n",
       " (48, 4.6, 3.2, 1.4, 0.2, 'setosa'),\n",
       " (49, 5.3, 3.7, 1.5, 0.2, 'setosa'),\n",
       " (50, 5.0, 3.3, 1.4, 0.2, 'setosa'),\n",
       " (51, 7.0, 3.2, 4.7, 1.4, 'versicolor'),\n",
       " (52, 6.4, 3.2, 4.5, 1.5, 'versicolor'),\n",
       " (53, 6.9, 3.1, 4.9, 1.5, 'versicolor'),\n",
       " (54, 5.5, 2.3, 4.0, 1.3, 'versicolor'),\n",
       " (55, 6.5, 2.8, 4.6, 1.5, 'versicolor'),\n",
       " (56, 5.7, 2.8, 4.5, 1.3, 'versicolor'),\n",
       " (57, 6.3, 3.3, 4.7, 1.6, 'versicolor'),\n",
       " (58, 4.9, 2.4, 3.3, 1.0, 'versicolor'),\n",
       " (59, 6.6, 2.9, 4.6, 1.3, 'versicolor'),\n",
       " (60, 5.2, 2.7, 3.9, 1.4, 'versicolor'),\n",
       " (61, 5.0, 2.0, 3.5, 1.0, 'versicolor'),\n",
       " (62, 5.9, 3.0, 4.2, 1.5, 'versicolor'),\n",
       " (63, 6.0, 2.2, 4.0, 1.0, 'versicolor'),\n",
       " (64, 6.1, 2.9, 4.7, 1.4, 'versicolor'),\n",
       " (65, 5.6, 2.9, 3.6, 1.3, 'versicolor'),\n",
       " (66, 6.7, 3.1, 4.4, 1.4, 'versicolor'),\n",
       " (67, 5.6, 3.0, 4.5, 1.5, 'versicolor'),\n",
       " (68, 5.8, 2.7, 4.1, 1.0, 'versicolor'),\n",
       " (69, 6.2, 2.2, 4.5, 1.5, 'versicolor'),\n",
       " (70, 5.6, 2.5, 3.9, 1.1, 'versicolor'),\n",
       " (71, 5.9, 3.2, 4.8, 1.8, 'versicolor'),\n",
       " (72, 6.1, 2.8, 4.0, 1.3, 'versicolor'),\n",
       " (73, 6.3, 2.5, 4.9, 1.5, 'versicolor'),\n",
       " (74, 6.1, 2.8, 4.7, 1.2, 'versicolor'),\n",
       " (75, 6.4, 2.9, 4.3, 1.3, 'versicolor'),\n",
       " (76, 6.6, 3.0, 4.4, 1.4, 'versicolor'),\n",
       " (77, 6.8, 2.8, 4.8, 1.4, 'versicolor'),\n",
       " (78, 6.7, 3.0, 5.0, 1.7, 'versicolor'),\n",
       " (79, 6.0, 2.9, 4.5, 1.5, 'versicolor'),\n",
       " (80, 5.7, 2.6, 3.5, 1.0, 'versicolor'),\n",
       " (81, 5.5, 2.4, 3.8, 1.1, 'versicolor'),\n",
       " (82, 5.5, 2.4, 3.7, 1.0, 'versicolor'),\n",
       " (83, 5.8, 2.7, 3.9, 1.2, 'versicolor'),\n",
       " (84, 6.0, 2.7, 5.1, 1.6, 'versicolor'),\n",
       " (85, 5.4, 3.0, 4.5, 1.5, 'versicolor'),\n",
       " (86, 6.0, 3.4, 4.5, 1.6, 'versicolor'),\n",
       " (87, 6.7, 3.1, 4.7, 1.5, 'versicolor'),\n",
       " (88, 6.3, 2.3, 4.4, 1.3, 'versicolor'),\n",
       " (89, 5.6, 3.0, 4.1, 1.3, 'versicolor'),\n",
       " (90, 5.5, 2.5, 4.0, 1.3, 'versicolor'),\n",
       " (91, 5.5, 2.6, 4.4, 1.2, 'versicolor'),\n",
       " (92, 6.1, 3.0, 4.6, 1.4, 'versicolor'),\n",
       " (93, 5.8, 2.6, 4.0, 1.2, 'versicolor'),\n",
       " (94, 5.0, 2.3, 3.3, 1.0, 'versicolor'),\n",
       " (95, 5.6, 2.7, 4.2, 1.3, 'versicolor'),\n",
       " (96, 5.7, 3.0, 4.2, 1.2, 'versicolor'),\n",
       " (97, 5.7, 2.9, 4.2, 1.3, 'versicolor'),\n",
       " (98, 6.2, 2.9, 4.3, 1.3, 'versicolor'),\n",
       " (99, 5.1, 2.5, 3.0, 1.1, 'versicolor'),\n",
       " (100, 5.7, 2.8, 4.1, 1.3, 'versicolor'),\n",
       " (101, 6.3, 3.3, 6.0, 2.5, 'virginica'),\n",
       " (102, 5.8, 2.7, 5.1, 1.9, 'virginica'),\n",
       " (103, 7.1, 3.0, 5.9, 2.1, 'virginica'),\n",
       " (104, 6.3, 2.9, 5.6, 1.8, 'virginica'),\n",
       " (105, 6.5, 3.0, 5.8, 2.2, 'virginica'),\n",
       " (106, 7.6, 3.0, 6.6, 2.1, 'virginica'),\n",
       " (107, 4.9, 2.5, 4.5, 1.7, 'virginica'),\n",
       " (108, 7.3, 2.9, 6.3, 1.8, 'virginica'),\n",
       " (109, 6.7, 2.5, 5.8, 1.8, 'virginica'),\n",
       " (110, 7.2, 3.6, 6.1, 2.5, 'virginica'),\n",
       " (111, 6.5, 3.2, 5.1, 2.0, 'virginica'),\n",
       " (112, 6.4, 2.7, 5.3, 1.9, 'virginica'),\n",
       " (113, 6.8, 3.0, 5.5, 2.1, 'virginica'),\n",
       " (114, 5.7, 2.5, 5.0, 2.0, 'virginica'),\n",
       " (115, 5.8, 2.8, 5.1, 2.4, 'virginica'),\n",
       " (116, 6.4, 3.2, 5.3, 2.3, 'virginica'),\n",
       " (117, 6.5, 3.0, 5.5, 1.8, 'virginica'),\n",
       " (118, 7.7, 3.8, 6.7, 2.2, 'virginica'),\n",
       " (119, 7.7, 2.6, 6.9, 2.3, 'virginica'),\n",
       " (120, 6.0, 2.2, 5.0, 1.5, 'virginica'),\n",
       " (121, 6.9, 3.2, 5.7, 2.3, 'virginica'),\n",
       " (122, 5.6, 2.8, 4.9, 2.0, 'virginica'),\n",
       " (123, 7.7, 2.8, 6.7, 2.0, 'virginica'),\n",
       " (124, 6.3, 2.7, 4.9, 1.8, 'virginica'),\n",
       " (125, 6.7, 3.3, 5.7, 2.1, 'virginica'),\n",
       " (126, 7.2, 3.2, 6.0, 1.8, 'virginica'),\n",
       " (127, 6.2, 2.8, 4.8, 1.8, 'virginica'),\n",
       " (128, 6.1, 3.0, 4.9, 1.8, 'virginica'),\n",
       " (129, 6.4, 2.8, 5.6, 2.1, 'virginica'),\n",
       " (130, 7.2, 3.0, 5.8, 1.6, 'virginica'),\n",
       " (131, 7.4, 2.8, 6.1, 1.9, 'virginica'),\n",
       " (132, 7.9, 3.8, 6.4, 2.0, 'virginica'),\n",
       " (133, 6.4, 2.8, 5.6, 2.2, 'virginica'),\n",
       " (134, 6.3, 2.8, 5.1, 1.5, 'virginica'),\n",
       " (135, 6.1, 2.6, 5.6, 1.4, 'virginica'),\n",
       " (136, 7.7, 3.0, 6.1, 2.3, 'virginica'),\n",
       " (137, 6.3, 3.4, 5.6, 2.4, 'virginica'),\n",
       " (138, 6.4, 3.1, 5.5, 1.8, 'virginica'),\n",
       " (139, 6.0, 3.0, 4.8, 1.8, 'virginica'),\n",
       " (140, 6.9, 3.1, 5.4, 2.1, 'virginica'),\n",
       " (141, 6.7, 3.1, 5.6, 2.4, 'virginica'),\n",
       " (142, 6.9, 3.1, 5.1, 2.3, 'virginica'),\n",
       " (143, 5.8, 2.7, 5.1, 1.9, 'virginica'),\n",
       " (144, 6.8, 3.2, 5.9, 2.3, 'virginica'),\n",
       " (145, 6.7, 3.3, 5.7, 2.5, 'virginica'),\n",
       " (146, 6.7, 3.0, 5.2, 2.3, 'virginica'),\n",
       " (147, 6.3, 2.5, 5.0, 1.9, 'virginica'),\n",
       " (148, 6.5, 3.0, 5.2, 2.0, 'virginica'),\n",
       " (149, 6.2, 3.4, 5.4, 2.3, 'virginica'),\n",
       " (150, 5.9, 3.0, 5.1, 1.8, 'virginica'))"
      ]
     },
     "execution_count": 39,
     "metadata": {},
     "output_type": "execute_result"
    }
   ],
   "source": [
    "query_select_all = \"SELECT * FROM main_table_Balaev\"\n",
    "cursor.execute(query_select_all)\n",
    "cursor.fetchall()"
   ]
  },
  {
   "cell_type": "code",
   "execution_count": 40,
   "metadata": {
    "collapsed": true
   },
   "outputs": [
    {
     "data": {
      "text/plain": [
       "((101, 6.3, 3.3, 6.0, 2.5, 'virginica'),\n",
       " (102, 5.8, 2.7, 5.1, 1.9, 'virginica'),\n",
       " (103, 7.1, 3.0, 5.9, 2.1, 'virginica'),\n",
       " (104, 6.3, 2.9, 5.6, 1.8, 'virginica'),\n",
       " (105, 6.5, 3.0, 5.8, 2.2, 'virginica'),\n",
       " (106, 7.6, 3.0, 6.6, 2.1, 'virginica'),\n",
       " (107, 4.9, 2.5, 4.5, 1.7, 'virginica'),\n",
       " (108, 7.3, 2.9, 6.3, 1.8, 'virginica'),\n",
       " (109, 6.7, 2.5, 5.8, 1.8, 'virginica'),\n",
       " (110, 7.2, 3.6, 6.1, 2.5, 'virginica'),\n",
       " (111, 6.5, 3.2, 5.1, 2.0, 'virginica'),\n",
       " (112, 6.4, 2.7, 5.3, 1.9, 'virginica'),\n",
       " (113, 6.8, 3.0, 5.5, 2.1, 'virginica'),\n",
       " (114, 5.7, 2.5, 5.0, 2.0, 'virginica'),\n",
       " (115, 5.8, 2.8, 5.1, 2.4, 'virginica'),\n",
       " (116, 6.4, 3.2, 5.3, 2.3, 'virginica'),\n",
       " (117, 6.5, 3.0, 5.5, 1.8, 'virginica'),\n",
       " (118, 7.7, 3.8, 6.7, 2.2, 'virginica'),\n",
       " (119, 7.7, 2.6, 6.9, 2.3, 'virginica'),\n",
       " (120, 6.0, 2.2, 5.0, 1.5, 'virginica'),\n",
       " (121, 6.9, 3.2, 5.7, 2.3, 'virginica'),\n",
       " (122, 5.6, 2.8, 4.9, 2.0, 'virginica'),\n",
       " (123, 7.7, 2.8, 6.7, 2.0, 'virginica'),\n",
       " (124, 6.3, 2.7, 4.9, 1.8, 'virginica'),\n",
       " (125, 6.7, 3.3, 5.7, 2.1, 'virginica'),\n",
       " (126, 7.2, 3.2, 6.0, 1.8, 'virginica'),\n",
       " (127, 6.2, 2.8, 4.8, 1.8, 'virginica'),\n",
       " (128, 6.1, 3.0, 4.9, 1.8, 'virginica'),\n",
       " (129, 6.4, 2.8, 5.6, 2.1, 'virginica'),\n",
       " (130, 7.2, 3.0, 5.8, 1.6, 'virginica'),\n",
       " (131, 7.4, 2.8, 6.1, 1.9, 'virginica'),\n",
       " (132, 7.9, 3.8, 6.4, 2.0, 'virginica'),\n",
       " (133, 6.4, 2.8, 5.6, 2.2, 'virginica'),\n",
       " (134, 6.3, 2.8, 5.1, 1.5, 'virginica'),\n",
       " (135, 6.1, 2.6, 5.6, 1.4, 'virginica'),\n",
       " (136, 7.7, 3.0, 6.1, 2.3, 'virginica'),\n",
       " (137, 6.3, 3.4, 5.6, 2.4, 'virginica'),\n",
       " (138, 6.4, 3.1, 5.5, 1.8, 'virginica'),\n",
       " (139, 6.0, 3.0, 4.8, 1.8, 'virginica'),\n",
       " (140, 6.9, 3.1, 5.4, 2.1, 'virginica'),\n",
       " (141, 6.7, 3.1, 5.6, 2.4, 'virginica'),\n",
       " (142, 6.9, 3.1, 5.1, 2.3, 'virginica'),\n",
       " (143, 5.8, 2.7, 5.1, 1.9, 'virginica'),\n",
       " (144, 6.8, 3.2, 5.9, 2.3, 'virginica'),\n",
       " (145, 6.7, 3.3, 5.7, 2.5, 'virginica'),\n",
       " (146, 6.7, 3.0, 5.2, 2.3, 'virginica'),\n",
       " (147, 6.3, 2.5, 5.0, 1.9, 'virginica'),\n",
       " (148, 6.5, 3.0, 5.2, 2.0, 'virginica'),\n",
       " (149, 6.2, 3.4, 5.4, 2.3, 'virginica'),\n",
       " (150, 5.9, 3.0, 5.1, 1.8, 'virginica'))"
      ]
     },
     "execution_count": 40,
     "metadata": {},
     "output_type": "execute_result"
    }
   ],
   "source": [
    "query = \"\"\"\n",
    "    SELECT *\n",
    "    FROM main_table_Balaev\n",
    "    WHERE class_name = 'virginica'\n",
    "\"\"\"\n",
    "cursor.execute(query)\n",
    "cursor.fetchall()"
   ]
  },
  {
   "cell_type": "code",
   "execution_count": 54,
   "metadata": {},
   "outputs": [
    {
     "data": {
      "text/plain": [
       "((51, 7.0, 3.2, 4.7, 1.4, 'versicolor'),\n",
       " (52, 6.4, 3.2, 4.5, 1.5, 'versicolor'),\n",
       " (53, 6.9, 3.1, 4.9, 1.5, 'versicolor'),\n",
       " (54, 5.5, 2.3, 4.0, 1.3, 'versicolor'),\n",
       " (55, 6.5, 2.8, 4.6, 1.5, 'versicolor'),\n",
       " (56, 5.7, 2.8, 4.5, 1.3, 'versicolor'),\n",
       " (57, 6.3, 3.3, 4.7, 1.6, 'versicolor'),\n",
       " (58, 4.9, 2.4, 3.3, 1.0, 'versicolor'),\n",
       " (59, 6.6, 2.9, 4.6, 1.3, 'versicolor'),\n",
       " (60, 5.2, 2.7, 3.9, 1.4, 'versicolor'),\n",
       " (61, 5.0, 2.0, 3.5, 1.0, 'versicolor'),\n",
       " (62, 5.9, 3.0, 4.2, 1.5, 'versicolor'),\n",
       " (63, 6.0, 2.2, 4.0, 1.0, 'versicolor'),\n",
       " (64, 6.1, 2.9, 4.7, 1.4, 'versicolor'),\n",
       " (65, 5.6, 2.9, 3.6, 1.3, 'versicolor'),\n",
       " (66, 6.7, 3.1, 4.4, 1.4, 'versicolor'),\n",
       " (67, 5.6, 3.0, 4.5, 1.5, 'versicolor'),\n",
       " (68, 5.8, 2.7, 4.1, 1.0, 'versicolor'),\n",
       " (69, 6.2, 2.2, 4.5, 1.5, 'versicolor'),\n",
       " (70, 5.6, 2.5, 3.9, 1.1, 'versicolor'),\n",
       " (71, 5.9, 3.2, 4.8, 1.8, 'versicolor'),\n",
       " (72, 6.1, 2.8, 4.0, 1.3, 'versicolor'),\n",
       " (73, 6.3, 2.5, 4.9, 1.5, 'versicolor'),\n",
       " (74, 6.1, 2.8, 4.7, 1.2, 'versicolor'),\n",
       " (75, 6.4, 2.9, 4.3, 1.3, 'versicolor'),\n",
       " (76, 6.6, 3.0, 4.4, 1.4, 'versicolor'),\n",
       " (77, 6.8, 2.8, 4.8, 1.4, 'versicolor'),\n",
       " (78, 6.7, 3.0, 5.0, 1.7, 'versicolor'),\n",
       " (79, 6.0, 2.9, 4.5, 1.5, 'versicolor'),\n",
       " (80, 5.7, 2.6, 3.5, 1.0, 'versicolor'),\n",
       " (81, 5.5, 2.4, 3.8, 1.1, 'versicolor'),\n",
       " (82, 5.5, 2.4, 3.7, 1.0, 'versicolor'),\n",
       " (83, 5.8, 2.7, 3.9, 1.2, 'versicolor'),\n",
       " (84, 6.0, 2.7, 5.1, 1.6, 'versicolor'),\n",
       " (85, 5.4, 3.0, 4.5, 1.5, 'versicolor'),\n",
       " (86, 6.0, 3.4, 4.5, 1.6, 'versicolor'),\n",
       " (87, 6.7, 3.1, 4.7, 1.5, 'versicolor'),\n",
       " (88, 6.3, 2.3, 4.4, 1.3, 'versicolor'),\n",
       " (89, 5.6, 3.0, 4.1, 1.3, 'versicolor'),\n",
       " (90, 5.5, 2.5, 4.0, 1.3, 'versicolor'),\n",
       " (91, 5.5, 2.6, 4.4, 1.2, 'versicolor'),\n",
       " (92, 6.1, 3.0, 4.6, 1.4, 'versicolor'),\n",
       " (93, 5.8, 2.6, 4.0, 1.2, 'versicolor'),\n",
       " (94, 5.0, 2.3, 3.3, 1.0, 'versicolor'),\n",
       " (95, 5.6, 2.7, 4.2, 1.3, 'versicolor'),\n",
       " (96, 5.7, 3.0, 4.2, 1.2, 'versicolor'),\n",
       " (97, 5.7, 2.9, 4.2, 1.3, 'versicolor'),\n",
       " (98, 6.2, 2.9, 4.3, 1.3, 'versicolor'),\n",
       " (99, 5.1, 2.5, 3.0, 1.1, 'versicolor'),\n",
       " (100, 5.7, 2.8, 4.1, 1.3, 'versicolor'))"
      ]
     },
     "execution_count": 54,
     "metadata": {},
     "output_type": "execute_result"
    }
   ],
   "source": [
    "query = \"\"\"\n",
    "    \n",
    "    SELECT *\n",
    "    FROM main_table_Balaev\n",
    "    WHERE \n",
    "        class_name LIKE '%ico%'\n",
    "        AND\n",
    "        sepal_width_in_cm < \n",
    "        (SELECT max(sepal_width_in_cm)\n",
    "        FROM main_table_Balaev\n",
    "        WHERE class_name = 'virginica')\n",
    "        \n",
    "\"\"\"\n",
    "cursor.execute(query)\n",
    "cursor.fetchall()"
   ]
  },
  {
   "cell_type": "code",
   "execution_count": 64,
   "metadata": {
    "collapsed": true
   },
   "outputs": [
    {
     "ename": "ProgrammingError",
     "evalue": "(1064, \"You have an error in your SQL syntax; check the manual that corresponds to your MySQL server version for the right syntax to use near 'SELECT max(sepal_width_in_cm)\\n    FROM main_table_Balaev\\n    WHERE \\n        main' at line 8\")",
     "output_type": "error",
     "traceback": [
      "\u001b[1;31m---------------------------------------------------------------------------\u001b[0m",
      "\u001b[1;31mProgrammingError\u001b[0m                          Traceback (most recent call last)",
      "\u001b[1;32m<ipython-input-64-8c42396cef3e>\u001b[0m in \u001b[0;36m<module>\u001b[1;34m\u001b[0m\n\u001b[0;32m     23\u001b[0m \u001b[1;33m\u001b[0m\u001b[0m\n\u001b[0;32m     24\u001b[0m \"\"\"\n\u001b[1;32m---> 25\u001b[1;33m \u001b[0mcursor\u001b[0m\u001b[1;33m.\u001b[0m\u001b[0mexecute\u001b[0m\u001b[1;33m(\u001b[0m\u001b[0mquery\u001b[0m\u001b[1;33m)\u001b[0m\u001b[1;33m\u001b[0m\u001b[1;33m\u001b[0m\u001b[0m\n\u001b[0m\u001b[0;32m     26\u001b[0m \u001b[0mcursor\u001b[0m\u001b[1;33m.\u001b[0m\u001b[0mfetchall\u001b[0m\u001b[1;33m(\u001b[0m\u001b[1;33m)\u001b[0m\u001b[1;33m\u001b[0m\u001b[1;33m\u001b[0m\u001b[0m\n",
      "\u001b[1;32mC:\\anaconda3\\lib\\site-packages\\pymysql\\cursors.py\u001b[0m in \u001b[0;36mexecute\u001b[1;34m(self, query, args)\u001b[0m\n\u001b[0;32m    146\u001b[0m         \u001b[0mquery\u001b[0m \u001b[1;33m=\u001b[0m \u001b[0mself\u001b[0m\u001b[1;33m.\u001b[0m\u001b[0mmogrify\u001b[0m\u001b[1;33m(\u001b[0m\u001b[0mquery\u001b[0m\u001b[1;33m,\u001b[0m \u001b[0margs\u001b[0m\u001b[1;33m)\u001b[0m\u001b[1;33m\u001b[0m\u001b[1;33m\u001b[0m\u001b[0m\n\u001b[0;32m    147\u001b[0m \u001b[1;33m\u001b[0m\u001b[0m\n\u001b[1;32m--> 148\u001b[1;33m         \u001b[0mresult\u001b[0m \u001b[1;33m=\u001b[0m \u001b[0mself\u001b[0m\u001b[1;33m.\u001b[0m\u001b[0m_query\u001b[0m\u001b[1;33m(\u001b[0m\u001b[0mquery\u001b[0m\u001b[1;33m)\u001b[0m\u001b[1;33m\u001b[0m\u001b[1;33m\u001b[0m\u001b[0m\n\u001b[0m\u001b[0;32m    149\u001b[0m         \u001b[0mself\u001b[0m\u001b[1;33m.\u001b[0m\u001b[0m_executed\u001b[0m \u001b[1;33m=\u001b[0m \u001b[0mquery\u001b[0m\u001b[1;33m\u001b[0m\u001b[1;33m\u001b[0m\u001b[0m\n\u001b[0;32m    150\u001b[0m         \u001b[1;32mreturn\u001b[0m \u001b[0mresult\u001b[0m\u001b[1;33m\u001b[0m\u001b[1;33m\u001b[0m\u001b[0m\n",
      "\u001b[1;32mC:\\anaconda3\\lib\\site-packages\\pymysql\\cursors.py\u001b[0m in \u001b[0;36m_query\u001b[1;34m(self, q)\u001b[0m\n\u001b[0;32m    308\u001b[0m         \u001b[0mself\u001b[0m\u001b[1;33m.\u001b[0m\u001b[0m_last_executed\u001b[0m \u001b[1;33m=\u001b[0m \u001b[0mq\u001b[0m\u001b[1;33m\u001b[0m\u001b[1;33m\u001b[0m\u001b[0m\n\u001b[0;32m    309\u001b[0m         \u001b[0mself\u001b[0m\u001b[1;33m.\u001b[0m\u001b[0m_clear_result\u001b[0m\u001b[1;33m(\u001b[0m\u001b[1;33m)\u001b[0m\u001b[1;33m\u001b[0m\u001b[1;33m\u001b[0m\u001b[0m\n\u001b[1;32m--> 310\u001b[1;33m         \u001b[0mconn\u001b[0m\u001b[1;33m.\u001b[0m\u001b[0mquery\u001b[0m\u001b[1;33m(\u001b[0m\u001b[0mq\u001b[0m\u001b[1;33m)\u001b[0m\u001b[1;33m\u001b[0m\u001b[1;33m\u001b[0m\u001b[0m\n\u001b[0m\u001b[0;32m    311\u001b[0m         \u001b[0mself\u001b[0m\u001b[1;33m.\u001b[0m\u001b[0m_do_get_result\u001b[0m\u001b[1;33m(\u001b[0m\u001b[1;33m)\u001b[0m\u001b[1;33m\u001b[0m\u001b[1;33m\u001b[0m\u001b[0m\n\u001b[0;32m    312\u001b[0m         \u001b[1;32mreturn\u001b[0m \u001b[0mself\u001b[0m\u001b[1;33m.\u001b[0m\u001b[0mrowcount\u001b[0m\u001b[1;33m\u001b[0m\u001b[1;33m\u001b[0m\u001b[0m\n",
      "\u001b[1;32mC:\\anaconda3\\lib\\site-packages\\pymysql\\connections.py\u001b[0m in \u001b[0;36mquery\u001b[1;34m(self, sql, unbuffered)\u001b[0m\n\u001b[0;32m    546\u001b[0m             \u001b[0msql\u001b[0m \u001b[1;33m=\u001b[0m \u001b[0msql\u001b[0m\u001b[1;33m.\u001b[0m\u001b[0mencode\u001b[0m\u001b[1;33m(\u001b[0m\u001b[0mself\u001b[0m\u001b[1;33m.\u001b[0m\u001b[0mencoding\u001b[0m\u001b[1;33m,\u001b[0m \u001b[1;34m\"surrogateescape\"\u001b[0m\u001b[1;33m)\u001b[0m\u001b[1;33m\u001b[0m\u001b[1;33m\u001b[0m\u001b[0m\n\u001b[0;32m    547\u001b[0m         \u001b[0mself\u001b[0m\u001b[1;33m.\u001b[0m\u001b[0m_execute_command\u001b[0m\u001b[1;33m(\u001b[0m\u001b[0mCOMMAND\u001b[0m\u001b[1;33m.\u001b[0m\u001b[0mCOM_QUERY\u001b[0m\u001b[1;33m,\u001b[0m \u001b[0msql\u001b[0m\u001b[1;33m)\u001b[0m\u001b[1;33m\u001b[0m\u001b[1;33m\u001b[0m\u001b[0m\n\u001b[1;32m--> 548\u001b[1;33m         \u001b[0mself\u001b[0m\u001b[1;33m.\u001b[0m\u001b[0m_affected_rows\u001b[0m \u001b[1;33m=\u001b[0m \u001b[0mself\u001b[0m\u001b[1;33m.\u001b[0m\u001b[0m_read_query_result\u001b[0m\u001b[1;33m(\u001b[0m\u001b[0munbuffered\u001b[0m\u001b[1;33m=\u001b[0m\u001b[0munbuffered\u001b[0m\u001b[1;33m)\u001b[0m\u001b[1;33m\u001b[0m\u001b[1;33m\u001b[0m\u001b[0m\n\u001b[0m\u001b[0;32m    549\u001b[0m         \u001b[1;32mreturn\u001b[0m \u001b[0mself\u001b[0m\u001b[1;33m.\u001b[0m\u001b[0m_affected_rows\u001b[0m\u001b[1;33m\u001b[0m\u001b[1;33m\u001b[0m\u001b[0m\n\u001b[0;32m    550\u001b[0m \u001b[1;33m\u001b[0m\u001b[0m\n",
      "\u001b[1;32mC:\\anaconda3\\lib\\site-packages\\pymysql\\connections.py\u001b[0m in \u001b[0;36m_read_query_result\u001b[1;34m(self, unbuffered)\u001b[0m\n\u001b[0;32m    773\u001b[0m         \u001b[1;32melse\u001b[0m\u001b[1;33m:\u001b[0m\u001b[1;33m\u001b[0m\u001b[1;33m\u001b[0m\u001b[0m\n\u001b[0;32m    774\u001b[0m             \u001b[0mresult\u001b[0m \u001b[1;33m=\u001b[0m \u001b[0mMySQLResult\u001b[0m\u001b[1;33m(\u001b[0m\u001b[0mself\u001b[0m\u001b[1;33m)\u001b[0m\u001b[1;33m\u001b[0m\u001b[1;33m\u001b[0m\u001b[0m\n\u001b[1;32m--> 775\u001b[1;33m             \u001b[0mresult\u001b[0m\u001b[1;33m.\u001b[0m\u001b[0mread\u001b[0m\u001b[1;33m(\u001b[0m\u001b[1;33m)\u001b[0m\u001b[1;33m\u001b[0m\u001b[1;33m\u001b[0m\u001b[0m\n\u001b[0m\u001b[0;32m    776\u001b[0m         \u001b[0mself\u001b[0m\u001b[1;33m.\u001b[0m\u001b[0m_result\u001b[0m \u001b[1;33m=\u001b[0m \u001b[0mresult\u001b[0m\u001b[1;33m\u001b[0m\u001b[1;33m\u001b[0m\u001b[0m\n\u001b[0;32m    777\u001b[0m         \u001b[1;32mif\u001b[0m \u001b[0mresult\u001b[0m\u001b[1;33m.\u001b[0m\u001b[0mserver_status\u001b[0m \u001b[1;32mis\u001b[0m \u001b[1;32mnot\u001b[0m \u001b[1;32mNone\u001b[0m\u001b[1;33m:\u001b[0m\u001b[1;33m\u001b[0m\u001b[1;33m\u001b[0m\u001b[0m\n",
      "\u001b[1;32mC:\\anaconda3\\lib\\site-packages\\pymysql\\connections.py\u001b[0m in \u001b[0;36mread\u001b[1;34m(self)\u001b[0m\n\u001b[0;32m   1154\u001b[0m     \u001b[1;32mdef\u001b[0m \u001b[0mread\u001b[0m\u001b[1;33m(\u001b[0m\u001b[0mself\u001b[0m\u001b[1;33m)\u001b[0m\u001b[1;33m:\u001b[0m\u001b[1;33m\u001b[0m\u001b[1;33m\u001b[0m\u001b[0m\n\u001b[0;32m   1155\u001b[0m         \u001b[1;32mtry\u001b[0m\u001b[1;33m:\u001b[0m\u001b[1;33m\u001b[0m\u001b[1;33m\u001b[0m\u001b[0m\n\u001b[1;32m-> 1156\u001b[1;33m             \u001b[0mfirst_packet\u001b[0m \u001b[1;33m=\u001b[0m \u001b[0mself\u001b[0m\u001b[1;33m.\u001b[0m\u001b[0mconnection\u001b[0m\u001b[1;33m.\u001b[0m\u001b[0m_read_packet\u001b[0m\u001b[1;33m(\u001b[0m\u001b[1;33m)\u001b[0m\u001b[1;33m\u001b[0m\u001b[1;33m\u001b[0m\u001b[0m\n\u001b[0m\u001b[0;32m   1157\u001b[0m \u001b[1;33m\u001b[0m\u001b[0m\n\u001b[0;32m   1158\u001b[0m             \u001b[1;32mif\u001b[0m \u001b[0mfirst_packet\u001b[0m\u001b[1;33m.\u001b[0m\u001b[0mis_ok_packet\u001b[0m\u001b[1;33m(\u001b[0m\u001b[1;33m)\u001b[0m\u001b[1;33m:\u001b[0m\u001b[1;33m\u001b[0m\u001b[1;33m\u001b[0m\u001b[0m\n",
      "\u001b[1;32mC:\\anaconda3\\lib\\site-packages\\pymysql\\connections.py\u001b[0m in \u001b[0;36m_read_packet\u001b[1;34m(self, packet_type)\u001b[0m\n\u001b[0;32m    723\u001b[0m             \u001b[1;32mif\u001b[0m \u001b[0mself\u001b[0m\u001b[1;33m.\u001b[0m\u001b[0m_result\u001b[0m \u001b[1;32mis\u001b[0m \u001b[1;32mnot\u001b[0m \u001b[1;32mNone\u001b[0m \u001b[1;32mand\u001b[0m \u001b[0mself\u001b[0m\u001b[1;33m.\u001b[0m\u001b[0m_result\u001b[0m\u001b[1;33m.\u001b[0m\u001b[0munbuffered_active\u001b[0m \u001b[1;32mis\u001b[0m \u001b[1;32mTrue\u001b[0m\u001b[1;33m:\u001b[0m\u001b[1;33m\u001b[0m\u001b[1;33m\u001b[0m\u001b[0m\n\u001b[0;32m    724\u001b[0m                 \u001b[0mself\u001b[0m\u001b[1;33m.\u001b[0m\u001b[0m_result\u001b[0m\u001b[1;33m.\u001b[0m\u001b[0munbuffered_active\u001b[0m \u001b[1;33m=\u001b[0m \u001b[1;32mFalse\u001b[0m\u001b[1;33m\u001b[0m\u001b[1;33m\u001b[0m\u001b[0m\n\u001b[1;32m--> 725\u001b[1;33m             \u001b[0mpacket\u001b[0m\u001b[1;33m.\u001b[0m\u001b[0mraise_for_error\u001b[0m\u001b[1;33m(\u001b[0m\u001b[1;33m)\u001b[0m\u001b[1;33m\u001b[0m\u001b[1;33m\u001b[0m\u001b[0m\n\u001b[0m\u001b[0;32m    726\u001b[0m         \u001b[1;32mreturn\u001b[0m \u001b[0mpacket\u001b[0m\u001b[1;33m\u001b[0m\u001b[1;33m\u001b[0m\u001b[0m\n\u001b[0;32m    727\u001b[0m \u001b[1;33m\u001b[0m\u001b[0m\n",
      "\u001b[1;32mC:\\anaconda3\\lib\\site-packages\\pymysql\\protocol.py\u001b[0m in \u001b[0;36mraise_for_error\u001b[1;34m(self)\u001b[0m\n\u001b[0;32m    219\u001b[0m         \u001b[1;32mif\u001b[0m \u001b[0mDEBUG\u001b[0m\u001b[1;33m:\u001b[0m\u001b[1;33m\u001b[0m\u001b[1;33m\u001b[0m\u001b[0m\n\u001b[0;32m    220\u001b[0m             \u001b[0mprint\u001b[0m\u001b[1;33m(\u001b[0m\u001b[1;34m\"errno =\"\u001b[0m\u001b[1;33m,\u001b[0m \u001b[0merrno\u001b[0m\u001b[1;33m)\u001b[0m\u001b[1;33m\u001b[0m\u001b[1;33m\u001b[0m\u001b[0m\n\u001b[1;32m--> 221\u001b[1;33m         \u001b[0merr\u001b[0m\u001b[1;33m.\u001b[0m\u001b[0mraise_mysql_exception\u001b[0m\u001b[1;33m(\u001b[0m\u001b[0mself\u001b[0m\u001b[1;33m.\u001b[0m\u001b[0m_data\u001b[0m\u001b[1;33m)\u001b[0m\u001b[1;33m\u001b[0m\u001b[1;33m\u001b[0m\u001b[0m\n\u001b[0m\u001b[0;32m    222\u001b[0m \u001b[1;33m\u001b[0m\u001b[0m\n\u001b[0;32m    223\u001b[0m     \u001b[1;32mdef\u001b[0m \u001b[0mdump\u001b[0m\u001b[1;33m(\u001b[0m\u001b[0mself\u001b[0m\u001b[1;33m)\u001b[0m\u001b[1;33m:\u001b[0m\u001b[1;33m\u001b[0m\u001b[1;33m\u001b[0m\u001b[0m\n",
      "\u001b[1;32mC:\\anaconda3\\lib\\site-packages\\pymysql\\err.py\u001b[0m in \u001b[0;36mraise_mysql_exception\u001b[1;34m(data)\u001b[0m\n\u001b[0;32m    141\u001b[0m     \u001b[1;32mif\u001b[0m \u001b[0merrorclass\u001b[0m \u001b[1;32mis\u001b[0m \u001b[1;32mNone\u001b[0m\u001b[1;33m:\u001b[0m\u001b[1;33m\u001b[0m\u001b[1;33m\u001b[0m\u001b[0m\n\u001b[0;32m    142\u001b[0m         \u001b[0merrorclass\u001b[0m \u001b[1;33m=\u001b[0m \u001b[0mInternalError\u001b[0m \u001b[1;32mif\u001b[0m \u001b[0merrno\u001b[0m \u001b[1;33m<\u001b[0m \u001b[1;36m1000\u001b[0m \u001b[1;32melse\u001b[0m \u001b[0mOperationalError\u001b[0m\u001b[1;33m\u001b[0m\u001b[1;33m\u001b[0m\u001b[0m\n\u001b[1;32m--> 143\u001b[1;33m     \u001b[1;32mraise\u001b[0m \u001b[0merrorclass\u001b[0m\u001b[1;33m(\u001b[0m\u001b[0merrno\u001b[0m\u001b[1;33m,\u001b[0m \u001b[0merrval\u001b[0m\u001b[1;33m)\u001b[0m\u001b[1;33m\u001b[0m\u001b[1;33m\u001b[0m\u001b[0m\n\u001b[0m",
      "\u001b[1;31mProgrammingError\u001b[0m: (1064, \"You have an error in your SQL syntax; check the manual that corresponds to your MySQL server version for the right syntax to use near 'SELECT max(sepal_width_in_cm)\\n    FROM main_table_Balaev\\n    WHERE \\n        main' at line 8\")"
     ]
    }
   ],
   "source": [
    "query = \"\"\"\n",
    "    with virg as(\n",
    "        SELECT max(sepal_width_in_cm)\n",
    "        FROM main_table_Balaev\n",
    "        WHERE class_name = 'virginica'\n",
    "    )\n",
    "    \n",
    "    , max_count( \n",
    "    SELECT max(sepal_width_in_cm)\n",
    "    FROM main_table_Balaev\n",
    "    WHERE \n",
    "        main_table_Balaev.sepal_width_in_cm = (SELECT * FROM virg)\n",
    "        and\n",
    "        class_name = 'virginica'\n",
    "    )\n",
    "    \n",
    "    SELECT *\n",
    "    FROM main_table_Balaev\n",
    "    WHERE \n",
    "        class_name LIKE '%ico%'\n",
    "        AND\n",
    "        main_table_Balaev.sepal_width_in_cm < (SELECT max_count)\n",
    "        \n",
    "\"\"\"\n",
    "cursor.execute(query)\n",
    "cursor.fetchall()"
   ]
  },
  {
   "cell_type": "code",
   "execution_count": 67,
   "metadata": {},
   "outputs": [
    {
     "data": {
      "text/plain": [
       "((3.799999952316284,),)"
      ]
     },
     "execution_count": 67,
     "metadata": {},
     "output_type": "execute_result"
    }
   ],
   "source": [
    "query = \"\"\"\n",
    "        with virg as(\n",
    "        SELECT max(sepal_width_in_cm)\n",
    "        FROM main_table_Balaev\n",
    "        WHERE class_name = 'virginica'\n",
    "    )\n",
    "        SELECT max(sepal_width_in_cm)\n",
    "        FROM main_table_Balaev\n",
    "        WHERE \n",
    "        main_table_Balaev.sepal_width_in_cm = (SELECT * FROM virg)\n",
    "        and\n",
    "        class_name = 'virginica'\n",
    "    \n",
    "        \n",
    "\"\"\"\n",
    "cursor.execute(query)\n",
    "cursor.fetchall()"
   ]
  },
  {
   "cell_type": "code",
   "execution_count": 74,
   "metadata": {},
   "outputs": [
    {
     "data": {
      "text/plain": [
       "(('versicolor',\n",
       "  296.7999987602234,\n",
       "  138.50000047683716,\n",
       "  212.99999904632568,\n",
       "  66.29999959468842,\n",
       "  7.0,\n",
       "  3.4,\n",
       "  5.1,\n",
       "  1.8,\n",
       "  4.9,\n",
       "  2.0,\n",
       "  3.0,\n",
       "  1.0,\n",
       "  5.935999975204468,\n",
       "  2.770000009536743,\n",
       "  4.259999980926514,\n",
       "  1.3259999918937684),)"
      ]
     },
     "execution_count": 74,
     "metadata": {},
     "output_type": "execute_result"
    }
   ],
   "source": [
    "query = \"\"\"\n",
    "    \n",
    "    SELECT \n",
    "        class_name,\n",
    "        sum(sepal_lenght_in_cm),\n",
    "        sum(sepal_width_in_cm),\n",
    "        sum(petal_lenght_in_cm),\n",
    "        sum(petal_width_in_cm),\n",
    "        max(sepal_lenght_in_cm),\n",
    "        max(sepal_width_in_cm),\n",
    "        max(petal_lenght_in_cm),\n",
    "        max(petal_width_in_cm),\n",
    "        min(sepal_lenght_in_cm),\n",
    "        min(sepal_width_in_cm),\n",
    "        min(petal_lenght_in_cm),\n",
    "        min(petal_width_in_cm),\n",
    "        avg(sepal_lenght_in_cm),\n",
    "        avg(sepal_width_in_cm),\n",
    "        avg(petal_lenght_in_cm),\n",
    "        avg(petal_width_in_cm)\n",
    "    FROM main_table_Balaev\n",
    "    WHERE \n",
    "        class_name LIKE '%ico%'\n",
    "        AND\n",
    "        sepal_width_in_cm < \n",
    "        (SELECT max(sepal_width_in_cm)\n",
    "        FROM main_table_Balaev\n",
    "        WHERE class_name = 'virginica')\n",
    "    GROUP BY class_name\n",
    "        \n",
    "\"\"\"\n",
    "cursor.execute(query)\n",
    "cursor.fetchall()"
   ]
  },
  {
   "cell_type": "code",
   "execution_count": 75,
   "metadata": {},
   "outputs": [],
   "source": [
    "db_conn.close()\n",
    "cursor.close()"
   ]
  },
  {
   "cell_type": "code",
   "execution_count": null,
   "metadata": {},
   "outputs": [],
   "source": []
  }
 ],
 "metadata": {
  "kernelspec": {
   "display_name": "Python 3",
   "language": "python",
   "name": "python3"
  },
  "language_info": {
   "codemirror_mode": {
    "name": "ipython",
    "version": 3
   },
   "file_extension": ".py",
   "mimetype": "text/x-python",
   "name": "python",
   "nbconvert_exporter": "python",
   "pygments_lexer": "ipython3",
   "version": "3.8.5"
  }
 },
 "nbformat": 4,
 "nbformat_minor": 4
}
