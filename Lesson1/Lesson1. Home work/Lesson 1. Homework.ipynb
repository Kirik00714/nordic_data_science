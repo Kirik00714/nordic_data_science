{
 "cells": [
  {
   "cell_type": "markdown",
   "metadata": {},
   "source": [
    "# Задача 1\n",
    "1. Попросить человека ввести с клавиатуры ежегодный процент по депозиту\n",
    "2. Поросить человека ввести сумму депозита\n",
    "3. Попросить человека ввести срок депозита в месяцах\n",
    "4. Рассчитать прибыль с депозита к концу указанного периода, учитывая, что проценты капитализируются ежемесячно.\n",
    "Необходимо использовать формулу сложных процентов"
   ]
  },
  {
   "cell_type": "code",
   "execution_count": 16,
   "metadata": {},
   "outputs": [
    {
     "name": "stdout",
     "output_type": "stream",
     "text": [
      "Введите ежегодный процент по депозиту: 11\n",
      "Введите сумму депозита: 5000\n",
      "Введите срок депозита в месяцах: 6\n",
      "прибыль с депозита: 281.3796402910075\n"
     ]
    }
   ],
   "source": [
    "deposit = float(input(\"Введите ежегодный процент по депозиту: \"))\n",
    "sum_depos = float(input(\"Введите сумму депозита: \"))\n",
    "time_in_month = int(input(\"Введите срок депозита в месяцах: \"))\n",
    "\n",
    "income = sum_depos*(1+ deposit/100/12)**time_in_month - sum_depos\n",
    "print(\"Прибыль с депозита: \" + str(income))"
   ]
  },
  {
   "cell_type": "markdown",
   "metadata": {},
   "source": [
    "# Задача 2\n",
    "\n",
    "Дано три числа. Найти количество положительных чисел среди них (НЕ используя логические ветвления IF!), пользуясь только тем, что было изучено на занятии. Подсказка ниже"
   ]
  },
  {
   "cell_type": "code",
   "execution_count": 17,
   "metadata": {},
   "outputs": [
    {
     "data": {
      "text/plain": [
       "0"
      ]
     },
     "execution_count": 17,
     "metadata": {},
     "output_type": "execute_result"
    }
   ],
   "source": [
    "int(2 < 1)"
   ]
  },
  {
   "cell_type": "code",
   "execution_count": 26,
   "metadata": {},
   "outputs": [
    {
     "name": "stdout",
     "output_type": "stream",
     "text": [
      "Введите первое число: 0\n",
      "Введите второе число: 1\n",
      "Введите третье число: 2\n",
      "False\n",
      "True\n",
      "True\n"
     ]
    }
   ],
   "source": [
    "num1 = float(input(\"Введите первое число: \"))\n",
    "num2 = float(input(\"Введите второе число: \"))\n",
    "num3 = float(input(\"Введите третье число: \"))\n",
    "\n",
    "print(bool(num1 > 0))\n",
    "print(bool(num2 > 0))\n",
    "print(bool(num3 > 0))"
   ]
  },
  {
   "cell_type": "markdown",
   "metadata": {},
   "source": [
    "# Задача 3\n",
    "1. Вывести уравнение прямой ``y = k * x + b``, если известны 2 точки: `(x1 = 3, y1 = 1)`, `(x2 = -1, y2 = -2)`\n",
    "2. Сделать так, чтобы можно было вводить координаты обеих точек с клавиатуры (функция input)"
   ]
  },
  {
   "cell_type": "code",
   "execution_count": 31,
   "metadata": {},
   "outputs": [
    {
     "name": "stdout",
     "output_type": "stream",
     "text": [
      "Введите координату x1: 3\n",
      "Введите координату y1: 1\n",
      "Введите координату x2: -1\n",
      "Введите координату y2: -2\n",
      "Уравнение прямой: y = 0.75 * x +(-1.25)\n"
     ]
    }
   ],
   "source": [
    "x1 = float(input(\"Введите координату x1: \"))\n",
    "y1 = float(input(\"Введите координату y1: \"))\n",
    "x2 = float(input(\"Введите координату x2: \"))\n",
    "y2 = float(input(\"Введите координату y2: \"))\n",
    "\n",
    "k = (y1 - y2)/(x1 - x2)\n",
    "b = y2 - k*x2\n",
    "if b < 0:\n",
    "    print(\"Уравнение прямой: y = \"+str(k)+\" * x +(\"+ str(b)+\")\")\n",
    "else:\n",
    "    print(\"Уравнение прямой: y = \"+str(k)+\" * x + \"+ str(b))"
   ]
  }
 ],
 "metadata": {
  "kernelspec": {
   "display_name": "Python 3",
   "language": "python",
   "name": "python3"
  },
  "language_info": {
   "codemirror_mode": {
    "name": "ipython",
    "version": 3
   },
   "file_extension": ".py",
   "mimetype": "text/x-python",
   "name": "python",
   "nbconvert_exporter": "python",
   "pygments_lexer": "ipython3",
   "version": "3.8.5"
  }
 },
 "nbformat": 4,
 "nbformat_minor": 2
}
