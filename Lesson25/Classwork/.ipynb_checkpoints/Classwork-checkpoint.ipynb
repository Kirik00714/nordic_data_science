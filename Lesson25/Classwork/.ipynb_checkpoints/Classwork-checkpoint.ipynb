{
 "cells": [
  {
   "cell_type": "code",
   "execution_count": 1,
   "metadata": {
    "scrolled": true
   },
   "outputs": [
    {
     "name": "stderr",
     "output_type": "stream",
     "text": [
      "<frozen importlib._bootstrap>:219: RuntimeWarning: numpy.ufunc size changed, may indicate binary incompatibility. Expected 192 from C header, got 216 from PyObject\n"
     ]
    }
   ],
   "source": [
    "import pandas as pd\n",
    "import numpy as np\n",
    "from scipy import optimize\n",
    "from scipy import stats\n",
    "import matplotlib.pyplot as plt\n",
    "import seaborn as sns\n",
    "from sklearn.linear_model import (LinearRegression, Ridge, Lasso,ElasticNet,\n",
    "          LogisticRegression)\n",
    "from sklearn import preprocessing"
   ]
  },
  {
   "cell_type": "code",
   "execution_count": 3,
   "metadata": {},
   "outputs": [
    {
     "name": "stdout",
     "output_type": "stream",
     "text": [
      "Collecting reverse_geocoder\n",
      "  Downloading reverse_geocoder-1.5.1.tar.gz (2.2 MB)\n",
      "Requirement already satisfied: numpy>=1.11.0 in c:\\anaconda3\\lib\\site-packages (from reverse_geocoder) (1.19.2)\n",
      "Requirement already satisfied: scipy>=0.17.1 in c:\\anaconda3\\lib\\site-packages (from reverse_geocoder) (1.5.2)\n",
      "Building wheels for collected packages: reverse-geocoder\n",
      "  Building wheel for reverse-geocoder (setup.py): started\n",
      "  Building wheel for reverse-geocoder (setup.py): finished with status 'done'\n",
      "  Created wheel for reverse-geocoder: filename=reverse_geocoder-1.5.1-py3-none-any.whl size=2268093 sha256=ee8a1d4db3a4c81e889b27b56432fbf0af78b3d66fe67b7a0915eea143131edd\n",
      "  Stored in directory: c:\\users\\кирилл\\appdata\\local\\pip\\cache\\wheels\\65\\42\\5e\\223fcd5dc869ff98d5ee6b19e236f82828e4e3c039328ebe20\n",
      "Successfully built reverse-geocoder\n",
      "Installing collected packages: reverse-geocoder\n",
      "Successfully installed reverse-geocoder-1.5.1\n"
     ]
    }
   ],
   "source": [
    "!pip install reverse_geocoder"
   ]
  },
  {
   "cell_type": "code",
   "execution_count": null,
   "metadata": {},
   "outputs": [],
   "source": []
  }
 ],
 "metadata": {
  "kernelspec": {
   "display_name": "Python 3",
   "language": "python",
   "name": "python3"
  },
  "language_info": {
   "codemirror_mode": {
    "name": "ipython",
    "version": 3
   },
   "file_extension": ".py",
   "mimetype": "text/x-python",
   "name": "python",
   "nbconvert_exporter": "python",
   "pygments_lexer": "ipython3",
   "version": "3.8.5"
  }
 },
 "nbformat": 4,
 "nbformat_minor": 4
}
