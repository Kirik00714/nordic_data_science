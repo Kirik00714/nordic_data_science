{
 "cells": [
  {
   "cell_type": "code",
   "execution_count": 10,
   "metadata": {},
   "outputs": [
    {
     "name": "stdout",
     "output_type": "stream",
     "text": [
      "0 0\n",
      "1 1\n",
      "2 0\n",
      "3 1\n",
      "4 0\n",
      "5 1\n",
      "6 0\n",
      "7 1\n",
      "8 0\n",
      "9 1\n",
      "10 0\n",
      "11 1\n",
      "12 0\n",
      "13 1\n",
      "14 0\n",
      "15 1\n",
      "16 0\n",
      "17 1\n",
      "18 0\n",
      "19 1\n",
      "20 0\n",
      "21 1\n"
     ]
    }
   ],
   "source": [
    "i = 0\n",
    "while i <= 21:\n",
    "    print(str(i)+ \" 0\" if i % 2 == 0 else str(i)+ \" 1\")\n",
    "    i += 1"
   ]
  },
  {
   "cell_type": "code",
   "execution_count": 65,
   "metadata": {},
   "outputs": [
    {
     "name": "stdout",
     "output_type": "stream",
     "text": [
      "+79156451198: {'first_name': 'Николай', 'second_name': 'Семенов', 'sex': 'мужской', 'data_birth': '12.06.1998', 'years_old': '22 года'}\n"
     ]
    }
   ],
   "source": [
    "dict_first_person = {\n",
    "    'first_name':'Петр',\n",
    "    'second_name':'Петров',\n",
    "    'sex':'мужской',\n",
    "    'data_birth':'12.06.1980',\n",
    "    'years_old':'40 лет'\n",
    "}\n",
    "dict_second_person = {\n",
    "    'first_name':'Мария',\n",
    "    'second_name':'Иванова',\n",
    "    'sex':'женский',\n",
    "    'data_birth':'12.01.1990',\n",
    "    'years_old':'31 год'\n",
    "}\n",
    "dict_third_person = {\n",
    "    'first_name':'Николай',\n",
    "    'second_name':'Семенов',\n",
    "    'sex':'мужской',\n",
    "    'data_birth':'12.06.1998',\n",
    "    'years_old':'22 года'\n",
    "}\n",
    "dict_group = {\n",
    "    '+79991234567': dict_first_person,\n",
    "    '+89167645487': dict_second_person,\n",
    "    '+79156451198': dict_third_person\n",
    "}\n",
    "lst = [*dict_group.keys()]\n",
    "# dict_group[lst[-1]]\n",
    "count = 0\n",
    "for i in lst:\n",
    "    count +=1\n",
    "    if count == len(lst):\n",
    "        print(str(i)+\": \"+str(dict_group[i]))\n",
    "\n",
    "    "
   ]
  },
  {
   "cell_type": "code",
   "execution_count": 67,
   "metadata": {},
   "outputs": [
    {
     "name": "stdout",
     "output_type": "stream",
     "text": [
      "{'first_name': 'Петр', 'second_name': 'Петров', 'sex': 'мужской', 'data_birth': '12.06.1980', 'years_old': '40 лет'}\n",
      "{'first_name': 'Мария', 'second_name': 'Иванова', 'sex': 'женский', 'data_birth': '12.01.1990', 'years_old': '31 год'}\n",
      "{'first_name': 'Николай', 'second_name': 'Семенов', 'sex': 'мужской', 'data_birth': '12.06.1998', 'years_old': '22 года'}\n"
     ]
    }
   ],
   "source": [
    "for i in dict_group.values():\n",
    "    print(i)"
   ]
  },
  {
   "cell_type": "code",
   "execution_count": null,
   "metadata": {},
   "outputs": [],
   "source": []
  }
 ],
 "metadata": {
  "kernelspec": {
   "display_name": "Python 3",
   "language": "python",
   "name": "python3"
  },
  "language_info": {
   "codemirror_mode": {
    "name": "ipython",
    "version": 3
   },
   "file_extension": ".py",
   "mimetype": "text/x-python",
   "name": "python",
   "nbconvert_exporter": "python",
   "pygments_lexer": "ipython3",
   "version": "3.8.5"
  }
 },
 "nbformat": 4,
 "nbformat_minor": 4
}
