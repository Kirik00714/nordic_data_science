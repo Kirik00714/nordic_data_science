{
 "cells": [
  {
   "cell_type": "code",
   "execution_count": 1,
   "metadata": {},
   "outputs": [
    {
     "name": "stdout",
     "output_type": "stream",
     "text": [
      "Requirement already satisfied: requests in c:\\anaconda3\\lib\\site-packages (2.24.0)\n",
      "Requirement already satisfied: urllib3!=1.25.0,!=1.25.1,<1.26,>=1.21.1 in c:\\anaconda3\\lib\\site-packages (from requests) (1.25.11)\n",
      "Requirement already satisfied: idna<3,>=2.5 in c:\\anaconda3\\lib\\site-packages (from requests) (2.10)\n",
      "Requirement already satisfied: certifi>=2017.4.17 in c:\\anaconda3\\lib\\site-packages (from requests) (2020.6.20)\n",
      "Requirement already satisfied: chardet<4,>=3.0.2 in c:\\anaconda3\\lib\\site-packages (from requests) (3.0.4)\n"
     ]
    }
   ],
   "source": [
    "!pip install requests"
   ]
  },
  {
   "cell_type": "code",
   "execution_count": 4,
   "metadata": {},
   "outputs": [],
   "source": [
    "import requests"
   ]
  },
  {
   "cell_type": "code",
   "execution_count": 6,
   "metadata": {},
   "outputs": [],
   "source": [
    "lst = [\n",
    "    'https://img.fonwall.ru/o/51/lev_griva_valun_zapovednik.JPG',\n",
    "    'http://luxfon.com/pic/201407/1920x1080/luxfon.com-27942.jpg',\n",
    "    'https://s1.1zoom.ru/big3/985/Lions_457331.jpg'\n",
    "]"
   ]
  },
  {
   "cell_type": "code",
   "execution_count": 17,
   "metadata": {},
   "outputs": [],
   "source": [
    "k = 0\n",
    "for i in lst:\n",
    "    r = requests.get(i)\n",
    "    with open(f'pict_{k}.jpg','wb') as f:\n",
    "        f.write(r.content)\n",
    "    k += 1"
   ]
  },
  {
   "cell_type": "code",
   "execution_count": 92,
   "metadata": {},
   "outputs": [
    {
     "data": {
      "text/plain": [
       "{'Accept-CH': 'Viewport-Width, DPR, Device-Memory, RTT, Downlink, ECT', 'Accept-CH-Lifetime': '31536000', 'Cache-Control': 'private, private, max-age=300, private, max-age=300, no-transform', 'Content-Encoding': 'gzip', 'Content-Security-Policy': \"child-src 'self' data: blob: yabrowser: yandexadexchange.net *.yandexadexchange.net *.kinopoisk.ru www.youtube.com video.khl.ru www.video.khl.ru 1tv.ru www.1tv.ru stream.1tv.ru www.stream.1tv.ru player.vgtrk.com www.player.vgtrk.com my.ntv.ru www.my.ntv.ru www.ntv.ru otr.webcaster.pro www.otr.webcaster.pro news.sportbox.ru yabs.yandex.ru paymentcard.yamoney.ru widget.bookform.ru *.turbopages.org *.turbo.site mc.yandex.md yoomoney.ru yandex.ru *.yandex.ru yastat.net yastatic.net *.yastatic.net yandex.net *.yandex.net;connect-src 'self' blob: wss://*.yandex.net wss://yandex.net wss://*.yandex.ru wss://yandex.ru yandexmetrica.com:* mc.admetrica.ru mc.yandex.md yandex.ru *.yandex.ru yastat.net yastatic.net *.yastatic.net yandex.net *.yandex.net;default-src 'self' blob: yandex.ru *.yandex.ru yastat.net yastatic.net *.yastatic.net yandex.net *.yandex.net;img-src * data: blob:;script-src 'self' 'unsafe-inline' 'unsafe-eval' yandex.ru *.yandex.ru yastat.net yastatic.net *.yastatic.net yandex.net *.yandex.net 'nonce-1517';style-src blob: 'self' 'unsafe-inline' yandex.ru *.yandex.ru yastat.net yastatic.net *.yastatic.net yandex.net *.yandex.net;frame-src 'self' data: blob: yabrowser: yandexadexchange.net *.yandexadexchange.net *.kinopoisk.ru www.youtube.com video.khl.ru www.video.khl.ru 1tv.ru www.1tv.ru stream.1tv.ru www.stream.1tv.ru player.vgtrk.com www.player.vgtrk.com my.ntv.ru www.my.ntv.ru www.ntv.ru otr.webcaster.pro www.otr.webcaster.pro news.sportbox.ru yabs.yandex.ru paymentcard.yamoney.ru widget.bookform.ru *.turbopages.org *.turbo.site mc.yandex.md yoomoney.ru yandex.ru *.yandex.ru yastat.net yastatic.net *.yastatic.net yandex.net *.yandex.net;media-src 'self' data: blob: yandex.ru *.yandex.ru yastat.net yastatic.net *.yastatic.net yandex.net *.yandex.net;frame-ancestors yandex.ru *.yandex.ru sandbox.toloka.yandex.com sandbox.iframe-toloka.com iframe-toloka.com yang.yandex-team.ru;report-uri https://csp.yandex.net/csp?from=web4%3Adesktop&project=web4&reqid=1618339687914293-560611490836220848300160-production-app-host-man-web-yp-283&yandexuid=8622084831618339687&yandex_login=;\", 'Expires': 'Tue, 13 Apr 2021 18:53:07 GMT, Tue, 13 Apr 2021 18:53:07 GMT', 'NEL': '{\"report_to\": \"network-errors\", \"max_age\": 86400, \"success_fraction\": 0.001, \"failure_fraction\": 0.1}', 'Report-To': '{ \"group\": \"network-errors\", \"max_age\": 86400, \"endpoints\": [ { \"url\": \"https://dr.yandex.net/nel\"}]}', 'Set-Cookie': 'yandexuid=8622084831618339687; Path=/; Domain=.yandex.ru; Expires=Thu, 31 Dec 2037 20:59:59 GMT; Secure, ys=wprid.1618339687914293-560611490836220848300160-production-app-host-man-web-yp-283; path=/; domain=.yandex.ru, is_gdpr=0; Path=/; Domain=.yandex.ru; Expires=Thu, 13 Apr 2023 18:48:07 GMT, is_gdpr_b=CIzHVxDVKA==; Path=/; Domain=.yandex.ru; Expires=Thu, 13 Apr 2023 18:48:07 GMT, i=3heewBrNOaxTqPkgYCO81pUmcReef56XVqVbZ472mwP6jsPrQqIOgX7b/HGUR2zaAlGuanBMWgvB4dQDT1W1a50G1gg=; Expires=Thu, 13-Apr-2023 18:48:07 GMT; Domain=.yandex.ru; Path=/; Secure; HttpOnly', 'Strict-Transport-Security': 'max-age=31536000; includeSubDomains', 'Transfer-Encoding': 'chunked', 'X-Content-Type-Options': 'nosniff', 'X-Frame-Options': 'DENY', 'X-Yandex-Items-Count': '15', 'X-Yandex-Req-Id': '1618339687914293-560611490836220848300160-production-app-host-man-web-yp-283', 'X-Yandex-STS': '1', 'content-type': 'text/html; charset=utf-8'}"
      ]
     },
     "execution_count": 92,
     "metadata": {},
     "output_type": "execute_result"
    }
   ],
   "source": [
    "url = 'https://www.yandex.ru/search/'\n",
    "dct = {'text':'python 3',\n",
    "      'lr':'214'}\n",
    "r = requests.get(url,params=dct)\n",
    "r.headers"
   ]
  },
  {
   "cell_type": "code",
   "execution_count": 93,
   "metadata": {},
   "outputs": [
    {
     "data": {
      "text/plain": [
       "['text', 'html']"
      ]
     },
     "execution_count": 93,
     "metadata": {},
     "output_type": "execute_result"
    }
   ],
   "source": [
    "ct = r.headers.get('Content-Type').split(';')[0].split('/')\n",
    "ct"
   ]
  },
  {
   "cell_type": "code",
   "execution_count": 94,
   "metadata": {},
   "outputs": [
    {
     "data": {
      "text/plain": [
       "'utf-8'"
      ]
     },
     "execution_count": 94,
     "metadata": {},
     "output_type": "execute_result"
    }
   ],
   "source": [
    "encoding = r.headers.get('Content-Type').split(';')[1].split('=')[1]\n",
    "encoding"
   ]
  },
  {
   "cell_type": "code",
   "execution_count": 95,
   "metadata": {},
   "outputs": [],
   "source": [
    "if r.ok and ct[0]=='text':\n",
    "    with open('{0}.{1}'.format(dct['text'], ct[1]), 'w', encoding = encoding)as f:\n",
    "        f.write(r.text)"
   ]
  },
  {
   "cell_type": "code",
   "execution_count": null,
   "metadata": {},
   "outputs": [],
   "source": []
  }
 ],
 "metadata": {
  "kernelspec": {
   "display_name": "Python 3",
   "language": "python",
   "name": "python3"
  },
  "language_info": {
   "codemirror_mode": {
    "name": "ipython",
    "version": 3
   },
   "file_extension": ".py",
   "mimetype": "text/x-python",
   "name": "python",
   "nbconvert_exporter": "python",
   "pygments_lexer": "ipython3",
   "version": "3.8.5"
  }
 },
 "nbformat": 4,
 "nbformat_minor": 4
}
